{
 "cells": [
  {
   "attachments": {},
   "cell_type": "markdown",
   "metadata": {},
   "source": [
    "## Learn Hurst exponent for fractional Brownian Motion\n",
    "\n",
    "This example performs to task of predicting Hurst exponent given the synthetic data generated from fractional Brownian motion."
   ]
  },
  {
   "cell_type": "code",
   "execution_count": 1,
   "metadata": {},
   "outputs": [],
   "source": [
    "import equinox as eqx\n",
    "import fbm\n",
    "import jax\n",
    "import jax.numpy as jnp\n",
    "import jax.random as jrandom\n",
    "import matplotlib.pyplot as plt\n",
    "import nets\n",
    "import optax  # https://github.com/deepmind/optax\n",
    "\n",
    "\n",
    "jax.config.update(\"jax_platform_name\", \"cpu\")"
   ]
  },
  {
   "cell_type": "code",
   "execution_count": 2,
   "metadata": {},
   "outputs": [],
   "source": [
    "n_paths_train = 200\n",
    "n_paths_test = 50\n",
    "dt = 1e-2 / 3.0  # 300 time steps\n",
    "hurst_exponent = jnp.around(jnp.linspace(0.2, 0.8, 7), decimals=7).tolist()"
   ]
  },
  {
   "cell_type": "code",
   "execution_count": 3,
   "metadata": {},
   "outputs": [],
   "source": [
    "def dataloader(arrays, batch_size, *, key):\n",
    "    # this taken from equinox documentation\n",
    "    dataset_size = arrays[0].shape[0]\n",
    "    assert all(array.shape[0] == dataset_size for array in arrays)\n",
    "    indices = jnp.arange(dataset_size)\n",
    "    while True:\n",
    "        perm = jrandom.permutation(key, indices)\n",
    "        (key,) = jrandom.split(key, 1)\n",
    "        start = 0\n",
    "        end = batch_size\n",
    "        while end < dataset_size:\n",
    "            batch_perm = perm[start:end]\n",
    "            yield tuple(array[batch_perm] for array in arrays)\n",
    "            start = end\n",
    "            end = start + batch_size"
   ]
  },
  {
   "cell_type": "code",
   "execution_count": 4,
   "metadata": {},
   "outputs": [],
   "source": [
    "def generate_data(key):\n",
    "    train_key, test_key = jrandom.split(key)\n",
    "    X_train, Y_train = [], []\n",
    "    X_test, Y_test = [], []\n",
    "    # generate train\n",
    "    for hurst in hurst_exponent:\n",
    "        train_key, _ = jrandom.split(train_key)\n",
    "        X = fbm.generate_fbm(\n",
    "            hurst=hurst,\n",
    "            n_paths=n_paths_train,\n",
    "            dt=dt,\n",
    "            key=train_key,\n",
    "        )\n",
    "        Y = jnp.array([hurst] * n_paths_train)\n",
    "        X_train.append(X)\n",
    "        Y_train.append(Y)\n",
    "\n",
    "    # generate test\n",
    "    for hurst in hurst_exponent:\n",
    "        test_key, _ = jrandom.split(test_key)\n",
    "        X = fbm.generate_fbm(\n",
    "            hurst=hurst,\n",
    "            n_paths=n_paths_test,\n",
    "            dt=dt,\n",
    "            key=test_key,\n",
    "        )\n",
    "        Y = jnp.array([hurst] * n_paths_test)\n",
    "        X_test.append(X)\n",
    "        Y_test.append(Y)\n",
    "\n",
    "    X_train = jnp.concatenate(X_train)\n",
    "    Y_train = jnp.concatenate(Y_train)\n",
    "    X_test = jnp.concatenate(X_test)\n",
    "    Y_test = jnp.concatenate(Y_test)\n",
    "\n",
    "    return (\n",
    "        X_train[..., None],\n",
    "        Y_train[..., None],\n",
    "        X_test[..., None],\n",
    "        Y_test[..., None],\n",
    "    )"
   ]
  },
  {
   "cell_type": "code",
   "execution_count": 5,
   "metadata": {},
   "outputs": [],
   "source": [
    "seed = 1234\n",
    "key = jrandom.PRNGKey(seed)\n",
    "data_key, loader_key, model_key = jrandom.split(key, 3)"
   ]
  },
  {
   "cell_type": "code",
   "execution_count": 6,
   "metadata": {},
   "outputs": [],
   "source": [
    "X_train, Y_train, X_test, Y_test = generate_data(key=data_key)"
   ]
  },
  {
   "cell_type": "code",
   "execution_count": 7,
   "metadata": {},
   "outputs": [],
   "source": [
    "model = nets.create_simple_net(\n",
    "    dim=1,\n",
    "    signature_depth=3,\n",
    "    augment_layer_size=(3,),\n",
    "    augmented_kernel_size=3,\n",
    "    mlp_width=32,\n",
    "    mlp_depth=5,\n",
    "    output_size=1,\n",
    "    final_activation=jax.nn.sigmoid,\n",
    "    key=model_key,\n",
    ")"
   ]
  },
  {
   "cell_type": "code",
   "execution_count": 8,
   "metadata": {},
   "outputs": [],
   "source": [
    "iter_data = dataloader((X_train, Y_train), batch_size=128, key=loader_key)\n",
    "optim = optax.adam(learning_rate=1e-3)\n",
    "opt_state = optim.init(eqx.filter(model, eqx.is_array))"
   ]
  },
  {
   "cell_type": "code",
   "execution_count": 9,
   "metadata": {},
   "outputs": [],
   "source": [
    "@eqx.filter_value_and_grad\n",
    "def compute_loss(model, x, y):\n",
    "    pred_y = jax.vmap(model)(x)\n",
    "    assert pred_y.shape[0] == y.shape[0]\n",
    "    return jnp.mean(jnp.square(pred_y - y))"
   ]
  },
  {
   "cell_type": "code",
   "execution_count": 10,
   "metadata": {},
   "outputs": [],
   "source": [
    "@eqx.filter_jit\n",
    "def make_step(model, x, y, opt_state):\n",
    "    loss, grads = compute_loss(model, x, y)\n",
    "    updates, opt_state = optim.update(grads, opt_state)\n",
    "    model = eqx.apply_updates(model, updates)\n",
    "    return loss, model, opt_state"
   ]
  },
  {
   "cell_type": "code",
   "execution_count": 11,
   "metadata": {},
   "outputs": [
    {
     "name": "stdout",
     "output_type": "stream",
     "text": [
      "step=0 \t loss=0.041261281818151474\n",
      "step=10 \t loss=0.03442611172795296\n",
      "step=20 \t loss=0.027970541268587112\n",
      "step=30 \t loss=0.02049068734049797\n",
      "step=40 \t loss=0.014842263422906399\n",
      "step=50 \t loss=0.01463926862925291\n",
      "step=60 \t loss=0.008735965006053448\n",
      "step=70 \t loss=0.0038531338796019554\n",
      "step=80 \t loss=0.0031830959487706423\n",
      "step=90 \t loss=0.0017226745840162039\n",
      "step=100 \t loss=0.0018800266552716494\n",
      "step=110 \t loss=0.0012469309149309993\n",
      "step=120 \t loss=0.001055217464454472\n",
      "step=130 \t loss=0.0011177064152434468\n",
      "step=140 \t loss=0.0009607287356629968\n",
      "step=150 \t loss=0.0007560442318208516\n",
      "step=160 \t loss=0.0006463633617386222\n",
      "step=170 \t loss=0.0007553303148597479\n",
      "step=180 \t loss=0.0006547534139826894\n",
      "step=190 \t loss=0.0005832671886309981\n",
      "step=200 \t loss=0.0005575551767833531\n",
      "step=210 \t loss=0.00035020316136069596\n",
      "step=220 \t loss=0.0004003815120086074\n",
      "step=230 \t loss=0.00045127380872145295\n",
      "step=240 \t loss=0.00031438778387382627\n",
      "step=250 \t loss=0.00036406281287781894\n",
      "step=260 \t loss=0.0002983828308060765\n",
      "step=270 \t loss=0.0002879476814996451\n",
      "step=280 \t loss=0.0002255685394629836\n",
      "step=290 \t loss=0.00022613670444115996\n",
      "step=300 \t loss=0.00024316016060765833\n",
      "step=310 \t loss=0.00021550750534515828\n",
      "step=320 \t loss=0.0002071917406283319\n",
      "step=330 \t loss=0.00019002672343049198\n",
      "step=340 \t loss=0.00013162200048100203\n",
      "step=350 \t loss=0.00012771754700224847\n",
      "step=360 \t loss=0.0001422253844793886\n",
      "step=370 \t loss=0.00019014824647456408\n",
      "step=380 \t loss=0.00012071082164766267\n",
      "step=390 \t loss=0.00010335109254810959\n",
      "step=400 \t loss=0.00016220123507082462\n",
      "step=410 \t loss=0.00010574463522061706\n",
      "step=420 \t loss=0.0001059367205016315\n",
      "step=430 \t loss=0.00015133402484934777\n",
      "step=440 \t loss=0.00012403847358655185\n",
      "step=450 \t loss=0.00010137465869775042\n",
      "step=460 \t loss=0.00010347012721467763\n",
      "step=470 \t loss=8.348895789822564e-05\n",
      "step=480 \t loss=9.372731437906623e-05\n",
      "step=490 \t loss=8.70665826369077e-05\n"
     ]
    }
   ],
   "source": [
    "test_mse = []\n",
    "for step, (x, y) in zip(range(500), iter_data):\n",
    "    loss, model, opt_state = make_step(model, x, y, opt_state)\n",
    "    loss = loss.item()\n",
    "    test_mse += [jnp.mean(jnp.square(jax.vmap(model)(X_test) - Y_test)).item()]\n",
    "    if step % 10 == 0:\n",
    "        print(f\"step={step} \\t loss={loss}\")"
   ]
  },
  {
   "cell_type": "code",
   "execution_count": 12,
   "metadata": {},
   "outputs": [
    {
     "data": {
      "image/png": "[encoded data removed]",
      "text/plain": [
       "<Figure size 640x480 with 1 Axes>"
      ]
     },
     "metadata": {},
     "output_type": "display_data"
    }
   ],
   "source": [
    "plt.plot(test_mse)\n",
    "plt.yscale(\"log\")"
   ]
  },
  {
   "cell_type": "code",
   "execution_count": null,
   "metadata": {},
   "outputs": [],
   "source": []
  }
 ],
 "metadata": {
  "kernelspec": {
   "display_name": "Python 3.9.7 ('base')",
   "language": "python",
   "name": "python3"
  },
  "language_info": {
   "codemirror_mode": {
    "name": "ipython",
    "version": 3
   },
   "file_extension": ".py",
   "mimetype": "text/x-python",
   "name": "python",
   "nbconvert_exporter": "python",
   "pygments_lexer": "ipython3",
   "version": "3.9.7"
  },
  "orig_nbformat": 4,
  "vscode": {
   "interpreter": {
    "hash": "f7d1fba74dfd24f4e28e69f7ae18d3d17d4ecc25efd86b65572743c77fabf4a5"
   }
  }
 },
 "nbformat": 4,
 "nbformat_minor": 2
}
