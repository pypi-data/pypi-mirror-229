{
 "cells": [
  {
   "cell_type": "markdown",
   "metadata": {},
   "source": [
    "# Test RLS on account table"
   ]
  },
  {
   "cell_type": "code",
   "execution_count": null,
   "metadata": {},
   "outputs": [],
   "source": [
    "import os\n",
    "\n",
    "os.environ[\"LAMIN_ENV\"]"
   ]
  },
  {
   "cell_type": "code",
   "execution_count": null,
   "metadata": {
    "tags": []
   },
   "outputs": [],
   "source": [
    "import pytest\n",
    "from laminhub_rest.connector import connect_hub, connect_hub_with_auth\n",
    "from laminhub_rest.utils._test import create_test_auth, create_test_account\n",
    "from laminhub_rest.core.account._crud import (\n",
    "    sb_insert_account,\n",
    "    sb_update_account,\n",
    "    sb_select_account_by_handle,\n",
    "    sb_delete_account,\n",
    ")\n",
    "import string, secrets\n",
    "from laminhub_rest.core.account import delete_account\n",
    "from laminhub_rest._clean_ci import clean_ci"
   ]
  },
  {
   "cell_type": "code",
   "execution_count": null,
   "metadata": {},
   "outputs": [],
   "source": [
    "def base62(n_char: int) -> str:\n",
    "    \"\"\"Like nanoid without hyphen and underscore.\"\"\"\n",
    "    alphabet = string.digits + string.ascii_letters.swapcase()\n",
    "    id = \"\".join(secrets.choice(alphabet) for i in range(n_char))\n",
    "    return id"
   ]
  },
  {
   "cell_type": "markdown",
   "metadata": {
    "tags": []
   },
   "source": [
    "## Parametrize "
   ]
  },
  {
   "cell_type": "code",
   "execution_count": null,
   "metadata": {
    "tags": []
   },
   "outputs": [],
   "source": [
    "hub = connect_hub()\n",
    "\n",
    "# Create account 1\n",
    "auth_1 = create_test_auth()\n",
    "access_token_1 = auth_1[\"access_token\"]\n",
    "account_id_1 = auth_1[\"id\"]\n",
    "account_handle_1 = auth_1[\"handle\"]\n",
    "account_hub_1 = connect_hub_with_auth(access_token=access_token_1)\n",
    "\n",
    "# Create account 2\n",
    "auth_2 = create_test_auth()\n",
    "access_token_2 = auth_2[\"access_token\"]\n",
    "account_2 = create_test_account(handle=auth_2[\"handle\"], access_token=access_token_2)\n",
    "account_id_2 = account_2[\"id\"]\n",
    "account_handle_2 = account_2[\"handle\"]\n",
    "account_hub_2 = connect_hub_with_auth(access_token=access_token_2)"
   ]
  },
  {
   "cell_type": "markdown",
   "metadata": {},
   "source": [
    "## Enable everyone to see an account"
   ]
  },
  {
   "cell_type": "code",
   "execution_count": null,
   "metadata": {},
   "outputs": [],
   "source": [
    "account = sb_select_account_by_handle(account_handle_2, hub)\n",
    "\n",
    "assert account is not None"
   ]
  },
  {
   "cell_type": "markdown",
   "metadata": {
    "tags": []
   },
   "source": [
    "## Enable accounts to create a corresponding entry in account table"
   ]
  },
  {
   "cell_type": "markdown",
   "metadata": {},
   "source": [
    "With an anonymous Supabase client"
   ]
  },
  {
   "cell_type": "code",
   "execution_count": null,
   "metadata": {},
   "outputs": [],
   "source": [
    "with pytest.raises(Exception) as error:\n",
    "    account = sb_insert_account(\n",
    "        account_fields={\n",
    "            \"id\": account_id_1,\n",
    "            \"user_id\": account_id_1,\n",
    "            \"lnid\": base62(8),\n",
    "            \"handle\": account_handle_1,\n",
    "        },\n",
    "        supabase_client=hub,\n",
    "    )\n",
    "\n",
    "\n",
    "assert \"new row violates row-level security policy\" in error.value.message"
   ]
  },
  {
   "cell_type": "markdown",
   "metadata": {},
   "source": [
    "Using corresponding account authentication"
   ]
  },
  {
   "cell_type": "code",
   "execution_count": null,
   "metadata": {},
   "outputs": [],
   "source": [
    "account = sb_insert_account(\n",
    "    account_fields={\n",
    "        \"id\": account_id_1,\n",
    "        \"user_id\": account_id_1,\n",
    "        \"lnid\": base62(8),\n",
    "        \"handle\": account_handle_1,\n",
    "    },\n",
    "    supabase_client=account_hub_1,\n",
    ")\n",
    "\n",
    "assert account is not None"
   ]
  },
  {
   "cell_type": "markdown",
   "metadata": {
    "tags": []
   },
   "source": [
    "## Enable accounts to update their data"
   ]
  },
  {
   "cell_type": "markdown",
   "metadata": {},
   "source": [
    "Using corresponding account authentication"
   ]
  },
  {
   "cell_type": "code",
   "execution_count": null,
   "metadata": {},
   "outputs": [],
   "source": [
    "account = sb_update_account(\n",
    "    account_id=account_id_1,\n",
    "    account_fields={\"name\": \"Local test user 2 new name\"},\n",
    "    supabase_client=account_hub_1,\n",
    ")\n",
    "\n",
    "assert (\n",
    "    sb_select_account_by_handle(handle=account_handle_1, supabase_client=account_hub_1)[\n",
    "        \"name\"\n",
    "    ]\n",
    "    == \"Local test user 2 new name\"\n",
    ")\n",
    "assert account is not None"
   ]
  },
  {
   "cell_type": "markdown",
   "metadata": {},
   "source": [
    "Using another account authentication"
   ]
  },
  {
   "cell_type": "code",
   "execution_count": null,
   "metadata": {},
   "outputs": [],
   "source": [
    "account = sb_update_account(\n",
    "    account_id=account_id_1,\n",
    "    account_fields={\"name\": \"Local test user 2 another new name\"},\n",
    "    supabase_client=account_hub_2,\n",
    ")\n",
    "\n",
    "assert (\n",
    "    sb_select_account_by_handle(handle=account_handle_1, supabase_client=account_hub_1)[\n",
    "        \"name\"\n",
    "    ]\n",
    "    == \"Local test user 2 new name\"\n",
    ")\n",
    "assert account is None"
   ]
  },
  {
   "cell_type": "markdown",
   "metadata": {},
   "source": [
    "With an anonymous Supabase client"
   ]
  },
  {
   "cell_type": "code",
   "execution_count": null,
   "metadata": {},
   "outputs": [],
   "source": [
    "account = sb_update_account(\n",
    "    account_id=account_id_1,\n",
    "    account_fields={\"name\": \"Local test user 2 another new name\"},\n",
    "    supabase_client=hub,\n",
    ")\n",
    "\n",
    "assert (\n",
    "    sb_select_account_by_handle(handle=account_handle_1, supabase_client=hub)[\"name\"]\n",
    "    == \"Local test user 2 new name\"\n",
    ")\n",
    "assert account is None"
   ]
  },
  {
   "cell_type": "markdown",
   "metadata": {},
   "source": [
    "## Enable accounts to delete their entry in account table"
   ]
  },
  {
   "cell_type": "markdown",
   "metadata": {},
   "source": [
    "Using corresponding account authentication"
   ]
  },
  {
   "cell_type": "code",
   "execution_count": null,
   "metadata": {
    "tags": []
   },
   "outputs": [],
   "source": [
    "account = sb_delete_account(handle=account_handle_1, supabase_client=account_hub_1)\n",
    "\n",
    "assert (\n",
    "    sb_select_account_by_handle(handle=account_handle_1, supabase_client=account_hub_1)\n",
    "    is None\n",
    ")\n",
    "assert account is not None"
   ]
  },
  {
   "cell_type": "markdown",
   "metadata": {},
   "source": [
    "Using corresponding account authentication"
   ]
  },
  {
   "cell_type": "code",
   "execution_count": null,
   "metadata": {},
   "outputs": [],
   "source": [
    "account = sb_delete_account(handle=account_handle_2, supabase_client=account_hub_1)\n",
    "\n",
    "assert (\n",
    "    sb_select_account_by_handle(handle=account_handle_2, supabase_client=account_hub_2)\n",
    "    is not None\n",
    ")\n",
    "assert account is None"
   ]
  },
  {
   "cell_type": "markdown",
   "metadata": {},
   "source": [
    "Using corresponding account authentication"
   ]
  },
  {
   "cell_type": "code",
   "execution_count": null,
   "metadata": {},
   "outputs": [],
   "source": [
    "account = sb_delete_account(handle=account_handle_2, supabase_client=hub)\n",
    "\n",
    "assert (\n",
    "    sb_select_account_by_handle(handle=account_handle_2, supabase_client=hub)\n",
    "    is not None\n",
    ")\n",
    "assert account is None"
   ]
  },
  {
   "cell_type": "markdown",
   "metadata": {},
   "source": [
    "## Clean up"
   ]
  },
  {
   "cell_type": "code",
   "execution_count": null,
   "metadata": {},
   "outputs": [],
   "source": [
    "delete_account(account_handle_1, access_token_1)\n",
    "delete_account(account_handle_2, access_token_2)"
   ]
  },
  {
   "cell_type": "code",
   "execution_count": null,
   "metadata": {},
   "outputs": [],
   "source": [
    "clean_ci()"
   ]
  }
 ],
 "metadata": {
  "kernelspec": {
   "display_name": "Python 3 (ipykernel)",
   "language": "python",
   "name": "python3"
  },
  "language_info": {
   "codemirror_mode": {
    "name": "ipython",
    "version": 3
   },
   "file_extension": ".py",
   "mimetype": "text/x-python",
   "name": "python",
   "nbconvert_exporter": "python",
   "pygments_lexer": "ipython3",
   "version": "3.9.15"
  },
  "vscode": {
   "interpreter": {
    "hash": "2841734f87827db3a7b3181a6051fe720e9968e703956c2bd6988b5a29362801"
   }
  }
 },
 "nbformat": 4,
 "nbformat_minor": 4
}
