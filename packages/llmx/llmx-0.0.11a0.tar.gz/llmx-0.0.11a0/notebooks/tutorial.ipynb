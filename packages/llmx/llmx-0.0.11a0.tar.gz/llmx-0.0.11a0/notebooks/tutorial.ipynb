{
 "cells": [
  {
   "cell_type": "code",
   "execution_count": 8,
   "metadata": {},
   "outputs": [],
   "source": [
    "from llmx import  llm, TextGenerationConfig\n",
    "import os  "
   ]
  },
  {
   "cell_type": "code",
   "execution_count": 2,
   "metadata": {},
   "outputs": [],
   "source": [
    "config = TextGenerationConfig( \n",
    "    n=1,\n",
    "    temperature=0.8,\n",
    "    max_tokens=100,\n",
    "    top_p=1.0,\n",
    "    top_k=50,\n",
    "    frequency_penalty=0.0,\n",
    "    presence_penalty=0.0,\n",
    ")\n",
    "messages = [\n",
    "    {\"role\": \"system\", \"content\": \"You are a helpful assistant that can explain concepts clearly to a 6 year old child.\"},\n",
    "    {\"role\": \"user\", \"content\": \"What is  gravity?\"}\n",
    "]"
   ]
  },
  {
   "attachments": {},
   "cell_type": "markdown",
   "metadata": {},
   "source": [
    "## llmx Supports Multiple Providers \n",
    "\n",
    "### OpenAI"
   ]
  },
  {
   "cell_type": "code",
   "execution_count": 3,
   "metadata": {},
   "outputs": [
    {
     "name": "stdout",
     "output_type": "stream",
     "text": [
      "Gravity is like a big invisible force that pulls things towards each other. It's what keeps us on the ground and makes things fall down when we drop them. It's like a big hug from the Earth that keeps us from floating away into space.\n"
     ]
    }
   ],
   "source": [
    "openai_gen = llm(provider=\"openai\", api_key=os.environ[\"OPENAI_API_KEY\"])\n",
    "openai_config = TextGenerationConfig(model=\"gpt-3.5-turbo\", use_cache=False)\n",
    "openai_response = openai_gen.generate(messages, config=openai_config)\n",
    "print(openai_response.text[0].content)"
   ]
  },
  {
   "cell_type": "markdown",
   "metadata": {},
   "source": [
    "### Azure OpenAI"
   ]
  },
  {
   "cell_type": "code",
   "execution_count": 4,
   "metadata": {},
   "outputs": [
    {
     "name": "stdout",
     "output_type": "stream",
     "text": [
      "Gravity is a force that pulls things towards each other. It's what keeps us on the ground and what makes things fall down. Imagine if you throw a ball up in the air, it comes back down because of gravity. The bigger an object is, the more gravity it has. That's why the Earth has a lot of gravity and why we don't float away into space!\n"
     ]
    }
   ],
   "source": [
    "azure_openai_gen = llm(\n",
    "    provider=\"openai\",\n",
    "    api_type=\"azure\",\n",
    "    api_base=os.environ[\"AZURE_OPENAI_BASE\"],\n",
    "    api_key=os.environ[\"AZURE_OPENAI_API_KEY\"],\n",
    "    api_version=\"2023-07-01-preview\",\n",
    ")\n",
    "openai_config = TextGenerationConfig(model=\"gpt-35-turbo-v0301\", use_cache=True)\n",
    "openai_response = azure_openai_gen.generate(messages, config=openai_config)\n",
    "print(openai_response.text[0].content)"
   ]
  },
  {
   "cell_type": "markdown",
   "metadata": {},
   "source": [
    "### PaLM (Google) \n"
   ]
  },
  {
   "cell_type": "code",
   "execution_count": 5,
   "metadata": {},
   "outputs": [
    {
     "name": "stdout",
     "output_type": "stream",
     "text": [
      " Gravity is a force that pulls objects towards each other. It is what keeps us on the ground and keeps the planets in orbit around the sun. Gravity is always pulling on us, but we don't notice it because we are used to it. But if you jump up in the air, you will feel the force of gravity pulling you back down to the ground.\n"
     ]
    }
   ],
   "source": [
    "palm_gen = llm(\n",
    "    provider=\"palm\",\n",
    "    palm_key_file=os.environ[\"PALM_SERVICE_ACCOUNT_KEY_FILE\"],\n",
    "    project_id=os.environ[\"PALM_PROJECT_ID\"],\n",
    "    project_location=os.environ[\"PALM_PROJECT_LOCATION\"],\n",
    ")\n",
    "palm_config = TextGenerationConfig(\n",
    "    model=\"codechat-bison\", temperature=0, use_cache=True\n",
    ")\n",
    "palm_response = palm_gen.generate(messages, config=palm_config)\n",
    "print(palm_response.text[0].content)"
   ]
  },
  {
   "cell_type": "markdown",
   "metadata": {},
   "source": [
    "### Cohere"
   ]
  },
  {
   "cell_type": "code",
   "execution_count": 6,
   "metadata": {},
   "outputs": [
    {
     "name": "stdout",
     "output_type": "stream",
     "text": [
      "Gravity is a force that pulls things together. It is what makes things fall to the ground and what holds us on the earth. Gravity is a fundamental force of nature that affects everything around us. It is a property of all matter, and it is what makes things heavy. Gravity is also what causes the moon to orbit the earth and the planets to orbit the sun. It is a very important force that plays a big role in our lives.\n"
     ]
    }
   ],
   "source": [
    "cohere_gen = llm(provider=\"cohere\")\n",
    "cohere_config = TextGenerationConfig(model=\"command\", max_tokens=4050, use_cache=True)\n",
    "cohere_response = cohere_gen.generate(messages, config=cohere_config)\n",
    "print(cohere_response.text[0].content)"
   ]
  },
  {
   "cell_type": "markdown",
   "metadata": {},
   "source": [
    "### Local HuggingFace Model"
   ]
  },
  {
   "cell_type": "code",
   "execution_count": 7,
   "metadata": {},
   "outputs": [
    {
     "name": "stderr",
     "output_type": "stream",
     "text": [
      "/home/victordibia/.local/lib/python3.9/site-packages/tqdm/auto.py:22: TqdmWarning: IProgress not found. Please update jupyter and ipywidgets. See https://ipywidgets.readthedocs.io/en/stable/user_install.html\n",
      "  from .autonotebook import tqdm as notebook_tqdm\n",
      "Loading checkpoint shards: 100%|██████████| 3/3 [00:09<00:00,  3.16s/it]\n"
     ]
    },
    {
     "name": "stdout",
     "output_type": "stream",
     "text": [
      "Gravity is a force that pulls things down towards the ground. Imagine you're holding an apple in your hand - the apple wants to fall down because of gravity. It's like a gentle hug from the Earth that keeps us on the ground and makes things fall when we let go of them.\n"
     ]
    }
   ],
   "source": [
    "hf_generator = llm(provider=\"hf\", model=\"uukuguy/speechless-llama2-hermes-orca-platypus-13b\", device_map=\"auto\")\n",
    "hf_config = TextGenerationConfig(temperature=0, max_tokens=650, use_cache=False)\n",
    "hf_response = hf_generator.generate(messages, config=hf_config)\n",
    "print(hf_response.text[0].content)"
   ]
  }
 ],
 "metadata": {
  "kernelspec": {
   "display_name": "base",
   "language": "python",
   "name": "python3"
  },
  "language_info": {
   "codemirror_mode": {
    "name": "ipython",
    "version": 3
   },
   "file_extension": ".py",
   "mimetype": "text/x-python",
   "name": "python",
   "nbconvert_exporter": "python",
   "pygments_lexer": "ipython3",
   "version": "3.9.17"
  },
  "orig_nbformat": 4
 },
 "nbformat": 4,
 "nbformat_minor": 2
}
