{
  "cells": [
    {
      "cell_type": "markdown",
      "metadata": {
        "hideCode": true,
        "hidePrompt": true
      },
      "source": [
        "# PGFinder Interactive Notebook\n",
        "\n",
        "PGFinder is now run through [pgfinder-gui](https://mesnage-org.github.io/pgfinder-gui). This is a faster and more reliable web-based application!\n",
        "Please get in touch if you have any issues by emailing [s.mesnage@sheffield.ac.uk](mailto:s.mesnage@sheffield.ac.uk)."
      ]
    }
  ],
  "metadata": {
    "hide_code_all_hidden": true,
    "kernelspec": {
      "display_name": "Python 3 (ipykernel)",
      "language": "python",
      "name": "python3"
    },
    "language_info": {
      "codemirror_mode": {
        "name": "ipython",
        "version": 3
      },
      "file_extension": ".py",
      "mimetype": "text/x-python",
      "name": "python",
      "nbconvert_exporter": "python",
      "pygments_lexer": "ipython3",
      "version": "3.11.3"
    }
  },
  "nbformat": 4,
  "nbformat_minor": 2
}
