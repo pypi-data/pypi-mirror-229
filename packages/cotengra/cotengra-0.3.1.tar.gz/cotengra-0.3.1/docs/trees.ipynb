{
 "cells": [
  {
   "cell_type": "markdown",
   "id": "43a0bfd5-762c-42c4-bf40-7c7cba1c33f4",
   "metadata": {},
   "source": [
    "# Tree Surgery\n",
    "\n",
    "The core data structure in [`cotengra`](cotengra) is the \n",
    "[`ContractionTree`](cotengra.core.ContractionTree), which as well as describing \n",
    "the tree generates all the required intermediate indices and equations etc. \n",
    "This page describes some aspects of the design and ways you can modify or \n",
    "construct trees yourself.\n",
    "\n",
    "First we just generate a small random contraction:"
   ]
  },
  {
   "cell_type": "code",
   "execution_count": 1,
   "id": "a4b0dd86-073a-499e-8a20-2c2eb9833b71",
   "metadata": {},
   "outputs": [
    {
     "data": {
      "image/svg+xml": "<?xml version=\"1.0\" encoding=\"utf-8\" standalone=\"no\"?>\n<!DOCTYPE svg PUBLIC \"-//W3C//DTD SVG 1.1//EN\"\n  \"http://www.w3.org/Graphics/SVG/1.1/DTD/svg11.dtd\">\n<svg xmlns:xlink=\"http://www.w3.org/1999/xlink\" width=\"293.4pt\" height=\"174.680542pt\" viewBox=\"0 0 293.4 174.680542\" xmlns=\"http://www.w3.org/2000/svg\" version=\"1.1\">\n <metadata>\n  <rdf:RDF xmlns:dc=\"http://purl.org/dc/elements/1.1/\" xmlns:cc=\"http://creativecommons.org/ns#\" xmlns:rdf=\"http://www.w3.org/1999/02/22-rdf-syntax-ns#\">\n   <cc:Work>\n    <dc:type rdf:resource=\"http://purl.org/dc/dcmitype/StillImage\"/>\n    <dc:date>2022-01-12T11:36:03.067371</dc:date>\n    <dc:format>image/svg+xml</dc:format>\n    <dc:creator>\n     <cc:Agent>\n      <dc:title>Matplotlib v3.5.0, https://matplotlib.org/</dc:title>\n     </cc:Agent>\n    </dc:creator>\n   </cc:Work>\n  </rdf:RDF>\n </metadata>\n <defs>\n  <style type=\"text/css\">*{stroke-linejoin: round; stroke-linecap: butt}</style>\n </defs>\n <g id=\"figure_1\">\n  <g id=\"patch_1\">\n   <path d=\"M 0 174.680542 \nL 293.4 174.680542 \nL 293.4 0 \nL 0 0 \nL 0 174.680542 \nz\n\" style=\"fill: none\"/>\n  </g>\n  <g id=\"axes_1\">\n   <g id=\"LineCollection_1\">\n    <path d=\"M 180.358876 101.019167 \nL 220.939186 113.147118 \n\" clip-path=\"url(#p777366fee4)\" style=\"fill: none; stroke: #808080; stroke-opacity: 0.333333\"/>\n    <path d=\"M 180.358876 101.019167 \nL 209.930841 75.040409 \n\" clip-path=\"url(#p777366fee4)\" style=\"fill: none; stroke: #808080; stroke-opacity: 0.333333; stroke-width: 1.584963\"/>\n    <path d=\"M 180.358876 101.019167 \nL 138.084104 98.891998 \n\" clip-path=\"url(#p777366fee4)\" style=\"fill: none; stroke: #808080; stroke-opacity: 0.333333; stroke-width: 1.584963\"/>\n    <path d=\"M 220.939186 113.147118 \nL 235.965711 153.5719 \n\" clip-path=\"url(#p777366fee4)\" style=\"fill: none; stroke-dasharray: 3.7,1.6; stroke-dashoffset: 0; stroke: #808080; stroke-opacity: 0.333333\"/>\n    <path d=\"M 220.939186 113.147118 \nL 261.989256 98.274687 \n\" clip-path=\"url(#p777366fee4)\" style=\"fill: none; stroke: #808080; stroke-opacity: 0.333333; stroke-width: 1.584963\"/>\n    <path d=\"M 220.939186 113.147118 \nL 209.930841 75.040409 \n\" clip-path=\"url(#p777366fee4)\" style=\"fill: none; stroke: #808080; stroke-opacity: 0.333333; stroke-width: 1.584963\"/>\n    <path d=\"M 138.084104 98.891998 \nL 103.953234 125.616959 \n\" clip-path=\"url(#p777366fee4)\" style=\"fill: none; stroke: #808080; stroke-opacity: 0.333333\"/>\n    <path d=\"M 138.084104 98.891998 \nL 103.096545 73.966546 \n\" clip-path=\"url(#p777366fee4)\" style=\"fill: none; stroke: #808080; stroke-opacity: 0.333333\"/>\n    <path d=\"M 48.631133 21.108642 \nL 68.269537 57.176664 \n\" clip-path=\"url(#p777366fee4)\" style=\"fill: none; stroke-dasharray: 3.7,1.6; stroke-dashoffset: 0; stroke: #808080; stroke-opacity: 0.333333\"/>\n    <path d=\"M 68.269537 57.176664 \nL 103.096545 73.966546 \n\" clip-path=\"url(#p777366fee4)\" style=\"fill: none; stroke: #808080; stroke-opacity: 0.333333\"/>\n    <path d=\"M 68.269537 57.176664 \nL 68.285416 98.695752 \n\" clip-path=\"url(#p777366fee4)\" style=\"fill: none; stroke: #808080; stroke-opacity: 0.333333; stroke-width: 1.584963\"/>\n    <path d=\"M 103.096545 73.966546 \nL 68.285416 98.695752 \n\" clip-path=\"url(#p777366fee4)\" style=\"fill: none; stroke: #808080; stroke-opacity: 0.333333\"/>\n    <path d=\"M 68.285416 98.695752 \nL 31.410744 120.337276 \n\" clip-path=\"url(#p777366fee4)\" style=\"fill: none; stroke: #808080; stroke-opacity: 0.333333; stroke-width: 1.584963\"/>\n    <path d=\"M 68.285416 98.695752 \nL 103.953234 125.616959 \n\" clip-path=\"url(#p777366fee4)\" style=\"fill: none; stroke: #808080; stroke-opacity: 0.333333\"/>\n   </g>\n   <g id=\"text_1\">\n    <g id=\"patch_2\">\n     <path d=\"M 191.365167 111.226268 \nL 202.797083 117.020018 \nL 209.932895 102.940017 \nL 198.500978 97.146267 \nL 191.365167 111.226268 \nz\n\" clip-path=\"url(#p777366fee4)\" style=\"fill: none; opacity: 0\"/>\n    </g>\n    <g clip-path=\"url(#p777366fee4)\">\n     <!-- h -->\n     <g style=\"fill: #808080; opacity: 0.9\" transform=\"translate(197.493482 107.982533)rotate(-333.123891)scale(0.08 -0.08)\">\n      <defs>\n       <path id=\"DejaVuSansMono-68\" d=\"M 3284 2169 \nL 3284 0 \nL 2706 0 \nL 2706 2169 \nQ 2706 2641 2540 2862 \nQ 2375 3084 2022 3084 \nQ 1619 3084 1401 2798 \nQ 1184 2513 1184 1978 \nL 1184 0 \nL 609 0 \nL 609 4863 \nL 1184 4863 \nL 1184 2975 \nQ 1338 3275 1600 3429 \nQ 1863 3584 2222 3584 \nQ 2756 3584 3020 3232 \nQ 3284 2881 3284 2169 \nz\n\" transform=\"scale(0.015625)\"/>\n      </defs>\n      <use xlink:href=\"#DejaVuSansMono-68\"/>\n     </g>\n    </g>\n   </g>\n   <g id=\"text_2\">\n    <g id=\"patch_3\">\n     <path d=\"M 198.126375 97.749159 \nL 205.269382 87.108026 \nL 192.163341 78.310417 \nL 185.020335 88.95155 \nL 198.126375 97.749159 \nz\n\" clip-path=\"url(#p777366fee4)\" style=\"fill: none; opacity: 0\"/>\n    </g>\n    <g clip-path=\"url(#p777366fee4)\">\n     <!-- k -->\n     <g style=\"fill: #808080; opacity: 0.9\" transform=\"translate(195.653211 91.271388)rotate(-56.127973)scale(0.08 -0.08)\">\n      <defs>\n       <path id=\"DejaVuSansMono-6b\" d=\"M 738 4863 \nL 1331 4863 \nL 1331 2047 \nL 2841 3500 \nL 3541 3500 \nL 2163 2181 \nL 3756 0 \nL 3053 0 \nL 1759 1806 \nL 1331 1403 \nL 1331 0 \nL 738 0 \nL 738 4863 \nz\n\" transform=\"scale(0.015625)\"/>\n      </defs>\n      <use xlink:href=\"#DejaVuSansMono-6b\"/>\n     </g>\n    </g>\n   </g>\n   <g id=\"text_3\">\n    <g id=\"patch_4\">\n     <path d=\"M 152.165556 107.274696 \nL 164.935403 108.364317 \nL 166.277423 92.636469 \nL 153.507576 91.546848 \nL 152.165556 107.274696 \nz\n\" clip-path=\"url(#p777366fee4)\" style=\"fill: none; opacity: 0\"/>\n    </g>\n    <g clip-path=\"url(#p777366fee4)\">\n     <!-- o -->\n     <g style=\"fill: #808080; opacity: 0.9\" transform=\"translate(156.632598 101.971527)rotate(-355.122902)scale(0.08 -0.08)\">\n      <defs>\n       <path id=\"DejaVuSansMono-6f\" d=\"M 1925 3097 \nQ 1488 3097 1263 2756 \nQ 1038 2416 1038 1747 \nQ 1038 1081 1263 739 \nQ 1488 397 1925 397 \nQ 2366 397 2591 739 \nQ 2816 1081 2816 1747 \nQ 2816 2416 2591 2756 \nQ 2366 3097 1925 3097 \nz\nM 1925 3584 \nQ 2653 3584 3039 3112 \nQ 3425 2641 3425 1747 \nQ 3425 850 3040 379 \nQ 2656 -91 1925 -91 \nQ 1197 -91 812 379 \nQ 428 850 428 1747 \nQ 428 2641 812 3112 \nQ 1197 3584 1925 3584 \nz\n\" transform=\"scale(0.015625)\"/>\n      </defs>\n      <use xlink:href=\"#DejaVuSansMono-6f\"/>\n     </g>\n    </g>\n   </g>\n   <g id=\"text_4\">\n    <g id=\"patch_5\">\n     <path d=\"M 240.135775 115.790131 \nL 251.055737 109.08113 \nL 242.792667 95.631673 \nL 231.872705 102.340674 \nL 240.135775 115.790131 \nz\n\" clip-path=\"url(#p777366fee4)\" style=\"fill: none; opacity: 0\"/>\n    </g>\n    <g clip-path=\"url(#p777366fee4)\">\n     <!-- c -->\n     <g style=\"fill: #808080; opacity: 0.9\" transform=\"translate(240.579099 108.870483)rotate(-31.565713)scale(0.08 -0.08)\">\n      <defs>\n       <path id=\"DejaVuSansMono-63\" d=\"M 3316 178 \nQ 3084 44 2839 -23 \nQ 2594 -91 2338 -91 \nQ 1525 -91 1067 396 \nQ 609 884 609 1747 \nQ 609 2609 1067 3096 \nQ 1525 3584 2338 3584 \nQ 2591 3584 2831 3518 \nQ 3072 3453 3316 3316 \nL 3316 2713 \nQ 3088 2916 2858 3006 \nQ 2628 3097 2338 3097 \nQ 1797 3097 1506 2747 \nQ 1216 2397 1216 1747 \nQ 1216 1100 1508 748 \nQ 1800 397 2338 397 \nQ 2638 397 2875 489 \nQ 3113 581 3316 775 \nL 3316 178 \nz\n\" transform=\"scale(0.015625)\"/>\n      </defs>\n      <use xlink:href=\"#DejaVuSansMono-63\"/>\n     </g>\n    </g>\n   </g>\n   <g id=\"text_5\">\n    <g id=\"patch_6\">\n     <path d=\"M 206.578456 89.102069 \nL 208.730747 101.736304 \nL 224.291571 99.085458 \nL 222.13928 86.451223 \nL 206.578456 89.102069 \nz\n\" clip-path=\"url(#p777366fee4)\" style=\"fill: none; opacity: 0\"/>\n    </g>\n    <g clip-path=\"url(#p777366fee4)\">\n     <!-- j -->\n     <g style=\"fill: #808080; opacity: 0.9\" transform=\"translate(212.833509 92.094122)rotate(-279.667749)scale(0.08 -0.08)\">\n      <defs>\n       <path id=\"DejaVuSansMono-6a\" d=\"M 1875 -63 \nL 1875 3053 \nL 884 3053 \nL 884 3500 \nL 2450 3500 \nL 2450 -63 \nQ 2450 -672 2170 -1001 \nQ 1891 -1331 1375 -1331 \nL 581 -1331 \nL 581 -844 \nL 1313 -844 \nQ 1594 -844 1734 -648 \nQ 1875 -453 1875 -63 \nz\nM 1875 4863 \nL 2450 4863 \nL 2450 4134 \nL 1875 4134 \nL 1875 4863 \nz\n\" transform=\"scale(0.015625)\"/>\n      </defs>\n      <use xlink:href=\"#DejaVuSansMono-6a\"/>\n     </g>\n    </g>\n   </g>\n   <g id=\"text_6\">\n    <g id=\"patch_7\">\n     <path d=\"M 123.468154 122.121375 \nL 131.178302 111.883705 \nL 118.569184 102.387582 \nL 110.859035 112.625252 \nL 123.468154 122.121375 \nz\n\" clip-path=\"url(#p777366fee4)\" style=\"fill: none; opacity: 0\"/>\n    </g>\n    <g clip-path=\"url(#p777366fee4)\">\n     <!-- e -->\n     <g style=\"fill: #808080; opacity: 0.9\" transform=\"translate(121.350295 115.518895)rotate(-53.016028)scale(0.08 -0.08)\">\n      <defs>\n       <path id=\"DejaVuSansMono-65\" d=\"M 3475 1894 \nL 3475 1613 \nL 984 1613 \nL 984 1594 \nQ 984 1022 1282 709 \nQ 1581 397 2125 397 \nQ 2400 397 2700 484 \nQ 3000 572 3341 750 \nL 3341 178 \nQ 3013 44 2708 -23 \nQ 2403 -91 2119 -91 \nQ 1303 -91 843 398 \nQ 384 888 384 1747 \nQ 384 2584 834 3084 \nQ 1284 3584 2034 3584 \nQ 2703 3584 3089 3131 \nQ 3475 2678 3475 1894 \nz\nM 2900 2063 \nQ 2888 2569 2661 2833 \nQ 2434 3097 2009 3097 \nQ 1594 3097 1325 2822 \nQ 1056 2547 1006 2059 \nL 2900 2063 \nz\n\" transform=\"scale(0.015625)\"/>\n      </defs>\n      <use xlink:href=\"#DejaVuSansMono-65\"/>\n     </g>\n    </g>\n   </g>\n   <g id=\"text_7\">\n    <g id=\"patch_8\">\n     <path d=\"M 110.424383 86.525512 \nL 118.596601 96.398258 \nL 130.756266 86.333032 \nL 122.584048 76.460285 \nL 110.424383 86.525512 \nz\n\" clip-path=\"url(#p777366fee4)\" style=\"fill: none; opacity: 0\"/>\n    </g>\n    <g clip-path=\"url(#p777366fee4)\">\n     <!-- n -->\n     <g style=\"fill: #808080; opacity: 0.9\" transform=\"translate(117.337922 85.995371)rotate(-309.616436)scale(0.08 -0.08)\">\n      <defs>\n       <path id=\"DejaVuSansMono-6e\" d=\"M 3284 2169 \nL 3284 0 \nL 2706 0 \nL 2706 2169 \nQ 2706 2641 2540 2862 \nQ 2375 3084 2022 3084 \nQ 1619 3084 1401 2798 \nQ 1184 2513 1184 1978 \nL 1184 0 \nL 609 0 \nL 609 3500 \nL 1184 3500 \nL 1184 2975 \nQ 1338 3275 1600 3429 \nQ 1863 3584 2222 3584 \nQ 2756 3584 3020 3232 \nQ 3284 2881 3284 2169 \nz\n\" transform=\"scale(0.015625)\"/>\n      </defs>\n      <use xlink:href=\"#DejaVuSansMono-6e\"/>\n     </g>\n    </g>\n   </g>\n   <g id=\"text_8\">\n    <g id=\"patch_9\">\n     <path d=\"M 75.726406 67.626125 \nL 85.648838 75.737944 \nL 95.639675 63.517085 \nL 85.717243 55.405266 \nL 75.726406 67.626125 \nz\n\" clip-path=\"url(#p777366fee4)\" style=\"fill: none; opacity: 0\"/>\n    </g>\n    <g clip-path=\"url(#p777366fee4)\">\n     <!-- f -->\n     <g style=\"fill: #808080; opacity: 0.9\" transform=\"translate(82.408005 65.772939)rotate(-320.733203)scale(0.08 -0.08)\">\n      <defs>\n       <path id=\"DejaVuSansMono-66\" d=\"M 3322 4863 \nL 3322 4384 \nL 2669 4384 \nQ 2359 4384 2239 4257 \nQ 2119 4131 2119 3809 \nL 2119 3500 \nL 3322 3500 \nL 3322 3053 \nL 2119 3053 \nL 2119 0 \nL 1544 0 \nL 1544 3053 \nL 609 3053 \nL 609 3500 \nL 1544 3500 \nL 1544 3744 \nQ 1544 4319 1808 4591 \nQ 2072 4863 2631 4863 \nL 3322 4863 \nz\n\" transform=\"scale(0.015625)\"/>\n      </defs>\n      <use xlink:href=\"#DejaVuSansMono-66\"/>\n     </g>\n    </g>\n   </g>\n   <g id=\"text_9\">\n    <g id=\"patch_10\">\n     <path d=\"M 60.383531 71.529863 \nL 60.386422 84.346113 \nL 76.171421 84.342553 \nL 76.168531 71.526303 \nL 60.383531 71.529863 \nz\n\" clip-path=\"url(#p777366fee4)\" style=\"fill: none; opacity: 0\"/>\n    </g>\n    <g clip-path=\"url(#p777366fee4)\">\n     <!-- m -->\n     <g style=\"fill: #808080; opacity: 0.9\" transform=\"translate(66.048183 75.528586)rotate(-270.012922)scale(0.08 -0.08)\">\n      <defs>\n       <path id=\"DejaVuSansMono-6d\" d=\"M 2113 3144 \nQ 2219 3369 2383 3476 \nQ 2547 3584 2778 3584 \nQ 3200 3584 3373 3257 \nQ 3547 2931 3547 2028 \nL 3547 0 \nL 3022 0 \nL 3022 2003 \nQ 3022 2744 2939 2923 \nQ 2856 3103 2638 3103 \nQ 2388 3103 2295 2911 \nQ 2203 2719 2203 2003 \nL 2203 0 \nL 1678 0 \nL 1678 2003 \nQ 1678 2753 1589 2928 \nQ 1500 3103 1269 3103 \nQ 1041 3103 952 2911 \nQ 863 2719 863 2003 \nL 863 0 \nL 341 0 \nL 341 3500 \nL 863 3500 \nL 863 3200 \nQ 966 3388 1120 3486 \nQ 1275 3584 1472 3584 \nQ 1709 3584 1867 3475 \nQ 2025 3366 2113 3144 \nz\n\" transform=\"scale(0.015625)\"/>\n      </defs>\n      <use xlink:href=\"#DejaVuSansMono-6d\"/>\n     </g>\n    </g>\n   </g>\n   <g id=\"text_10\">\n    <g id=\"patch_11\">\n     <path d=\"M 87.670747 96.302916 \nL 95.856777 86.441619 \nL 83.711214 76.359381 \nL 75.525184 86.220678 \nL 87.670747 96.302916 \nz\n\" clip-path=\"url(#p777366fee4)\" style=\"fill: none; opacity: 0\"/>\n    </g>\n    <g clip-path=\"url(#p777366fee4)\">\n     <!-- i -->\n     <g style=\"fill: #808080; opacity: 0.9\" transform=\"translate(85.867739 89.607603)rotate(-50.303359)scale(0.08 -0.08)\">\n      <defs>\n       <path id=\"DejaVuSansMono-69\" d=\"M 800 3500 \nL 2272 3500 \nL 2272 447 \nL 3413 447 \nL 3413 0 \nL 556 0 \nL 556 447 \nL 1697 447 \nL 1697 3053 \nL 800 3053 \nL 800 3500 \nz\nM 1697 4863 \nL 2272 4863 \nL 2272 4134 \nL 1697 4134 \nL 1697 4863 \nz\n\" transform=\"scale(0.015625)\"/>\n      </defs>\n      <use xlink:href=\"#DejaVuSansMono-69\"/>\n     </g>\n    </g>\n   </g>\n   <g id=\"text_11\">\n    <g id=\"patch_12\">\n     <path d=\"M 50.87357 119.631057 \nL 59.957617 110.590241 \nL 48.82259 99.40197 \nL 39.738543 108.442787 \nL 50.87357 119.631057 \nz\n\" clip-path=\"url(#p777366fee4)\" style=\"fill: none; opacity: 0\"/>\n    </g>\n    <g clip-path=\"url(#p777366fee4)\">\n     <!-- g -->\n     <g style=\"fill: #808080; opacity: 0.9\" transform=\"translate(49.674625 112.755984)rotate(-44.863343)scale(0.08 -0.08)\">\n      <defs>\n       <path id=\"DejaVuSansMono-67\" d=\"M 2681 1778 \nQ 2681 2425 2470 2761 \nQ 2259 3097 1856 3097 \nQ 1434 3097 1212 2761 \nQ 991 2425 991 1778 \nQ 991 1131 1214 792 \nQ 1438 453 1863 453 \nQ 2259 453 2470 793 \nQ 2681 1134 2681 1778 \nz\nM 3256 225 \nQ 3256 -563 2884 -969 \nQ 2513 -1375 1791 -1375 \nQ 1553 -1375 1293 -1331 \nQ 1034 -1288 775 -1203 \nL 775 -634 \nQ 1081 -778 1331 -847 \nQ 1581 -916 1791 -916 \nQ 2256 -916 2468 -662 \nQ 2681 -409 2681 141 \nL 2681 166 \nL 2681 556 \nQ 2544 263 2306 119 \nQ 2069 -25 1728 -25 \nQ 1116 -25 750 465 \nQ 384 956 384 1778 \nQ 384 2603 750 3093 \nQ 1116 3584 1728 3584 \nQ 2066 3584 2300 3450 \nQ 2534 3316 2681 3034 \nL 2681 3488 \nL 3256 3488 \nL 3256 225 \nz\n\" transform=\"scale(0.015625)\"/>\n      </defs>\n      <use xlink:href=\"#DejaVuSansMono-67\"/>\n     </g>\n    </g>\n   </g>\n   <g id=\"text_12\">\n    <g id=\"patch_13\">\n     <path d=\"M 75.954714 111.965832 \nL 83.845225 122.065144 \nL 96.283936 112.346879 \nL 88.393425 102.247567 \nL 75.954714 111.965832 \nz\n\" clip-path=\"url(#p777366fee4)\" style=\"fill: none; opacity: 0\"/>\n    </g>\n    <g clip-path=\"url(#p777366fee4)\">\n     <!-- d -->\n     <g style=\"fill: #808080; opacity: 0.9\" transform=\"translate(82.880454 111.630895)rotate(-308.000226)scale(0.08 -0.08)\">\n      <defs>\n       <path id=\"DejaVuSansMono-64\" d=\"M 2681 3053 \nL 2681 4863 \nL 3256 4863 \nL 3256 0 \nL 2681 0 \nL 2681 441 \nQ 2538 181 2298 45 \nQ 2059 -91 1747 -91 \nQ 1113 -91 748 401 \nQ 384 894 384 1759 \nQ 384 2613 750 3098 \nQ 1116 3584 1747 3584 \nQ 2063 3584 2303 3448 \nQ 2544 3313 2681 3053 \nz\nM 991 1747 \nQ 991 1078 1203 737 \nQ 1416 397 1831 397 \nQ 2247 397 2464 740 \nQ 2681 1084 2681 1747 \nQ 2681 2413 2464 2755 \nQ 2247 3097 1831 3097 \nQ 1416 3097 1203 2756 \nQ 991 2416 991 1747 \nz\n\" transform=\"scale(0.015625)\"/>\n      </defs>\n      <use xlink:href=\"#DejaVuSansMono-64\"/>\n     </g>\n    </g>\n   </g>\n   <g id=\"PathCollection_1\">\n    <defs>\n     <path id=\"C0_0_cfdc22ca17\" d=\"M 0 7.062688 \nC 1.873047 7.062688 3.66963 6.318518 4.994074 4.994074 \nC 6.318518 3.66963 7.062688 1.873047 7.062688 -0 \nC 7.062688 -1.873047 6.318518 -3.66963 4.994074 -4.994074 \nC 3.66963 -6.318518 1.873047 -7.062688 0 -7.062688 \nC -1.873047 -7.062688 -3.66963 -6.318518 -4.994074 -4.994074 \nC -6.318518 -3.66963 -7.062688 -1.873047 -7.062688 0 \nC -7.062688 1.873047 -6.318518 3.66963 -4.994074 4.994074 \nC -3.66963 6.318518 -1.873047 7.062688 0 7.062688 \nz\n\"/>\n    </defs>\n    <g clip-path=\"url(#p777366fee4)\">\n     <use xlink:href=\"#C0_0_cfdc22ca17\" x=\"180.358876\" y=\"101.019167\" style=\"fill: #da5a6a; stroke: #ae4854; stroke-width: 2.825075\"/>\n    </g>\n    <g clip-path=\"url(#p777366fee4)\">\n     <use xlink:href=\"#C0_0_cfdc22ca17\" x=\"220.939186\" y=\"113.147118\" style=\"fill: #8a09a5; stroke: #6e0784; stroke-width: 2.825075\"/>\n    </g>\n    <g clip-path=\"url(#p777366fee4)\">\n     <use xlink:href=\"#C0_0_cfdc22ca17\" x=\"209.930841\" y=\"75.040409\" style=\"fill: #8a09a5; stroke: #6e0784; stroke-width: 2.825075\"/>\n    </g>\n    <g clip-path=\"url(#p777366fee4)\">\n     <use xlink:href=\"#C0_0_cfdc22ca17\" x=\"138.084104\" y=\"98.891998\" style=\"fill: #fdca26; stroke: #caa11e; stroke-width: 2.825075\"/>\n    </g>\n    <g clip-path=\"url(#p777366fee4)\">\n     <use xlink:href=\"#C0_0_cfdc22ca17\" x=\"48.631133\" y=\"21.108642\" style=\"fill: none\"/>\n    </g>\n    <g clip-path=\"url(#p777366fee4)\">\n     <use xlink:href=\"#C0_0_cfdc22ca17\" x=\"68.269537\" y=\"57.176664\" style=\"fill: #f3854b; stroke: #c26b3c; stroke-width: 2.825075\"/>\n    </g>\n    <g clip-path=\"url(#p777366fee4)\">\n     <use xlink:href=\"#C0_0_cfdc22ca17\" x=\"103.096545\" y=\"73.966546\" style=\"fill: #f1f525; stroke: #c1c41e; stroke-width: 2.825075\"/>\n    </g>\n    <g clip-path=\"url(#p777366fee4)\">\n     <use xlink:href=\"#C0_0_cfdc22ca17\" x=\"68.285416\" y=\"98.695752\" style=\"fill: #f0f921; stroke: #c0c71b; stroke-width: 2.825075\"/>\n    </g>\n    <g clip-path=\"url(#p777366fee4)\">\n     <use xlink:href=\"#C0_0_cfdc22ca17\" x=\"31.410744\" y=\"120.337276\" style=\"fill: #8808a6; stroke: #6d0685; stroke-width: 2.825075\"/>\n    </g>\n    <g clip-path=\"url(#p777366fee4)\">\n     <use xlink:href=\"#C0_0_cfdc22ca17\" x=\"235.965711\" y=\"153.5719\" style=\"fill: none\"/>\n    </g>\n    <g clip-path=\"url(#p777366fee4)\">\n     <use xlink:href=\"#C0_0_cfdc22ca17\" x=\"261.989256\" y=\"98.274687\" style=\"fill: #0d0887; stroke: #0a066c; stroke-width: 2.825075\"/>\n    </g>\n    <g clip-path=\"url(#p777366fee4)\">\n     <use xlink:href=\"#C0_0_cfdc22ca17\" x=\"103.953234\" y=\"125.616959\" style=\"fill: #f1834c; stroke: #c1693d; stroke-width: 2.825075\"/>\n    </g>\n   </g>\n   <g id=\"text_13\">\n    <g id=\"patch_14\">\n     <path d=\"M 173.950751 108.911667 \nL 186.767001 108.911667 \nL 186.767001 93.126667 \nL 173.950751 93.126667 \nL 173.950751 108.911667 \nz\n\" clip-path=\"url(#p777366fee4)\" style=\"fill: none; opacity: 0\"/>\n    </g>\n    <g clip-path=\"url(#p777366fee4)\">\n     <!-- 0 -->\n     <g style=\"fill: #808080; opacity: 0.9\" transform=\"translate(177.950751 103.247917)scale(0.08 -0.08)\">\n      <defs>\n       <path id=\"DejaVuSansMono-30\" d=\"M 1509 2344 \nQ 1509 2516 1629 2641 \nQ 1750 2766 1919 2766 \nQ 2094 2766 2219 2641 \nQ 2344 2516 2344 2344 \nQ 2344 2169 2220 2047 \nQ 2097 1925 1919 1925 \nQ 1744 1925 1626 2044 \nQ 1509 2163 1509 2344 \nz\nM 1925 4250 \nQ 1484 4250 1267 3775 \nQ 1050 3300 1050 2328 \nQ 1050 1359 1267 884 \nQ 1484 409 1925 409 \nQ 2369 409 2586 884 \nQ 2803 1359 2803 2328 \nQ 2803 3300 2586 3775 \nQ 2369 4250 1925 4250 \nz\nM 1925 4750 \nQ 2672 4750 3055 4137 \nQ 3438 3525 3438 2328 \nQ 3438 1134 3055 521 \nQ 2672 -91 1925 -91 \nQ 1178 -91 797 521 \nQ 416 1134 416 2328 \nQ 416 3525 797 4137 \nQ 1178 4750 1925 4750 \nz\n\" transform=\"scale(0.015625)\"/>\n      </defs>\n      <use xlink:href=\"#DejaVuSansMono-30\"/>\n     </g>\n    </g>\n   </g>\n   <g id=\"text_14\">\n    <g id=\"patch_15\">\n     <path d=\"M 214.531061 121.039618 \nL 227.347311 121.039618 \nL 227.347311 105.254618 \nL 214.531061 105.254618 \nL 214.531061 121.039618 \nz\n\" clip-path=\"url(#p777366fee4)\" style=\"fill: none; opacity: 0\"/>\n    </g>\n    <g clip-path=\"url(#p777366fee4)\">\n     <!-- 3 -->\n     <g style=\"fill: #808080; opacity: 0.9\" transform=\"translate(218.531061 115.375868)scale(0.08 -0.08)\">\n      <defs>\n       <path id=\"DejaVuSansMono-33\" d=\"M 2425 2497 \nQ 2884 2375 3128 2064 \nQ 3372 1753 3372 1288 \nQ 3372 644 2939 276 \nQ 2506 -91 1741 -91 \nQ 1419 -91 1084 -31 \nQ 750 28 428 141 \nL 428 769 \nQ 747 603 1056 522 \nQ 1366 441 1672 441 \nQ 2191 441 2469 675 \nQ 2747 909 2747 1350 \nQ 2747 1756 2469 1995 \nQ 2191 2234 1716 2234 \nL 1234 2234 \nL 1234 2753 \nL 1716 2753 \nQ 2150 2753 2394 2943 \nQ 2638 3134 2638 3475 \nQ 2638 3834 2411 4026 \nQ 2184 4219 1766 4219 \nQ 1488 4219 1191 4156 \nQ 894 4094 569 3969 \nL 569 4550 \nQ 947 4650 1242 4700 \nQ 1538 4750 1766 4750 \nQ 2447 4750 2855 4408 \nQ 3263 4066 3263 3500 \nQ 3263 3116 3048 2859 \nQ 2834 2603 2425 2497 \nz\n\" transform=\"scale(0.015625)\"/>\n      </defs>\n      <use xlink:href=\"#DejaVuSansMono-33\"/>\n     </g>\n    </g>\n   </g>\n   <g id=\"text_15\">\n    <g id=\"patch_16\">\n     <path d=\"M 203.522716 82.932909 \nL 216.338966 82.932909 \nL 216.338966 67.147909 \nL 203.522716 67.147909 \nL 203.522716 82.932909 \nz\n\" clip-path=\"url(#p777366fee4)\" style=\"fill: none; opacity: 0\"/>\n    </g>\n    <g clip-path=\"url(#p777366fee4)\">\n     <!-- 9 -->\n     <g style=\"fill: #808080; opacity: 0.9\" transform=\"translate(207.522716 77.269159)scale(0.08 -0.08)\">\n      <defs>\n       <path id=\"DejaVuSansMono-39\" d=\"M 1863 2069 \nQ 2266 2069 2495 2359 \nQ 2725 2650 2725 3163 \nQ 2725 3675 2495 3965 \nQ 2266 4256 1863 4256 \nQ 1444 4256 1231 3979 \nQ 1019 3703 1019 3163 \nQ 1019 2619 1230 2344 \nQ 1441 2069 1863 2069 \nz\nM 738 97 \nL 738 678 \nQ 934 563 1156 502 \nQ 1378 441 1619 441 \nQ 2219 441 2526 892 \nQ 2834 1344 2834 2222 \nQ 2688 1909 2422 1742 \nQ 2156 1575 1813 1575 \nQ 1138 1575 767 1990 \nQ 397 2406 397 3169 \nQ 397 3922 776 4336 \nQ 1156 4750 1850 4750 \nQ 2663 4750 3041 4165 \nQ 3419 3581 3419 2328 \nQ 3419 1150 2964 529 \nQ 2509 -91 1644 -91 \nQ 1416 -91 1184 -42 \nQ 953 6 738 97 \nz\n\" transform=\"scale(0.015625)\"/>\n      </defs>\n      <use xlink:href=\"#DejaVuSansMono-39\"/>\n     </g>\n    </g>\n   </g>\n   <g id=\"text_16\">\n    <g id=\"patch_17\">\n     <path d=\"M 131.675979 106.784498 \nL 144.492229 106.784498 \nL 144.492229 90.999498 \nL 131.675979 90.999498 \nL 131.675979 106.784498 \nz\n\" clip-path=\"url(#p777366fee4)\" style=\"fill: none; opacity: 0\"/>\n    </g>\n    <g clip-path=\"url(#p777366fee4)\">\n     <!-- 4 -->\n     <g style=\"fill: #808080; opacity: 0.9\" transform=\"translate(135.675979 101.120748)scale(0.08 -0.08)\">\n      <defs>\n       <path id=\"DejaVuSansMono-34\" d=\"M 2297 4091 \nL 825 1625 \nL 2297 1625 \nL 2297 4091 \nz\nM 2194 4666 \nL 2925 4666 \nL 2925 1625 \nL 3547 1625 \nL 3547 1113 \nL 2925 1113 \nL 2925 0 \nL 2297 0 \nL 2297 1113 \nL 319 1113 \nL 319 1709 \nL 2194 4666 \nz\n\" transform=\"scale(0.015625)\"/>\n      </defs>\n      <use xlink:href=\"#DejaVuSansMono-34\"/>\n     </g>\n    </g>\n   </g>\n   <g id=\"text_17\">\n    <g id=\"patch_18\">\n     <path d=\"M 42.223008 29.001142 \nL 55.039258 29.001142 \nL 55.039258 13.216142 \nL 42.223008 13.216142 \nL 42.223008 29.001142 \nz\n\" clip-path=\"url(#p777366fee4)\" style=\"fill: none; opacity: 0\"/>\n    </g>\n    <g clip-path=\"url(#p777366fee4)\">\n     <!-- b -->\n     <g style=\"fill: #808080; opacity: 0.9\" transform=\"translate(46.223008 23.337392)scale(0.08 -0.08)\">\n      <defs>\n       <path id=\"DejaVuSansMono-62\" d=\"M 2869 1747 \nQ 2869 2416 2656 2756 \nQ 2444 3097 2028 3097 \nQ 1609 3097 1393 2755 \nQ 1178 2413 1178 1747 \nQ 1178 1084 1393 740 \nQ 1609 397 2028 397 \nQ 2444 397 2656 737 \nQ 2869 1078 2869 1747 \nz\nM 1178 3053 \nQ 1316 3309 1558 3446 \nQ 1800 3584 2119 3584 \nQ 2750 3584 3112 3098 \nQ 3475 2613 3475 1759 \nQ 3475 894 3111 401 \nQ 2747 -91 2113 -91 \nQ 1800 -91 1561 45 \nQ 1322 181 1178 441 \nL 1178 0 \nL 603 0 \nL 603 4863 \nL 1178 4863 \nL 1178 3053 \nz\n\" transform=\"scale(0.015625)\"/>\n      </defs>\n      <use xlink:href=\"#DejaVuSansMono-62\"/>\n     </g>\n    </g>\n   </g>\n   <g id=\"text_18\">\n    <g id=\"patch_19\">\n     <path d=\"M 61.861412 65.069164 \nL 74.677662 65.069164 \nL 74.677662 49.284164 \nL 61.861412 49.284164 \nL 61.861412 65.069164 \nz\n\" clip-path=\"url(#p777366fee4)\" style=\"fill: none; opacity: 0\"/>\n    </g>\n    <g clip-path=\"url(#p777366fee4)\">\n     <!-- 1 -->\n     <g style=\"fill: #808080; opacity: 0.9\" transform=\"translate(65.861412 59.405414)scale(0.08 -0.08)\">\n      <defs>\n       <path id=\"DejaVuSansMono-31\" d=\"M 844 531 \nL 1825 531 \nL 1825 4097 \nL 769 3859 \nL 769 4434 \nL 1819 4666 \nL 2450 4666 \nL 2450 531 \nL 3419 531 \nL 3419 0 \nL 844 0 \nL 844 531 \nz\n\" transform=\"scale(0.015625)\"/>\n      </defs>\n      <use xlink:href=\"#DejaVuSansMono-31\"/>\n     </g>\n    </g>\n   </g>\n   <g id=\"text_19\">\n    <g id=\"patch_20\">\n     <path d=\"M 96.68842 81.859046 \nL 109.50467 81.859046 \nL 109.50467 66.074046 \nL 96.68842 66.074046 \nL 96.68842 81.859046 \nz\n\" clip-path=\"url(#p777366fee4)\" style=\"fill: none; opacity: 0\"/>\n    </g>\n    <g clip-path=\"url(#p777366fee4)\">\n     <!-- 6 -->\n     <g style=\"fill: #808080; opacity: 0.9\" transform=\"translate(100.68842 76.195296)scale(0.08 -0.08)\">\n      <defs>\n       <path id=\"DejaVuSansMono-36\" d=\"M 3097 4563 \nL 3097 3981 \nQ 2900 4097 2678 4158 \nQ 2456 4219 2216 4219 \nQ 1616 4219 1306 3767 \nQ 997 3316 997 2438 \nQ 1147 2750 1412 2917 \nQ 1678 3084 2022 3084 \nQ 2697 3084 3067 2670 \nQ 3438 2256 3438 1497 \nQ 3438 741 3056 325 \nQ 2675 -91 1984 -91 \nQ 1172 -91 794 492 \nQ 416 1075 416 2328 \nQ 416 3509 870 4129 \nQ 1325 4750 2188 4750 \nQ 2419 4750 2650 4701 \nQ 2881 4653 3097 4563 \nz\nM 1972 2591 \nQ 1569 2591 1337 2300 \nQ 1106 2009 1106 1497 \nQ 1106 984 1337 693 \nQ 1569 403 1972 403 \nQ 2391 403 2603 679 \nQ 2816 956 2816 1497 \nQ 2816 2041 2603 2316 \nQ 2391 2591 1972 2591 \nz\n\" transform=\"scale(0.015625)\"/>\n      </defs>\n      <use xlink:href=\"#DejaVuSansMono-36\"/>\n     </g>\n    </g>\n   </g>\n   <g id=\"text_20\">\n    <g id=\"patch_21\">\n     <path d=\"M 61.877291 106.588252 \nL 74.693541 106.588252 \nL 74.693541 90.803252 \nL 61.877291 90.803252 \nL 61.877291 106.588252 \nz\n\" clip-path=\"url(#p777366fee4)\" style=\"fill: none; opacity: 0\"/>\n    </g>\n    <g clip-path=\"url(#p777366fee4)\">\n     <!-- 7 -->\n     <g style=\"fill: #808080; opacity: 0.9\" transform=\"translate(65.877291 100.924502)scale(0.08 -0.08)\">\n      <defs>\n       <path id=\"DejaVuSansMono-37\" d=\"M 434 4666 \nL 3372 4666 \nL 3372 4397 \nL 1703 0 \nL 1044 0 \nL 2669 4134 \nL 434 4134 \nL 434 4666 \nz\n\" transform=\"scale(0.015625)\"/>\n      </defs>\n      <use xlink:href=\"#DejaVuSansMono-37\"/>\n     </g>\n    </g>\n   </g>\n   <g id=\"text_21\">\n    <g id=\"patch_22\">\n     <path d=\"M 25.002619 128.229776 \nL 37.818869 128.229776 \nL 37.818869 112.444776 \nL 25.002619 112.444776 \nL 25.002619 128.229776 \nz\n\" clip-path=\"url(#p777366fee4)\" style=\"fill: none; opacity: 0\"/>\n    </g>\n    <g clip-path=\"url(#p777366fee4)\">\n     <!-- 2 -->\n     <g style=\"fill: #808080; opacity: 0.9\" transform=\"translate(29.002619 122.566026)scale(0.08 -0.08)\">\n      <defs>\n       <path id=\"DejaVuSansMono-32\" d=\"M 1166 531 \nL 3309 531 \nL 3309 0 \nL 475 0 \nL 475 531 \nQ 1059 1147 1496 1619 \nQ 1934 2091 2100 2284 \nQ 2413 2666 2522 2902 \nQ 2631 3138 2631 3384 \nQ 2631 3775 2401 3997 \nQ 2172 4219 1772 4219 \nQ 1488 4219 1175 4116 \nQ 863 4013 513 3803 \nL 513 4441 \nQ 834 4594 1145 4672 \nQ 1456 4750 1759 4750 \nQ 2444 4750 2861 4386 \nQ 3278 4022 3278 3431 \nQ 3278 3131 3139 2831 \nQ 3000 2531 2688 2169 \nQ 2513 1966 2180 1606 \nQ 1847 1247 1166 531 \nz\n\" transform=\"scale(0.015625)\"/>\n      </defs>\n      <use xlink:href=\"#DejaVuSansMono-32\"/>\n     </g>\n    </g>\n   </g>\n   <g id=\"text_22\">\n    <g id=\"patch_23\">\n     <path d=\"M 229.557586 161.4644 \nL 242.373836 161.4644 \nL 242.373836 145.6794 \nL 229.557586 145.6794 \nL 229.557586 161.4644 \nz\n\" clip-path=\"url(#p777366fee4)\" style=\"fill: none; opacity: 0\"/>\n    </g>\n    <g clip-path=\"url(#p777366fee4)\">\n     <!-- a -->\n     <g style=\"fill: #808080; opacity: 0.9\" transform=\"translate(233.557586 155.80065)scale(0.08 -0.08)\">\n      <defs>\n       <path id=\"DejaVuSansMono-61\" d=\"M 2194 1759 \nL 2003 1759 \nQ 1500 1759 1245 1582 \nQ 991 1406 991 1056 \nQ 991 741 1181 566 \nQ 1372 391 1709 391 \nQ 2184 391 2456 720 \nQ 2728 1050 2731 1631 \nL 2731 1759 \nL 2194 1759 \nz\nM 3309 1997 \nL 3309 0 \nL 2731 0 \nL 2731 519 \nQ 2547 206 2267 57 \nQ 1988 -91 1588 -91 \nQ 1053 -91 734 211 \nQ 416 513 416 1019 \nQ 416 1603 808 1906 \nQ 1200 2209 1959 2209 \nL 2731 2209 \nL 2731 2300 \nQ 2728 2719 2518 2908 \nQ 2309 3097 1850 3097 \nQ 1556 3097 1256 3012 \nQ 956 2928 672 2766 \nL 672 3341 \nQ 991 3463 1283 3523 \nQ 1575 3584 1850 3584 \nQ 2284 3584 2592 3456 \nQ 2900 3328 3091 3072 \nQ 3209 2916 3259 2686 \nQ 3309 2456 3309 1997 \nz\n\" transform=\"scale(0.015625)\"/>\n      </defs>\n      <use xlink:href=\"#DejaVuSansMono-61\"/>\n     </g>\n    </g>\n   </g>\n   <g id=\"text_23\">\n    <g id=\"patch_24\">\n     <path d=\"M 255.581131 106.167187 \nL 268.397381 106.167187 \nL 268.397381 90.382187 \nL 255.581131 90.382187 \nL 255.581131 106.167187 \nz\n\" clip-path=\"url(#p777366fee4)\" style=\"fill: none; opacity: 0\"/>\n    </g>\n    <g clip-path=\"url(#p777366fee4)\">\n     <!-- 8 -->\n     <g style=\"fill: #808080; opacity: 0.9\" transform=\"translate(259.581131 100.503437)scale(0.08 -0.08)\">\n      <defs>\n       <path id=\"DejaVuSansMono-38\" d=\"M 1925 2216 \nQ 1503 2216 1273 1980 \nQ 1044 1744 1044 1313 \nQ 1044 881 1276 642 \nQ 1509 403 1925 403 \nQ 2350 403 2579 639 \nQ 2809 875 2809 1313 \nQ 2809 1741 2576 1978 \nQ 2344 2216 1925 2216 \nz\nM 1375 2478 \nQ 972 2581 745 2862 \nQ 519 3144 519 3541 \nQ 519 4097 897 4423 \nQ 1275 4750 1925 4750 \nQ 2578 4750 2956 4423 \nQ 3334 4097 3334 3541 \nQ 3334 3144 3107 2862 \nQ 2881 2581 2478 2478 \nQ 2947 2375 3195 2062 \nQ 3444 1750 3444 1253 \nQ 3444 622 3041 265 \nQ 2638 -91 1925 -91 \nQ 1213 -91 811 264 \nQ 409 619 409 1247 \nQ 409 1747 657 2061 \nQ 906 2375 1375 2478 \nz\nM 1147 3481 \nQ 1147 3106 1347 2909 \nQ 1547 2713 1925 2713 \nQ 2306 2713 2506 2909 \nQ 2706 3106 2706 3481 \nQ 2706 3863 2507 4063 \nQ 2309 4263 1925 4263 \nQ 1547 4263 1347 4061 \nQ 1147 3859 1147 3481 \nz\n\" transform=\"scale(0.015625)\"/>\n      </defs>\n      <use xlink:href=\"#DejaVuSansMono-38\"/>\n     </g>\n    </g>\n   </g>\n   <g id=\"text_24\">\n    <g id=\"patch_25\">\n     <path d=\"M 97.545109 133.509459 \nL 110.361359 133.509459 \nL 110.361359 117.724459 \nL 97.545109 117.724459 \nL 97.545109 133.509459 \nz\n\" clip-path=\"url(#p777366fee4)\" style=\"fill: none; opacity: 0\"/>\n    </g>\n    <g clip-path=\"url(#p777366fee4)\">\n     <!-- 5 -->\n     <g style=\"fill: #808080; opacity: 0.9\" transform=\"translate(101.545109 127.845709)scale(0.08 -0.08)\">\n      <defs>\n       <path id=\"DejaVuSansMono-35\" d=\"M 647 4666 \nL 3009 4666 \nL 3009 4134 \nL 1222 4134 \nL 1222 2988 \nQ 1356 3038 1492 3061 \nQ 1628 3084 1766 3084 \nQ 2491 3084 2916 2656 \nQ 3341 2228 3341 1497 \nQ 3341 759 2895 334 \nQ 2450 -91 1678 -91 \nQ 1306 -91 998 -41 \nQ 691 9 447 109 \nL 447 750 \nQ 734 594 1025 517 \nQ 1316 441 1619 441 \nQ 2141 441 2423 716 \nQ 2706 991 2706 1497 \nQ 2706 1997 2414 2275 \nQ 2122 2553 1600 2553 \nQ 1347 2553 1106 2495 \nQ 866 2438 647 2322 \nL 647 4666 \nz\n\" transform=\"scale(0.015625)\"/>\n      </defs>\n      <use xlink:href=\"#DejaVuSansMono-35\"/>\n     </g>\n    </g>\n   </g>\n  </g>\n </g>\n <defs>\n  <clipPath id=\"p777366fee4\">\n   <rect x=\"7.2\" y=\"7.2\" width=\"279\" height=\"160.280542\"/>\n  </clipPath>\n </defs>\n</svg>\n",
      "text/plain": [
       "<Figure size 360x360 with 1 Axes>"
      ]
     },
     "metadata": {},
     "output_type": "display_data"
    }
   ],
   "source": [
    "%config InlineBackend.figure_formats = ['svg']\n",
    "import cotengra as ctg\n",
    "\n",
    "# generate a random contraction\n",
    "inputs, output, shapes, size_dict = ctg.utils.rand_equation(10, 3, n_out=2, seed=666)\n",
    "\n",
    "# turn into a hypergraph in order to visualize\n",
    "hg = ctg.get_hypergraph(inputs, output, size_dict)\n",
    "hg.plot()"
   ]
  },
  {
   "cell_type": "markdown",
   "id": "cffdc1f6-cbbb-4c81-b04f-8bc14698a2b5",
   "metadata": {},
   "source": [
    "## Design"
   ]
  },
  {
   "cell_type": "markdown",
   "id": "e96566e9-3cd7-4a5b-81ab-df876ff62e3a",
   "metadata": {},
   "source": [
    "We can create an empty tree with the following:"
   ]
  },
  {
   "cell_type": "code",
   "execution_count": 2,
   "id": "b7680a24-d233-4f53-a404-f9627fd99ba3",
   "metadata": {},
   "outputs": [
    {
     "data": {
      "text/plain": [
       "<ContractionTree(N=10, branches=0, complete=False)>"
      ]
     },
     "execution_count": 2,
     "metadata": {},
     "output_type": "execute_result"
    }
   ],
   "source": [
    "tree = ctg.ContractionTree(inputs, output, size_dict)\n",
    "tree"
   ]
  },
  {
   "cell_type": "markdown",
   "id": "3efc6c42-057f-4220-bbb1-8496b395438d",
   "metadata": {},
   "source": [
    "```{note}\n",
    "You can also initialize an empty tree with [`ContractionTree.from_eq`](cotengra.core.ContractionTree.from_eq) or construct a completed tree with [`ContractionTree.from_path`](cotengra.core.ContractionTree.from_path) and [`ContractionTree.from_info`](cotengra.core.ContractionTree.from_info). The [`search`](cotengra.hyper.HyperOptimizer.search) method of optimizers also directly returns a tree.\n",
    "```"
   ]
  },
  {
   "cell_type": "markdown",
   "id": "f9986d72-400b-455c-b922-ef0bba49f1b5",
   "metadata": {},
   "source": [
    "The nodes of the tree are frozen sets of integers, describing groups of inputs which form intermediate tensors. Initially only the final output tensor (tree root node), and input tensors (tree leaf nodes) are known:"
   ]
  },
  {
   "cell_type": "code",
   "execution_count": 3,
   "id": "33072c14-7eba-46d7-a95f-537b05b78270",
   "metadata": {},
   "outputs": [
    {
     "name": "stdout",
     "output_type": "stream",
     "text": [
      "frozenset({0, 1, 2, 3, 4, 5, 6, 7, 8, 9})\n"
     ]
    }
   ],
   "source": [
    "print(tree.root)"
   ]
  },
  {
   "cell_type": "code",
   "execution_count": 4,
   "id": "0da716e0-a7b9-4a14-a3ad-dc012c5e5de7",
   "metadata": {},
   "outputs": [
    {
     "name": "stdout",
     "output_type": "stream",
     "text": [
      "frozenset({0})\n",
      "frozenset({1})\n",
      "frozenset({2})\n",
      "frozenset({3})\n",
      "frozenset({4})\n",
      "frozenset({5})\n",
      "frozenset({6})\n",
      "frozenset({7})\n",
      "frozenset({8})\n",
      "frozenset({9})\n"
     ]
    }
   ],
   "source": [
    "for node in tree.gen_leaves():\n",
    "    print(node)"
   ]
  },
  {
   "cell_type": "markdown",
   "id": "9ccb6fe0-76bd-4980-b7df-56f9b4ae2088",
   "metadata": {},
   "source": [
    "In order to complete the tree we need to find $N - 1$ contractions (branches) via either merges of parentless nodes (like the leaves above) or partitions of childless nodes (like the root above). [`contract_nodes`](cotengra.core.ContractionTree.contract_nodes) is the method used to form these merges for an arbitrary set of nodes. "
   ]
  },
  {
   "cell_type": "markdown",
   "id": "6b4cbf1a-7f5e-479a-baef-c3b22be1281d",
   "metadata": {},
   "source": [
    "Here we merge two leaves to form a new intermediate (agglomeratively building the tree from the bottom):"
   ]
  },
  {
   "cell_type": "code",
   "execution_count": 5,
   "id": "9323f9d6-efd9-46f3-98a9-125a4ef74a12",
   "metadata": {},
   "outputs": [
    {
     "data": {
      "text/plain": [
       "frozenset({0, 1})"
      ]
     },
     "execution_count": 5,
     "metadata": {},
     "output_type": "execute_result"
    }
   ],
   "source": [
    "parent = tree.contract_nodes([frozenset([0]), frozenset([1])])\n",
    "parent"
   ]
  },
  {
   "cell_type": "markdown",
   "id": "ad34b81a-5de3-4ae4-9a7c-ff7620fd9d00",
   "metadata": {},
   "source": [
    "Here we split the root (divisively building the tree from the top):"
   ]
  },
  {
   "cell_type": "code",
   "execution_count": 6,
   "id": "4c8cb1b5-228a-4d53-aee4-7a2cd7eee96b",
   "metadata": {},
   "outputs": [
    {
     "data": {
      "text/plain": [
       "frozenset({0, 1, 2, 3, 4, 5, 6, 7, 8, 9})"
      ]
     },
     "execution_count": 6,
     "metadata": {},
     "output_type": "execute_result"
    }
   ],
   "source": [
    "left, right = frozenset(range(0, 5)), frozenset(range(5, 10))\n",
    "\n",
    "# this should output the root\n",
    "tree.contract_nodes([left, right])"
   ]
  },
  {
   "cell_type": "markdown",
   "id": "1eac789d-c003-4490-a485-013374670410",
   "metadata": {},
   "source": [
    "Note how we can declare `left` and `right` here as intermediates even though we don't know exactly how they will be formed yet. We can already work out certain properties of such nodes for example their indices ('legs') and their size:"
   ]
  },
  {
   "cell_type": "code",
   "execution_count": 7,
   "id": "96586214-c7c8-4fc2-bdb7-f8f011a9f6b3",
   "metadata": {},
   "outputs": [
    {
     "data": {
      "text/plain": [
       "(<BitMembers(['a', 'b', 'c', 'e', 'f', 'g', 'j', 'k', 'l', 'm', 'n'])>, 15552)"
      ]
     },
     "execution_count": 7,
     "metadata": {},
     "output_type": "execute_result"
    }
   ],
   "source": [
    "tree.get_legs(left), tree.get_size(left)"
   ]
  },
  {
   "cell_type": "markdown",
   "id": "b1e19a0f-f762-48c5-b4ed-83798f480b7f",
   "metadata": {},
   "source": [
    "But other information such as the flops required to form them need their children specified first."
   ]
  },
  {
   "cell_type": "code",
   "execution_count": 8,
   "id": "34474da1-e7c1-4eb0-bd6c-c4d98e068084",
   "metadata": {},
   "outputs": [
    {
     "data": {
      "text/plain": [
       "31104"
      ]
     },
     "execution_count": 8,
     "metadata": {},
     "output_type": "execute_result"
    }
   ],
   "source": [
    "tree.get_flops(tree.root)"
   ]
  },
  {
   "cell_type": "code",
   "execution_count": 9,
   "id": "43382b1f-c428-40df-acb5-5c2bd6e9e69d",
   "metadata": {},
   "outputs": [
    {
     "data": {
      "text/plain": [
       "'abc,def->abcdef'"
      ]
     },
     "execution_count": 9,
     "metadata": {},
     "output_type": "execute_result"
    }
   ],
   "source": [
    "tree.get_einsum_eq(parent)"
   ]
  },
  {
   "cell_type": "markdown",
   "id": "9a77d4b9-b650-45eb-93d7-4204a091dbc3",
   "metadata": {},
   "source": [
    "The core tree information is stored as a mapping of children like so:"
   ]
  },
  {
   "cell_type": "code",
   "execution_count": 10,
   "id": "fbb6a4a0-01eb-4d6b-a3de-b0ff434a12c0",
   "metadata": {},
   "outputs": [
    {
     "data": {
      "text/plain": [
       "{frozenset({0, 1}): (frozenset({1}), frozenset({0})),\n",
       " frozenset({0, 1, 2, 3, 4, 5, 6, 7, 8, 9}): (frozenset({5, 6, 7, 8, 9}),\n",
       "  frozenset({0, 1, 2, 3, 4}))}"
      ]
     },
     "execution_count": 10,
     "metadata": {},
     "output_type": "execute_result"
    }
   ],
   "source": [
    "tree.children"
   ]
  },
  {
   "cell_type": "markdown",
   "id": "a950263b-d13e-430e-91d1-3a40767be94b",
   "metadata": {},
   "source": [
    "We can compute the flops and any other local information for any nodes that are keys of this. This information is cached in `tree.info`."
   ]
  },
  {
   "cell_type": "markdown",
   "id": "93bcc9e2-44bb-4917-b6bf-fcebab029f4a",
   "metadata": {},
   "source": [
    "When calling `contract_nodes` we can actually specify an arbitrary collection of (uncontracted) nodes, these can be seen as the leaves of a subtree which is a mini contraction problem in its own right. Hence the function itself takes the `optimize` kwarg used to specify how to optimize this sub contraction. Here we'll make use of this to complete our tree."
   ]
  },
  {
   "cell_type": "code",
   "execution_count": 11,
   "id": "d908d0ca-5c76-47fa-9a56-f8592e298add",
   "metadata": {},
   "outputs": [
    {
     "data": {
      "text/plain": [
       "True"
      ]
     },
     "execution_count": 11,
     "metadata": {},
     "output_type": "execute_result"
    }
   ],
   "source": [
    "# fill in the subtree with `left` as root\n",
    "tree.contract_nodes([parent] + [frozenset([i]) for i in range(2, 5)])\n",
    "\n",
    "# fill in the subtree with `right` as root\n",
    "tree.contract_nodes([frozenset([i]) for i in range(5, 10)])\n",
    "\n",
    "# our tree should now be complete\n",
    "tree.is_complete()"
   ]
  },
  {
   "cell_type": "markdown",
   "id": "c1e286bd-a5c6-4806-9c9d-870e7434b255",
   "metadata": {},
   "source": [
    "We can now plot our tree, check full costs, and use it perform contractions etc:"
   ]
  },
  {
   "cell_type": "code",
   "execution_count": 12,
   "id": "401afda9-0f61-44d5-a260-d5a15fbdb801",
   "metadata": {},
   "outputs": [
    {
     "data": {
      "image/svg+xml": "<?xml version=\"1.0\" encoding=\"utf-8\" standalone=\"no\"?>\n<!DOCTYPE svg PUBLIC \"-//W3C//DTD SVG 1.1//EN\"\n  \"http://www.w3.org/Graphics/SVG/1.1/DTD/svg11.dtd\">\n<svg xmlns:xlink=\"http://www.w3.org/1999/xlink\" width=\"452.9175pt\" height=\"286.2pt\" viewBox=\"0 0 452.9175 286.2\" xmlns=\"http://www.w3.org/2000/svg\" version=\"1.1\">\n <metadata>\n  <rdf:RDF xmlns:dc=\"http://purl.org/dc/elements/1.1/\" xmlns:cc=\"http://creativecommons.org/ns#\" xmlns:rdf=\"http://www.w3.org/1999/02/22-rdf-syntax-ns#\">\n   <cc:Work>\n    <dc:type rdf:resource=\"http://purl.org/dc/dcmitype/StillImage\"/>\n    <dc:date>2022-01-12T11:36:03.612226</dc:date>\n    <dc:format>image/svg+xml</dc:format>\n    <dc:creator>\n     <cc:Agent>\n      <dc:title>Matplotlib v3.5.0, https://matplotlib.org/</dc:title>\n     </cc:Agent>\n    </dc:creator>\n   </cc:Work>\n  </rdf:RDF>\n </metadata>\n <defs>\n  <style type=\"text/css\">*{stroke-linejoin: round; stroke-linecap: butt}</style>\n </defs>\n <g id=\"figure_1\">\n  <g id=\"patch_1\">\n   <path d=\"M 0 286.2 \nL 452.9175 286.2 \nL 452.9175 0 \nL 0 0 \nL 0 286.2 \nz\n\" style=\"fill: none\"/>\n  </g>\n  <g id=\"axes_1\">\n   <g id=\"LineCollection_1\">\n    <path d=\"M 256.603039 240.118996 \nL 292.984471 245.555527 \n\" clip-path=\"url(#p19656e730d)\" style=\"fill: none; stroke: #808080; stroke-opacity: 0.2\"/>\n    <path d=\"M 256.603039 240.118996 \nL 283.115168 228.473639 \n\" clip-path=\"url(#p19656e730d)\" style=\"fill: none; stroke: #808080; stroke-opacity: 0.2; stroke-width: 1.584963\"/>\n    <path d=\"M 256.603039 240.118996 \nL 218.702473 239.165461 \n\" clip-path=\"url(#p19656e730d)\" style=\"fill: none; stroke: #808080; stroke-opacity: 0.2; stroke-width: 1.584963\"/>\n    <path d=\"M 292.984471 245.555527 \nL 306.456189 263.676525 \n\" clip-path=\"url(#p19656e730d)\" style=\"fill: none; stroke: #808080; stroke-opacity: 0.2\"/>\n    <path d=\"M 292.984471 245.555527 \nL 329.787056 238.888743 \n\" clip-path=\"url(#p19656e730d)\" style=\"fill: none; stroke: #808080; stroke-opacity: 0.2; stroke-width: 1.584963\"/>\n    <path d=\"M 292.984471 245.555527 \nL 283.115168 228.473639 \n\" clip-path=\"url(#p19656e730d)\" style=\"fill: none; stroke: #808080; stroke-opacity: 0.2; stroke-width: 1.584963\"/>\n    <path d=\"M 218.702473 239.165461 \nL 188.103152 251.145315 \n\" clip-path=\"url(#p19656e730d)\" style=\"fill: none; stroke: #808080; stroke-opacity: 0.2\"/>\n    <path d=\"M 218.702473 239.165461 \nL 187.335106 227.992264 \n\" clip-path=\"url(#p19656e730d)\" style=\"fill: none; stroke: #808080; stroke-opacity: 0.2\"/>\n    <path d=\"M 138.505275 204.297938 \nL 156.111677 220.465955 \n\" clip-path=\"url(#p19656e730d)\" style=\"fill: none; stroke: #808080; stroke-opacity: 0.2\"/>\n    <path d=\"M 156.111677 220.465955 \nL 187.335106 227.992264 \n\" clip-path=\"url(#p19656e730d)\" style=\"fill: none; stroke: #808080; stroke-opacity: 0.2\"/>\n    <path d=\"M 156.111677 220.465955 \nL 156.125913 239.077491 \n\" clip-path=\"url(#p19656e730d)\" style=\"fill: none; stroke: #808080; stroke-opacity: 0.2; stroke-width: 1.584963\"/>\n    <path d=\"M 187.335106 227.992264 \nL 156.125913 239.077491 \n\" clip-path=\"url(#p19656e730d)\" style=\"fill: none; stroke: #808080; stroke-opacity: 0.2\"/>\n    <path d=\"M 156.125913 239.077491 \nL 123.066694 248.77862 \n\" clip-path=\"url(#p19656e730d)\" style=\"fill: none; stroke: #808080; stroke-opacity: 0.2; stroke-width: 1.584963\"/>\n    <path d=\"M 156.125913 239.077491 \nL 188.103152 251.145315 \n\" clip-path=\"url(#p19656e730d)\" style=\"fill: none; stroke: #808080; stroke-opacity: 0.2\"/>\n   </g>\n   <g id=\"LineCollection_2\">\n    <path d=\"M 190.33601 199.853564 \nL 156.125913 239.077491 \n\" clip-path=\"url(#p19656e730d)\" style=\"fill: none; stroke: #c7e9c3; stroke-opacity: 0.7; stroke-width: 1.027281\"/>\n    <path d=\"M 190.33601 199.853564 \nL 188.103152 251.145315 \n\" clip-path=\"url(#p19656e730d)\" style=\"fill: none; stroke: #f3faec; stroke-opacity: 0.7; stroke-width: 0.679588\"/>\n    <path d=\"M 190.33601 199.853564 \nL 209.143218 153.382698 \n\" clip-path=\"url(#p19656e730d)\" style=\"fill: none; stroke: #c7e9c3; stroke-opacity: 0.7; stroke-width: 1.027281\"/>\n    <path d=\"M 209.143218 153.382698 \nL 187.335106 227.992264 \n\" clip-path=\"url(#p19656e730d)\" style=\"fill: none; stroke: #d8f0d3; stroke-opacity: 0.7; stroke-width: 0.89218\"/>\n    <path d=\"M 209.143218 153.382698 \nL 228.784651 96.020899 \n\" clip-path=\"url(#p19656e730d)\" style=\"fill: none; stroke: #92d5bc; stroke-opacity: 0.7; stroke-width: 1.264547\"/>\n    <path d=\"M 269.758941 165.11976 \nL 283.115168 228.473639 \n\" clip-path=\"url(#p19656e730d)\" style=\"fill: none; stroke: #e3f4de; stroke-opacity: 0.7; stroke-width: 0.8\"/>\n    <path d=\"M 269.758941 165.11976 \nL 329.787056 238.888743 \n\" clip-path=\"url(#p19656e730d)\" style=\"fill: none; stroke: #f7fcf0; stroke-opacity: 0.7; stroke-width: 0.640824\"/>\n    <path d=\"M 269.758941 165.11976 \nL 228.784651 96.020899 \n\" clip-path=\"url(#p19656e730d)\" style=\"fill: none; stroke: #ceecc8; stroke-opacity: 0.7; stroke-width: 0.978863\"/>\n    <path d=\"M 228.784651 96.020899 \nL 219.741351 30.582677 \n\" clip-path=\"url(#p19656e730d)\" style=\"fill: none; stroke: #1373b2; stroke-opacity: 0.7; stroke-width: 1.835935\"/>\n    <path d=\"M 210.347877 218.548281 \nL 156.111677 220.465955 \n\" clip-path=\"url(#p19656e730d)\" style=\"fill: none; stroke: #ddf2d8; stroke-opacity: 0.7; stroke-width: 0.845577\"/>\n    <path d=\"M 210.347877 218.548281 \nL 256.603039 240.118996 \n\" clip-path=\"url(#p19656e730d)\" style=\"fill: none; stroke: #d6efd0; stroke-opacity: 0.7; stroke-width: 0.911501\"/>\n    <path d=\"M 210.347877 218.548281 \nL 221.721543 195.139697 \n\" clip-path=\"url(#p19656e730d)\" style=\"fill: none; stroke: #81cec2; stroke-opacity: 0.7; stroke-width: 1.334584\"/>\n    <path d=\"M 221.721543 195.139697 \nL 218.702473 239.165461 \n\" clip-path=\"url(#p19656e730d)\" style=\"fill: none; stroke: #d1edca; stroke-opacity: 0.7; stroke-width: 0.959176\"/>\n    <path d=\"M 221.721543 195.139697 \nL 229.138316 162.957154 \n\" clip-path=\"url(#p19656e730d)\" style=\"fill: none; stroke: #57b8d0; stroke-opacity: 0.7; stroke-width: 1.50447\"/>\n    <path d=\"M 229.138316 162.957154 \nL 292.984471 245.555527 \n\" clip-path=\"url(#p19656e730d)\" style=\"fill: none; stroke: #c7e9c3; stroke-opacity: 0.7; stroke-width: 1.027281\"/>\n    <path d=\"M 229.138316 162.957154 \nL 203.28013 111.676432 \n\" clip-path=\"url(#p19656e730d)\" style=\"fill: none; stroke: #0a6aad; stroke-opacity: 0.7; stroke-width: 1.8859\"/>\n    <path d=\"M 203.28013 111.676432 \nL 123.066694 248.77862 \n\" clip-path=\"url(#p19656e730d)\" style=\"fill: none; stroke: #f7fcf0; stroke-opacity: 0.7; stroke-width: 0.640824\"/>\n    <path d=\"M 203.28013 111.676432 \nL 219.741351 30.582677 \n\" clip-path=\"url(#p19656e730d)\" style=\"fill: none; stroke: #084081; stroke-opacity: 0.7; stroke-width: 2.076726\"/>\n   </g>\n   <g id=\"PathCollection_1\">\n    <path d=\"M 190.33601 201.305314 \nC 190.721019 201.305314 191.090311 201.152348 191.362553 200.880106 \nC 191.634795 200.607864 191.787761 200.238572 191.787761 199.853564 \nC 191.787761 199.468555 191.634795 199.099264 191.362553 198.827021 \nC 191.090311 198.554779 190.721019 198.401814 190.33601 198.401814 \nC 189.951002 198.401814 189.58171 198.554779 189.309468 198.827021 \nC 189.037226 199.099264 188.88426 199.468555 188.88426 199.853564 \nC 188.88426 200.238572 189.037226 200.607864 189.309468 200.880106 \nC 189.58171 201.152348 189.951002 201.305314 190.33601 201.305314 \nz\n\" clip-path=\"url(#p19656e730d)\" style=\"fill: #fd923e; fill-opacity: 0.7; stroke: #fd923e; stroke-opacity: 0.7\"/>\n    <path d=\"M 156.125913 239.893988 \nC 156.342451 239.893988 156.550148 239.807957 156.703263 239.654842 \nC 156.856378 239.501727 156.94241 239.294029 156.94241 239.077491 \nC 156.94241 238.860954 156.856378 238.653256 156.703263 238.500141 \nC 156.550148 238.347026 156.342451 238.260995 156.125913 238.260995 \nC 155.909376 238.260995 155.701678 238.347026 155.548563 238.500141 \nC 155.395448 238.653256 155.309417 238.860954 155.309417 239.077491 \nC 155.309417 239.294029 155.395448 239.501727 155.548563 239.654842 \nC 155.701678 239.807957 155.909376 239.893988 156.125913 239.893988 \nz\n\" clip-path=\"url(#p19656e730d)\" style=\"fill: #ffffcc; fill-opacity: 0.7; stroke: #ffffcc; stroke-opacity: 0.7\"/>\n    <path d=\"M 188.103152 251.961812 \nC 188.31969 251.961812 188.527387 251.87578 188.680502 251.722665 \nC 188.833618 251.56955 188.919649 251.361853 188.919649 251.145315 \nC 188.919649 250.928778 188.833618 250.72108 188.680502 250.567965 \nC 188.527387 250.41485 188.31969 250.328819 188.103152 250.328819 \nC 187.886615 250.328819 187.678917 250.41485 187.525802 250.567965 \nC 187.372687 250.72108 187.286656 250.928778 187.286656 251.145315 \nC 187.286656 251.361853 187.372687 251.56955 187.525802 251.722665 \nC 187.678917 251.87578 187.886615 251.961812 188.103152 251.961812 \nz\n\" clip-path=\"url(#p19656e730d)\" style=\"fill: #ffffcc; fill-opacity: 0.7; stroke: #ffffcc; stroke-opacity: 0.7\"/>\n    <path d=\"M 209.143218 154.966191 \nC 209.563165 154.966191 209.965969 154.799344 210.262917 154.502397 \nC 210.559864 154.205449 210.726711 153.802645 210.726711 153.382698 \nC 210.726711 152.962751 210.559864 152.559947 210.262917 152.262999 \nC 209.965969 151.966052 209.563165 151.799205 209.143218 151.799205 \nC 208.723271 151.799205 208.320467 151.966052 208.023519 152.262999 \nC 207.726572 152.559947 207.559725 152.962751 207.559725 153.382698 \nC 207.559725 153.802645 207.726572 154.205449 208.023519 154.502397 \nC 208.320467 154.799344 208.723271 154.966191 209.143218 154.966191 \nz\n\" clip-path=\"url(#p19656e730d)\" style=\"fill: #fc532b; fill-opacity: 0.7; stroke: #fc532b; stroke-opacity: 0.7\"/>\n    <path d=\"M 187.335106 228.808761 \nC 187.551643 228.808761 187.759341 228.722729 187.912456 228.569614 \nC 188.065571 228.416499 188.151603 228.208801 188.151603 227.992264 \nC 188.151603 227.775727 188.065571 227.568029 187.912456 227.414914 \nC 187.759341 227.261799 187.551643 227.175767 187.335106 227.175767 \nC 187.118568 227.175767 186.910871 227.261799 186.757756 227.414914 \nC 186.604641 227.568029 186.518609 227.775727 186.518609 227.992264 \nC 186.518609 228.208801 186.604641 228.416499 186.757756 228.569614 \nC 186.910871 228.722729 187.118568 228.808761 187.335106 228.808761 \nz\n\" clip-path=\"url(#p19656e730d)\" style=\"fill: #ffffcc; fill-opacity: 0.7; stroke: #ffffcc; stroke-opacity: 0.7\"/>\n    <path d=\"M 269.758941 166.397038 \nC 270.097679 166.397038 270.422589 166.262456 270.662113 166.022932 \nC 270.901637 165.783408 271.036219 165.458498 271.036219 165.11976 \nC 271.036219 164.781022 270.901637 164.456112 270.662113 164.216588 \nC 270.422589 163.977064 270.097679 163.842482 269.758941 163.842482 \nC 269.420203 163.842482 269.095293 163.977064 268.855769 164.216588 \nC 268.616245 164.456112 268.481663 164.781022 268.481663 165.11976 \nC 268.481663 165.458498 268.616245 165.783408 268.855769 166.022932 \nC 269.095293 166.262456 269.420203 166.397038 269.758941 166.397038 \nz\n\" clip-path=\"url(#p19656e730d)\" style=\"fill: #fec35e; fill-opacity: 0.7; stroke: #fec35e; stroke-opacity: 0.7\"/>\n    <path d=\"M 283.115168 229.290135 \nC 283.331706 229.290135 283.539403 229.204104 283.692519 229.050989 \nC 283.845634 228.897874 283.931665 228.690176 283.931665 228.473639 \nC 283.931665 228.257101 283.845634 228.049404 283.692519 227.896289 \nC 283.539403 227.743174 283.331706 227.657142 283.115168 227.657142 \nC 282.898631 227.657142 282.690933 227.743174 282.537818 227.896289 \nC 282.384703 228.049404 282.298672 228.257101 282.298672 228.473639 \nC 282.298672 228.690176 282.384703 228.897874 282.537818 229.050989 \nC 282.690933 229.204104 282.898631 229.290135 283.115168 229.290135 \nz\n\" clip-path=\"url(#p19656e730d)\" style=\"fill: #ffffcc; fill-opacity: 0.7; stroke: #ffffcc; stroke-opacity: 0.7\"/>\n    <path d=\"M 329.787056 239.705239 \nC 330.003594 239.705239 330.211291 239.619208 330.364406 239.466093 \nC 330.517521 239.312978 330.603553 239.10528 330.603553 238.888743 \nC 330.603553 238.672205 330.517521 238.464508 330.364406 238.311392 \nC 330.211291 238.158277 330.003594 238.072246 329.787056 238.072246 \nC 329.570519 238.072246 329.362821 238.158277 329.209706 238.311392 \nC 329.056591 238.464508 328.97056 238.672205 328.97056 238.888743 \nC 328.97056 239.10528 329.056591 239.312978 329.209706 239.466093 \nC 329.362821 239.619208 329.570519 239.705239 329.787056 239.705239 \nz\n\" clip-path=\"url(#p19656e730d)\" style=\"fill: #ffffcc; fill-opacity: 0.7; stroke: #ffffcc; stroke-opacity: 0.7\"/>\n    <path d=\"M 228.784651 97.770153 \nC 229.248559 97.770153 229.693529 97.585841 230.021561 97.257808 \nC 230.349593 96.929776 230.533906 96.484806 230.533906 96.020899 \nC 230.533906 95.556991 230.349593 95.112021 230.021561 94.783989 \nC 229.693529 94.455956 229.248559 94.271644 228.784651 94.271644 \nC 228.320743 94.271644 227.875774 94.455956 227.547741 94.783989 \nC 227.219709 95.112021 227.035396 95.556991 227.035396 96.020899 \nC 227.035396 96.484806 227.219709 96.929776 227.547741 97.257808 \nC 227.875774 97.585841 228.320743 97.770153 228.784651 97.770153 \nz\n\" clip-path=\"url(#p19656e730d)\" style=\"fill: #d41020; fill-opacity: 0.7; stroke: #d41020; stroke-opacity: 0.7\"/>\n    <path d=\"M 210.347877 220.039692 \nC 210.743404 220.039692 211.122784 219.882548 211.402464 219.602868 \nC 211.682144 219.323188 211.839288 218.943808 211.839288 218.548281 \nC 211.839288 218.152754 211.682144 217.773374 211.402464 217.493694 \nC 211.122784 217.214015 210.743404 217.05687 210.347877 217.05687 \nC 209.952351 217.05687 209.57297 217.214015 209.293291 217.493694 \nC 209.013611 217.773374 208.856466 218.152754 208.856466 218.548281 \nC 208.856466 218.943808 209.013611 219.323188 209.293291 219.602868 \nC 209.57297 219.882548 209.952351 220.039692 210.347877 220.039692 \nz\n\" clip-path=\"url(#p19656e730d)\" style=\"fill: #fd8239; fill-opacity: 0.7; stroke: #fd8239; stroke-opacity: 0.7\"/>\n    <path d=\"M 156.111677 221.282451 \nC 156.328214 221.282451 156.535912 221.19642 156.689027 221.043305 \nC 156.842142 220.89019 156.928173 220.682492 156.928173 220.465955 \nC 156.928173 220.249417 156.842142 220.041719 156.689027 219.888604 \nC 156.535912 219.735489 156.328214 219.649458 156.111677 219.649458 \nC 155.895139 219.649458 155.687442 219.735489 155.534327 219.888604 \nC 155.381211 220.041719 155.29518 220.249417 155.29518 220.465955 \nC 155.29518 220.682492 155.381211 220.89019 155.534327 221.043305 \nC 155.687442 221.19642 155.895139 221.282451 156.111677 221.282451 \nz\n\" clip-path=\"url(#p19656e730d)\" style=\"fill: #ffffcc; fill-opacity: 0.7; stroke: #ffffcc; stroke-opacity: 0.7\"/>\n    <path d=\"M 256.603039 240.935493 \nC 256.819576 240.935493 257.027274 240.849462 257.180389 240.696347 \nC 257.333504 240.543231 257.419535 240.335534 257.419535 240.118996 \nC 257.419535 239.902459 257.333504 239.694761 257.180389 239.541646 \nC 257.027274 239.388531 256.819576 239.3025 256.603039 239.3025 \nC 256.386501 239.3025 256.178804 239.388531 256.025688 239.541646 \nC 255.872573 239.694761 255.786542 239.902459 255.786542 240.118996 \nC 255.786542 240.335534 255.872573 240.543231 256.025688 240.696347 \nC 256.178804 240.849462 256.386501 240.935493 256.603039 240.935493 \nz\n\" clip-path=\"url(#p19656e730d)\" style=\"fill: #ffffcc; fill-opacity: 0.7; stroke: #ffffcc; stroke-opacity: 0.7\"/>\n    <path d=\"M 221.721543 196.87918 \nC 222.182859 196.87918 222.625343 196.695897 222.951543 196.369697 \nC 223.277743 196.043497 223.461025 195.601013 223.461025 195.139697 \nC 223.461025 194.678381 223.277743 194.235897 222.951543 193.909697 \nC 222.625343 193.583497 222.182859 193.400215 221.721543 193.400215 \nC 221.260227 193.400215 220.817743 193.583497 220.491543 193.909697 \nC 220.165343 194.235897 219.98206 194.678381 219.98206 195.139697 \nC 219.98206 195.601013 220.165343 196.043497 220.491543 196.369697 \nC 220.817743 196.695897 221.260227 196.87918 221.721543 196.87918 \nz\n\" clip-path=\"url(#p19656e730d)\" style=\"fill: #d7121f; fill-opacity: 0.7; stroke: #d7121f; stroke-opacity: 0.7\"/>\n    <path d=\"M 218.702473 239.981958 \nC 218.91901 239.981958 219.126708 239.895927 219.279823 239.742812 \nC 219.432938 239.589697 219.518969 239.381999 219.518969 239.165461 \nC 219.518969 238.948924 219.432938 238.741226 219.279823 238.588111 \nC 219.126708 238.434996 218.91901 238.348965 218.702473 238.348965 \nC 218.485935 238.348965 218.278237 238.434996 218.125122 238.588111 \nC 217.972007 238.741226 217.885976 238.948924 217.885976 239.165461 \nC 217.885976 239.381999 217.972007 239.589697 218.125122 239.742812 \nC 218.278237 239.895927 218.485935 239.981958 218.702473 239.981958 \nz\n\" clip-path=\"url(#p19656e730d)\" style=\"fill: #ffffcc; fill-opacity: 0.7; stroke: #ffffcc; stroke-opacity: 0.7\"/>\n    <path d=\"M 229.138316 164.839838 \nC 229.63761 164.839838 230.116521 164.641467 230.469574 164.288413 \nC 230.822628 163.935359 231.021 163.456448 231.021 162.957154 \nC 231.021 162.457861 230.822628 161.97895 230.469574 161.625896 \nC 230.116521 161.272842 229.63761 161.074471 229.138316 161.074471 \nC 228.639023 161.074471 228.160112 161.272842 227.807058 161.625896 \nC 227.454004 161.97895 227.255633 162.457861 227.255633 162.957154 \nC 227.255633 163.456448 227.454004 163.935359 227.807058 164.288413 \nC 228.160112 164.641467 228.639023 164.839838 229.138316 164.839838 \nz\n\" clip-path=\"url(#p19656e730d)\" style=\"fill: #930026; fill-opacity: 0.7; stroke: #930026; stroke-opacity: 0.7\"/>\n    <path d=\"M 292.984471 246.372024 \nC 293.201008 246.372024 293.408706 246.285992 293.561821 246.132877 \nC 293.714936 245.979762 293.800967 245.772064 293.800967 245.555527 \nC 293.800967 245.33899 293.714936 245.131292 293.561821 244.978177 \nC 293.408706 244.825062 293.201008 244.73903 292.984471 244.73903 \nC 292.767933 244.73903 292.560236 244.825062 292.407121 244.978177 \nC 292.254005 245.131292 292.167974 245.33899 292.167974 245.555527 \nC 292.167974 245.772064 292.254005 245.979762 292.407121 246.132877 \nC 292.560236 246.285992 292.767933 246.372024 292.984471 246.372024 \nz\n\" clip-path=\"url(#p19656e730d)\" style=\"fill: #ffffcc; fill-opacity: 0.7; stroke: #ffffcc; stroke-opacity: 0.7\"/>\n    <path d=\"M 203.28013 113.536865 \nC 203.773523 113.536865 204.246773 113.340838 204.595655 112.991956 \nC 204.944536 112.643075 205.140563 112.169824 205.140563 111.676432 \nC 205.140563 111.183039 204.944536 110.709789 204.595655 110.360907 \nC 204.246773 110.012026 203.773523 109.815999 203.28013 109.815999 \nC 202.786738 109.815999 202.313487 110.012026 201.964606 110.360907 \nC 201.615724 110.709789 201.419697 111.183039 201.419697 111.676432 \nC 201.419697 112.169824 201.615724 112.643075 201.964606 112.991956 \nC 202.313487 113.340838 202.786738 113.536865 203.28013 113.536865 \nz\n\" clip-path=\"url(#p19656e730d)\" style=\"fill: #a10026; fill-opacity: 0.7; stroke: #a10026; stroke-opacity: 0.7\"/>\n    <path d=\"M 123.066694 249.595117 \nC 123.283231 249.595117 123.490929 249.509085 123.644044 249.35597 \nC 123.797159 249.202855 123.88319 248.995157 123.88319 248.77862 \nC 123.88319 248.562083 123.797159 248.354385 123.644044 248.20127 \nC 123.490929 248.048155 123.283231 247.962123 123.066694 247.962123 \nC 122.850156 247.962123 122.642459 248.048155 122.489344 248.20127 \nC 122.336229 248.354385 122.250197 248.562083 122.250197 248.77862 \nC 122.250197 248.995157 122.336229 249.202855 122.489344 249.35597 \nC 122.642459 249.509085 122.850156 249.595117 123.066694 249.595117 \nz\n\" clip-path=\"url(#p19656e730d)\" style=\"fill: #ffffcc; fill-opacity: 0.7; stroke: #ffffcc; stroke-opacity: 0.7\"/>\n    <path d=\"M 219.741351 32.496283 \nC 220.248845 32.496283 220.735622 32.294653 221.094475 31.935801 \nC 221.453327 31.576948 221.654957 31.090172 221.654957 30.582677 \nC 221.654957 30.075183 221.453327 29.588406 221.094475 29.229554 \nC 220.735622 28.870701 220.248845 28.669072 219.741351 28.669072 \nC 219.233857 28.669072 218.74708 28.870701 218.388227 29.229554 \nC 218.029375 29.588406 217.827745 30.075183 217.827745 30.582677 \nC 217.827745 31.090172 218.029375 31.576948 218.388227 31.935801 \nC 218.74708 32.294653 219.233857 32.496283 219.741351 32.496283 \nz\n\" clip-path=\"url(#p19656e730d)\" style=\"fill: #800026; fill-opacity: 0.7; stroke: #800026; stroke-opacity: 0.7\"/>\n   </g>\n  </g>\n  <g id=\"axes_2\">\n   <g id=\"patch_2\">\n    <path d=\"M 34.726875 234 \nL 41.926875 234 \nL 41.926875 54 \nL 34.726875 54 \nL 34.726875 234 \nz\n\" style=\"fill: none\"/>\n   </g>\n   <g id=\"patch_3\">\n    <path clip-path=\"url(#p463b303399)\" style=\"fill: none\"/>\n   </g>\n   <image xlink:href=\"data:image/png;base64,\niVBORw0KGgoAAAANSUhEUgAAAAcAAAC0CAYAAABYDDYIAAABC0lEQVR4nOWXQQ7DMAgEaZX/v7W3XgruCzyWBhFVaq5oF1iW2H68P68Vm+9asY3FtRYFh5DbUMS1Vt2OLEA+ATimUFEwiNYjWaEAbSFlB3nwEA2bae83WEytoG6lIZ+ttuFb3BWi9cInI7exQ0GHeQJt+r+JX3tE8jw1rW9lRr4hhXI9dE5AelpGsraIhCDaxNMOiYDCM20NTcWKgMIzLbaibcLaNtxHSJ6KFaHw/PS+ndG2wApjjmeD6csSHstprzyIxGEXiHu4ZpEIpRWqtIcr5/QFaVpEciskAk/Ft9KYyo8VxLviczZsMlNQoxUqiLWlx0wlBe3Tq0GLSMyZGklv3qA/9RTyP6byBRxUiaP/OuqpAAAAAElFTkSuQmCC\" id=\"image0572f0f67c\" transform=\"scale(1 -1)translate(0 -180)\" x=\"35\" y=\"-54\" width=\"7\" height=\"180\"/>\n   <g id=\"matplotlib.axis_1\">\n    <g id=\"ytick_1\">\n     <g id=\"line2d_1\">\n      <defs>\n       <path id=\"md58c664bd9\" d=\"M 0 0 \nL -3.5 0 \n\" style=\"stroke: #808080; stroke-width: 0.8\"/>\n      </defs>\n      <g>\n       <use xlink:href=\"#md58c664bd9\" x=\"34.726875\" y=\"227.945895\" style=\"fill: #808080; stroke: #808080; stroke-width: 0.8\"/>\n      </g>\n     </g>\n     <g id=\"text_1\">\n      <!-- 2 -->\n      <g style=\"fill: #808080\" transform=\"translate(21.364375 231.745114)scale(0.1 -0.1)\">\n       <defs>\n        <path id=\"DejaVuSans-32\" d=\"M 1228 531 \nL 3431 531 \nL 3431 0 \nL 469 0 \nL 469 531 \nQ 828 903 1448 1529 \nQ 2069 2156 2228 2338 \nQ 2531 2678 2651 2914 \nQ 2772 3150 2772 3378 \nQ 2772 3750 2511 3984 \nQ 2250 4219 1831 4219 \nQ 1534 4219 1204 4116 \nQ 875 4013 500 3803 \nL 500 4441 \nQ 881 4594 1212 4672 \nQ 1544 4750 1819 4750 \nQ 2544 4750 2975 4387 \nQ 3406 4025 3406 3419 \nQ 3406 3131 3298 2873 \nQ 3191 2616 2906 2266 \nQ 2828 2175 2409 1742 \nQ 1991 1309 1228 531 \nz\n\" transform=\"scale(0.015625)\"/>\n       </defs>\n       <use xlink:href=\"#DejaVuSans-32\"/>\n      </g>\n     </g>\n    </g>\n    <g id=\"ytick_2\">\n     <g id=\"line2d_2\">\n      <g>\n       <use xlink:href=\"#md58c664bd9\" x=\"34.726875\" y=\"198.77212\" style=\"fill: #808080; stroke: #808080; stroke-width: 0.8\"/>\n      </g>\n     </g>\n     <g id=\"text_2\">\n      <!-- 4 -->\n      <g style=\"fill: #808080\" transform=\"translate(21.364375 202.571339)scale(0.1 -0.1)\">\n       <defs>\n        <path id=\"DejaVuSans-34\" d=\"M 2419 4116 \nL 825 1625 \nL 2419 1625 \nL 2419 4116 \nz\nM 2253 4666 \nL 3047 4666 \nL 3047 1625 \nL 3713 1625 \nL 3713 1100 \nL 3047 1100 \nL 3047 0 \nL 2419 0 \nL 2419 1100 \nL 313 1100 \nL 313 1709 \nL 2253 4666 \nz\n\" transform=\"scale(0.015625)\"/>\n       </defs>\n       <use xlink:href=\"#DejaVuSans-34\"/>\n      </g>\n     </g>\n    </g>\n    <g id=\"ytick_3\">\n     <g id=\"line2d_3\">\n      <g>\n       <use xlink:href=\"#md58c664bd9\" x=\"34.726875\" y=\"169.598346\" style=\"fill: #808080; stroke: #808080; stroke-width: 0.8\"/>\n      </g>\n     </g>\n     <g id=\"text_3\">\n      <!-- 6 -->\n      <g style=\"fill: #808080\" transform=\"translate(21.364375 173.397565)scale(0.1 -0.1)\">\n       <defs>\n        <path id=\"DejaVuSans-36\" d=\"M 2113 2584 \nQ 1688 2584 1439 2293 \nQ 1191 2003 1191 1497 \nQ 1191 994 1439 701 \nQ 1688 409 2113 409 \nQ 2538 409 2786 701 \nQ 3034 994 3034 1497 \nQ 3034 2003 2786 2293 \nQ 2538 2584 2113 2584 \nz\nM 3366 4563 \nL 3366 3988 \nQ 3128 4100 2886 4159 \nQ 2644 4219 2406 4219 \nQ 1781 4219 1451 3797 \nQ 1122 3375 1075 2522 \nQ 1259 2794 1537 2939 \nQ 1816 3084 2150 3084 \nQ 2853 3084 3261 2657 \nQ 3669 2231 3669 1497 \nQ 3669 778 3244 343 \nQ 2819 -91 2113 -91 \nQ 1303 -91 875 529 \nQ 447 1150 447 2328 \nQ 447 3434 972 4092 \nQ 1497 4750 2381 4750 \nQ 2619 4750 2861 4703 \nQ 3103 4656 3366 4563 \nz\n\" transform=\"scale(0.015625)\"/>\n       </defs>\n       <use xlink:href=\"#DejaVuSans-36\"/>\n      </g>\n     </g>\n    </g>\n    <g id=\"ytick_4\">\n     <g id=\"line2d_4\">\n      <g>\n       <use xlink:href=\"#md58c664bd9\" x=\"34.726875\" y=\"140.424572\" style=\"fill: #808080; stroke: #808080; stroke-width: 0.8\"/>\n      </g>\n     </g>\n     <g id=\"text_4\">\n      <!-- 8 -->\n      <g style=\"fill: #808080\" transform=\"translate(21.364375 144.22379)scale(0.1 -0.1)\">\n       <defs>\n        <path id=\"DejaVuSans-38\" d=\"M 2034 2216 \nQ 1584 2216 1326 1975 \nQ 1069 1734 1069 1313 \nQ 1069 891 1326 650 \nQ 1584 409 2034 409 \nQ 2484 409 2743 651 \nQ 3003 894 3003 1313 \nQ 3003 1734 2745 1975 \nQ 2488 2216 2034 2216 \nz\nM 1403 2484 \nQ 997 2584 770 2862 \nQ 544 3141 544 3541 \nQ 544 4100 942 4425 \nQ 1341 4750 2034 4750 \nQ 2731 4750 3128 4425 \nQ 3525 4100 3525 3541 \nQ 3525 3141 3298 2862 \nQ 3072 2584 2669 2484 \nQ 3125 2378 3379 2068 \nQ 3634 1759 3634 1313 \nQ 3634 634 3220 271 \nQ 2806 -91 2034 -91 \nQ 1263 -91 848 271 \nQ 434 634 434 1313 \nQ 434 1759 690 2068 \nQ 947 2378 1403 2484 \nz\nM 1172 3481 \nQ 1172 3119 1398 2916 \nQ 1625 2713 2034 2713 \nQ 2441 2713 2670 2916 \nQ 2900 3119 2900 3481 \nQ 2900 3844 2670 4047 \nQ 2441 4250 2034 4250 \nQ 1625 4250 1398 4047 \nQ 1172 3844 1172 3481 \nz\n\" transform=\"scale(0.015625)\"/>\n       </defs>\n       <use xlink:href=\"#DejaVuSans-38\"/>\n      </g>\n     </g>\n    </g>\n    <g id=\"ytick_5\">\n     <g id=\"line2d_5\">\n      <g>\n       <use xlink:href=\"#md58c664bd9\" x=\"34.726875\" y=\"111.250797\" style=\"fill: #808080; stroke: #808080; stroke-width: 0.8\"/>\n      </g>\n     </g>\n     <g id=\"text_5\">\n      <!-- 10 -->\n      <g style=\"fill: #808080\" transform=\"translate(15.001875 115.050016)scale(0.1 -0.1)\">\n       <defs>\n        <path id=\"DejaVuSans-31\" d=\"M 794 531 \nL 1825 531 \nL 1825 4091 \nL 703 3866 \nL 703 4441 \nL 1819 4666 \nL 2450 4666 \nL 2450 531 \nL 3481 531 \nL 3481 0 \nL 794 0 \nL 794 531 \nz\n\" transform=\"scale(0.015625)\"/>\n        <path id=\"DejaVuSans-30\" d=\"M 2034 4250 \nQ 1547 4250 1301 3770 \nQ 1056 3291 1056 2328 \nQ 1056 1369 1301 889 \nQ 1547 409 2034 409 \nQ 2525 409 2770 889 \nQ 3016 1369 3016 2328 \nQ 3016 3291 2770 3770 \nQ 2525 4250 2034 4250 \nz\nM 2034 4750 \nQ 2819 4750 3233 4129 \nQ 3647 3509 3647 2328 \nQ 3647 1150 3233 529 \nQ 2819 -91 2034 -91 \nQ 1250 -91 836 529 \nQ 422 1150 422 2328 \nQ 422 3509 836 4129 \nQ 1250 4750 2034 4750 \nz\n\" transform=\"scale(0.015625)\"/>\n       </defs>\n       <use xlink:href=\"#DejaVuSans-31\"/>\n       <use xlink:href=\"#DejaVuSans-30\" x=\"63.623047\"/>\n      </g>\n     </g>\n    </g>\n    <g id=\"ytick_6\">\n     <g id=\"line2d_6\">\n      <g>\n       <use xlink:href=\"#md58c664bd9\" x=\"34.726875\" y=\"82.077023\" style=\"fill: #808080; stroke: #808080; stroke-width: 0.8\"/>\n      </g>\n     </g>\n     <g id=\"text_6\">\n      <!-- 12 -->\n      <g style=\"fill: #808080\" transform=\"translate(15.001875 85.876242)scale(0.1 -0.1)\">\n       <use xlink:href=\"#DejaVuSans-31\"/>\n       <use xlink:href=\"#DejaVuSans-32\" x=\"63.623047\"/>\n      </g>\n     </g>\n    </g>\n   </g>\n   <g id=\"LineCollection_3\"/>\n   <g id=\"text_7\">\n    <!-- log2[SIZE] -->\n    <g style=\"fill: #808080\" transform=\"translate(7.2 48)scale(0.12 -0.12)\">\n     <defs>\n      <path id=\"DejaVuSans-6c\" d=\"M 603 4863 \nL 1178 4863 \nL 1178 0 \nL 603 0 \nL 603 4863 \nz\n\" transform=\"scale(0.015625)\"/>\n      <path id=\"DejaVuSans-6f\" d=\"M 1959 3097 \nQ 1497 3097 1228 2736 \nQ 959 2375 959 1747 \nQ 959 1119 1226 758 \nQ 1494 397 1959 397 \nQ 2419 397 2687 759 \nQ 2956 1122 2956 1747 \nQ 2956 2369 2687 2733 \nQ 2419 3097 1959 3097 \nz\nM 1959 3584 \nQ 2709 3584 3137 3096 \nQ 3566 2609 3566 1747 \nQ 3566 888 3137 398 \nQ 2709 -91 1959 -91 \nQ 1206 -91 779 398 \nQ 353 888 353 1747 \nQ 353 2609 779 3096 \nQ 1206 3584 1959 3584 \nz\n\" transform=\"scale(0.015625)\"/>\n      <path id=\"DejaVuSans-67\" d=\"M 2906 1791 \nQ 2906 2416 2648 2759 \nQ 2391 3103 1925 3103 \nQ 1463 3103 1205 2759 \nQ 947 2416 947 1791 \nQ 947 1169 1205 825 \nQ 1463 481 1925 481 \nQ 2391 481 2648 825 \nQ 2906 1169 2906 1791 \nz\nM 3481 434 \nQ 3481 -459 3084 -895 \nQ 2688 -1331 1869 -1331 \nQ 1566 -1331 1297 -1286 \nQ 1028 -1241 775 -1147 \nL 775 -588 \nQ 1028 -725 1275 -790 \nQ 1522 -856 1778 -856 \nQ 2344 -856 2625 -561 \nQ 2906 -266 2906 331 \nL 2906 616 \nQ 2728 306 2450 153 \nQ 2172 0 1784 0 \nQ 1141 0 747 490 \nQ 353 981 353 1791 \nQ 353 2603 747 3093 \nQ 1141 3584 1784 3584 \nQ 2172 3584 2450 3431 \nQ 2728 3278 2906 2969 \nL 2906 3500 \nL 3481 3500 \nL 3481 434 \nz\n\" transform=\"scale(0.015625)\"/>\n      <path id=\"DejaVuSans-5b\" d=\"M 550 4863 \nL 1875 4863 \nL 1875 4416 \nL 1125 4416 \nL 1125 -397 \nL 1875 -397 \nL 1875 -844 \nL 550 -844 \nL 550 4863 \nz\n\" transform=\"scale(0.015625)\"/>\n      <path id=\"DejaVuSans-53\" d=\"M 3425 4513 \nL 3425 3897 \nQ 3066 4069 2747 4153 \nQ 2428 4238 2131 4238 \nQ 1616 4238 1336 4038 \nQ 1056 3838 1056 3469 \nQ 1056 3159 1242 3001 \nQ 1428 2844 1947 2747 \nL 2328 2669 \nQ 3034 2534 3370 2195 \nQ 3706 1856 3706 1288 \nQ 3706 609 3251 259 \nQ 2797 -91 1919 -91 \nQ 1588 -91 1214 -16 \nQ 841 59 441 206 \nL 441 856 \nQ 825 641 1194 531 \nQ 1563 422 1919 422 \nQ 2459 422 2753 634 \nQ 3047 847 3047 1241 \nQ 3047 1584 2836 1778 \nQ 2625 1972 2144 2069 \nL 1759 2144 \nQ 1053 2284 737 2584 \nQ 422 2884 422 3419 \nQ 422 4038 858 4394 \nQ 1294 4750 2059 4750 \nQ 2388 4750 2728 4690 \nQ 3069 4631 3425 4513 \nz\n\" transform=\"scale(0.015625)\"/>\n      <path id=\"DejaVuSans-49\" d=\"M 628 4666 \nL 1259 4666 \nL 1259 0 \nL 628 0 \nL 628 4666 \nz\n\" transform=\"scale(0.015625)\"/>\n      <path id=\"DejaVuSans-5a\" d=\"M 359 4666 \nL 4025 4666 \nL 4025 4184 \nL 1075 531 \nL 4097 531 \nL 4097 0 \nL 288 0 \nL 288 481 \nL 3238 4134 \nL 359 4134 \nL 359 4666 \nz\n\" transform=\"scale(0.015625)\"/>\n      <path id=\"DejaVuSans-45\" d=\"M 628 4666 \nL 3578 4666 \nL 3578 4134 \nL 1259 4134 \nL 1259 2753 \nL 3481 2753 \nL 3481 2222 \nL 1259 2222 \nL 1259 531 \nL 3634 531 \nL 3634 0 \nL 628 0 \nL 628 4666 \nz\n\" transform=\"scale(0.015625)\"/>\n      <path id=\"DejaVuSans-5d\" d=\"M 1947 4863 \nL 1947 -844 \nL 622 -844 \nL 622 -397 \nL 1369 -397 \nL 1369 4416 \nL 622 4416 \nL 622 4863 \nL 1947 4863 \nz\n\" transform=\"scale(0.015625)\"/>\n     </defs>\n     <use xlink:href=\"#DejaVuSans-6c\"/>\n     <use xlink:href=\"#DejaVuSans-6f\" x=\"27.783203\"/>\n     <use xlink:href=\"#DejaVuSans-67\" x=\"88.964844\"/>\n     <use xlink:href=\"#DejaVuSans-32\" x=\"152.441406\"/>\n     <use xlink:href=\"#DejaVuSans-5b\" x=\"216.064453\"/>\n     <use xlink:href=\"#DejaVuSans-53\" x=\"255.078125\"/>\n     <use xlink:href=\"#DejaVuSans-49\" x=\"318.554688\"/>\n     <use xlink:href=\"#DejaVuSans-5a\" x=\"348.046875\"/>\n     <use xlink:href=\"#DejaVuSans-45\" x=\"416.552734\"/>\n     <use xlink:href=\"#DejaVuSans-5d\" x=\"479.736328\"/>\n    </g>\n   </g>\n  </g>\n  <g id=\"axes_3\">\n   <g id=\"patch_4\">\n    <path d=\"M 401.926875 234 \nL 409.126875 234 \nL 409.126875 54 \nL 401.926875 54 \nL 401.926875 234 \nz\n\" style=\"fill: none\"/>\n   </g>\n   <g id=\"patch_5\">\n    <path clip-path=\"url(#p28dca04378)\" style=\"fill: none\"/>\n   </g>\n   <image xlink:href=\"data:image/png;base64,\niVBORw0KGgoAAAANSUhEUgAAAAcAAAC0CAYAAABYDDYIAAABAUlEQVR4nN3W0Q3EIAwDUCp1/8lupEJugj4kV4je9TeyYzsBelR9qt18Z6vbWjtbdRTbEDIv5oJiZN6TSCe0QdCD+BYNW0XH97ZhP1iTlLZeZ2XR9o0dSG0fi1zqvuZi7PHI/smKkCNGuucaWmd7W3uklrQ9PvZ5T2eLIvRMBXEqsZUHOyTa3Mqinlfc08hFgkR78QEAsvIQckHcvlVTya3EJ1tIHvsi7f1FPUEO3Ql4BNtZRsY+Y0G0wqngnZtZyRPS9ZavycgXrB2gZfAUNEALYDurgMQPxgRptUSyp+Jj8J0JWS2LsRUhObLcyiVaiJ0Iyml3IFnEHfVrVki7YZ5fonRKgvAGMcoAAAAASUVORK5CYII=\" id=\"image555531178d\" transform=\"scale(1 -1)translate(0 -180)\" x=\"402\" y=\"-54\" width=\"7\" height=\"180\"/>\n   <g id=\"matplotlib.axis_2\">\n    <g id=\"ytick_7\">\n     <g id=\"line2d_7\">\n      <defs>\n       <path id=\"mbd052dc971\" d=\"M 0 0 \nL 3.5 0 \n\" style=\"stroke: #808080; stroke-width: 0.8\"/>\n      </defs>\n      <g>\n       <use xlink:href=\"#mbd052dc971\" x=\"409.126875\" y=\"234\" style=\"fill: #808080; stroke: #808080; stroke-width: 0.8\"/>\n      </g>\n     </g>\n     <g id=\"text_8\">\n      <!-- 0.0 -->\n      <g style=\"fill: #808080\" transform=\"translate(416.126875 237.799219)scale(0.1 -0.1)\">\n       <defs>\n        <path id=\"DejaVuSans-2e\" d=\"M 684 794 \nL 1344 794 \nL 1344 0 \nL 684 0 \nL 684 794 \nz\n\" transform=\"scale(0.015625)\"/>\n       </defs>\n       <use xlink:href=\"#DejaVuSans-30\"/>\n       <use xlink:href=\"#DejaVuSans-2e\" x=\"63.623047\"/>\n       <use xlink:href=\"#DejaVuSans-30\" x=\"95.410156\"/>\n      </g>\n     </g>\n    </g>\n    <g id=\"ytick_8\">\n     <g id=\"line2d_8\">\n      <g>\n       <use xlink:href=\"#mbd052dc971\" x=\"409.126875\" y=\"213.968021\" style=\"fill: #808080; stroke: #808080; stroke-width: 0.8\"/>\n      </g>\n     </g>\n     <g id=\"text_9\">\n      <!-- 0.5 -->\n      <g style=\"fill: #808080\" transform=\"translate(416.126875 217.76724)scale(0.1 -0.1)\">\n       <defs>\n        <path id=\"DejaVuSans-35\" d=\"M 691 4666 \nL 3169 4666 \nL 3169 4134 \nL 1269 4134 \nL 1269 2991 \nQ 1406 3038 1543 3061 \nQ 1681 3084 1819 3084 \nQ 2600 3084 3056 2656 \nQ 3513 2228 3513 1497 \nQ 3513 744 3044 326 \nQ 2575 -91 1722 -91 \nQ 1428 -91 1123 -41 \nQ 819 9 494 109 \nL 494 744 \nQ 775 591 1075 516 \nQ 1375 441 1709 441 \nQ 2250 441 2565 725 \nQ 2881 1009 2881 1497 \nQ 2881 1984 2565 2268 \nQ 2250 2553 1709 2553 \nQ 1456 2553 1204 2497 \nQ 953 2441 691 2322 \nL 691 4666 \nz\n\" transform=\"scale(0.015625)\"/>\n       </defs>\n       <use xlink:href=\"#DejaVuSans-30\"/>\n       <use xlink:href=\"#DejaVuSans-2e\" x=\"63.623047\"/>\n       <use xlink:href=\"#DejaVuSans-35\" x=\"95.410156\"/>\n      </g>\n     </g>\n    </g>\n    <g id=\"ytick_9\">\n     <g id=\"line2d_9\">\n      <g>\n       <use xlink:href=\"#mbd052dc971\" x=\"409.126875\" y=\"193.936042\" style=\"fill: #808080; stroke: #808080; stroke-width: 0.8\"/>\n      </g>\n     </g>\n     <g id=\"text_10\">\n      <!-- 1.0 -->\n      <g style=\"fill: #808080\" transform=\"translate(416.126875 197.735261)scale(0.1 -0.1)\">\n       <use xlink:href=\"#DejaVuSans-31\"/>\n       <use xlink:href=\"#DejaVuSans-2e\" x=\"63.623047\"/>\n       <use xlink:href=\"#DejaVuSans-30\" x=\"95.410156\"/>\n      </g>\n     </g>\n    </g>\n    <g id=\"ytick_10\">\n     <g id=\"line2d_10\">\n      <g>\n       <use xlink:href=\"#mbd052dc971\" x=\"409.126875\" y=\"173.904063\" style=\"fill: #808080; stroke: #808080; stroke-width: 0.8\"/>\n      </g>\n     </g>\n     <g id=\"text_11\">\n      <!-- 1.5 -->\n      <g style=\"fill: #808080\" transform=\"translate(416.126875 177.703282)scale(0.1 -0.1)\">\n       <use xlink:href=\"#DejaVuSans-31\"/>\n       <use xlink:href=\"#DejaVuSans-2e\" x=\"63.623047\"/>\n       <use xlink:href=\"#DejaVuSans-35\" x=\"95.410156\"/>\n      </g>\n     </g>\n    </g>\n    <g id=\"ytick_11\">\n     <g id=\"line2d_11\">\n      <g>\n       <use xlink:href=\"#mbd052dc971\" x=\"409.126875\" y=\"153.872085\" style=\"fill: #808080; stroke: #808080; stroke-width: 0.8\"/>\n      </g>\n     </g>\n     <g id=\"text_12\">\n      <!-- 2.0 -->\n      <g style=\"fill: #808080\" transform=\"translate(416.126875 157.671303)scale(0.1 -0.1)\">\n       <use xlink:href=\"#DejaVuSans-32\"/>\n       <use xlink:href=\"#DejaVuSans-2e\" x=\"63.623047\"/>\n       <use xlink:href=\"#DejaVuSans-30\" x=\"95.410156\"/>\n      </g>\n     </g>\n    </g>\n    <g id=\"ytick_12\">\n     <g id=\"line2d_12\">\n      <g>\n       <use xlink:href=\"#mbd052dc971\" x=\"409.126875\" y=\"133.840106\" style=\"fill: #808080; stroke: #808080; stroke-width: 0.8\"/>\n      </g>\n     </g>\n     <g id=\"text_13\">\n      <!-- 2.5 -->\n      <g style=\"fill: #808080\" transform=\"translate(416.126875 137.639324)scale(0.1 -0.1)\">\n       <use xlink:href=\"#DejaVuSans-32\"/>\n       <use xlink:href=\"#DejaVuSans-2e\" x=\"63.623047\"/>\n       <use xlink:href=\"#DejaVuSans-35\" x=\"95.410156\"/>\n      </g>\n     </g>\n    </g>\n    <g id=\"ytick_13\">\n     <g id=\"line2d_13\">\n      <g>\n       <use xlink:href=\"#mbd052dc971\" x=\"409.126875\" y=\"113.808127\" style=\"fill: #808080; stroke: #808080; stroke-width: 0.8\"/>\n      </g>\n     </g>\n     <g id=\"text_14\">\n      <!-- 3.0 -->\n      <g style=\"fill: #808080\" transform=\"translate(416.126875 117.607346)scale(0.1 -0.1)\">\n       <defs>\n        <path id=\"DejaVuSans-33\" d=\"M 2597 2516 \nQ 3050 2419 3304 2112 \nQ 3559 1806 3559 1356 \nQ 3559 666 3084 287 \nQ 2609 -91 1734 -91 \nQ 1441 -91 1130 -33 \nQ 819 25 488 141 \nL 488 750 \nQ 750 597 1062 519 \nQ 1375 441 1716 441 \nQ 2309 441 2620 675 \nQ 2931 909 2931 1356 \nQ 2931 1769 2642 2001 \nQ 2353 2234 1838 2234 \nL 1294 2234 \nL 1294 2753 \nL 1863 2753 \nQ 2328 2753 2575 2939 \nQ 2822 3125 2822 3475 \nQ 2822 3834 2567 4026 \nQ 2313 4219 1838 4219 \nQ 1578 4219 1281 4162 \nQ 984 4106 628 3988 \nL 628 4550 \nQ 988 4650 1302 4700 \nQ 1616 4750 1894 4750 \nQ 2613 4750 3031 4423 \nQ 3450 4097 3450 3541 \nQ 3450 3153 3228 2886 \nQ 3006 2619 2597 2516 \nz\n\" transform=\"scale(0.015625)\"/>\n       </defs>\n       <use xlink:href=\"#DejaVuSans-33\"/>\n       <use xlink:href=\"#DejaVuSans-2e\" x=\"63.623047\"/>\n       <use xlink:href=\"#DejaVuSans-30\" x=\"95.410156\"/>\n      </g>\n     </g>\n    </g>\n    <g id=\"ytick_14\">\n     <g id=\"line2d_14\">\n      <g>\n       <use xlink:href=\"#mbd052dc971\" x=\"409.126875\" y=\"93.776148\" style=\"fill: #808080; stroke: #808080; stroke-width: 0.8\"/>\n      </g>\n     </g>\n     <g id=\"text_15\">\n      <!-- 3.5 -->\n      <g style=\"fill: #808080\" transform=\"translate(416.126875 97.575367)scale(0.1 -0.1)\">\n       <use xlink:href=\"#DejaVuSans-33\"/>\n       <use xlink:href=\"#DejaVuSans-2e\" x=\"63.623047\"/>\n       <use xlink:href=\"#DejaVuSans-35\" x=\"95.410156\"/>\n      </g>\n     </g>\n    </g>\n    <g id=\"ytick_15\">\n     <g id=\"line2d_15\">\n      <g>\n       <use xlink:href=\"#mbd052dc971\" x=\"409.126875\" y=\"73.744169\" style=\"fill: #808080; stroke: #808080; stroke-width: 0.8\"/>\n      </g>\n     </g>\n     <g id=\"text_16\">\n      <!-- 4.0 -->\n      <g style=\"fill: #808080\" transform=\"translate(416.126875 77.543388)scale(0.1 -0.1)\">\n       <use xlink:href=\"#DejaVuSans-34\"/>\n       <use xlink:href=\"#DejaVuSans-2e\" x=\"63.623047\"/>\n       <use xlink:href=\"#DejaVuSans-30\" x=\"95.410156\"/>\n      </g>\n     </g>\n    </g>\n   </g>\n   <g id=\"LineCollection_4\"/>\n   <g id=\"text_17\">\n    <!-- log10[FLOPS] -->\n    <g style=\"fill: #808080\" transform=\"translate(365.33625 48)scale(0.12 -0.12)\">\n     <defs>\n      <path id=\"DejaVuSans-46\" d=\"M 628 4666 \nL 3309 4666 \nL 3309 4134 \nL 1259 4134 \nL 1259 2759 \nL 3109 2759 \nL 3109 2228 \nL 1259 2228 \nL 1259 0 \nL 628 0 \nL 628 4666 \nz\n\" transform=\"scale(0.015625)\"/>\n      <path id=\"DejaVuSans-4c\" d=\"M 628 4666 \nL 1259 4666 \nL 1259 531 \nL 3531 531 \nL 3531 0 \nL 628 0 \nL 628 4666 \nz\n\" transform=\"scale(0.015625)\"/>\n      <path id=\"DejaVuSans-4f\" d=\"M 2522 4238 \nQ 1834 4238 1429 3725 \nQ 1025 3213 1025 2328 \nQ 1025 1447 1429 934 \nQ 1834 422 2522 422 \nQ 3209 422 3611 934 \nQ 4013 1447 4013 2328 \nQ 4013 3213 3611 3725 \nQ 3209 4238 2522 4238 \nz\nM 2522 4750 \nQ 3503 4750 4090 4092 \nQ 4678 3434 4678 2328 \nQ 4678 1225 4090 567 \nQ 3503 -91 2522 -91 \nQ 1538 -91 948 565 \nQ 359 1222 359 2328 \nQ 359 3434 948 4092 \nQ 1538 4750 2522 4750 \nz\n\" transform=\"scale(0.015625)\"/>\n      <path id=\"DejaVuSans-50\" d=\"M 1259 4147 \nL 1259 2394 \nL 2053 2394 \nQ 2494 2394 2734 2622 \nQ 2975 2850 2975 3272 \nQ 2975 3691 2734 3919 \nQ 2494 4147 2053 4147 \nL 1259 4147 \nz\nM 628 4666 \nL 2053 4666 \nQ 2838 4666 3239 4311 \nQ 3641 3956 3641 3272 \nQ 3641 2581 3239 2228 \nQ 2838 1875 2053 1875 \nL 1259 1875 \nL 1259 0 \nL 628 0 \nL 628 4666 \nz\n\" transform=\"scale(0.015625)\"/>\n     </defs>\n     <use xlink:href=\"#DejaVuSans-6c\"/>\n     <use xlink:href=\"#DejaVuSans-6f\" x=\"27.783203\"/>\n     <use xlink:href=\"#DejaVuSans-67\" x=\"88.964844\"/>\n     <use xlink:href=\"#DejaVuSans-31\" x=\"152.441406\"/>\n     <use xlink:href=\"#DejaVuSans-30\" x=\"216.064453\"/>\n     <use xlink:href=\"#DejaVuSans-5b\" x=\"279.6875\"/>\n     <use xlink:href=\"#DejaVuSans-46\" x=\"318.701172\"/>\n     <use xlink:href=\"#DejaVuSans-4c\" x=\"376.220703\"/>\n     <use xlink:href=\"#DejaVuSans-4f\" x=\"428.308594\"/>\n     <use xlink:href=\"#DejaVuSans-50\" x=\"507.019531\"/>\n     <use xlink:href=\"#DejaVuSans-53\" x=\"567.322266\"/>\n     <use xlink:href=\"#DejaVuSans-5d\" x=\"630.798828\"/>\n    </g>\n   </g>\n  </g>\n </g>\n <defs>\n  <clipPath id=\"p19656e730d\">\n   <rect x=\"101.361056\" y=\"7.2\" width=\"250.131638\" height=\"271.8\"/>\n  </clipPath>\n  <clipPath id=\"p463b303399\">\n   <rect x=\"34.726875\" y=\"54\" width=\"7.2\" height=\"180\"/>\n  </clipPath>\n  <clipPath id=\"p28dca04378\">\n   <rect x=\"401.926875\" y=\"54\" width=\"7.2\" height=\"180\"/>\n  </clipPath>\n </defs>\n</svg>\n",
      "text/plain": [
       "<Figure size 360x360 with 3 Axes>"
      ]
     },
     "metadata": {
      "needs_background": "light"
     },
     "output_type": "display_data"
    }
   ],
   "source": [
    "tree.plot_tent()"
   ]
  },
  {
   "cell_type": "code",
   "execution_count": 13,
   "id": "a5b9546b-f73b-4e4d-aac4-9e8fac5ea803",
   "metadata": {},
   "outputs": [
    {
     "data": {
      "image/svg+xml": "<?xml version=\"1.0\" encoding=\"utf-8\" standalone=\"no\"?>\n<!DOCTYPE svg PUBLIC \"-//W3C//DTD SVG 1.1//EN\"\n  \"http://www.w3.org/Graphics/SVG/1.1/DTD/svg11.dtd\">\n<svg xmlns:xlink=\"http://www.w3.org/1999/xlink\" width=\"452.9175pt\" height=\"286.2pt\" viewBox=\"0 0 452.9175 286.2\" xmlns=\"http://www.w3.org/2000/svg\" version=\"1.1\">\n <metadata>\n  <rdf:RDF xmlns:dc=\"http://purl.org/dc/elements/1.1/\" xmlns:cc=\"http://creativecommons.org/ns#\" xmlns:rdf=\"http://www.w3.org/1999/02/22-rdf-syntax-ns#\">\n   <cc:Work>\n    <dc:type rdf:resource=\"http://purl.org/dc/dcmitype/StillImage\"/>\n    <dc:date>2022-01-12T11:36:03.889379</dc:date>\n    <dc:format>image/svg+xml</dc:format>\n    <dc:creator>\n     <cc:Agent>\n      <dc:title>Matplotlib v3.5.0, https://matplotlib.org/</dc:title>\n     </cc:Agent>\n    </dc:creator>\n   </cc:Work>\n  </rdf:RDF>\n </metadata>\n <defs>\n  <style type=\"text/css\">*{stroke-linejoin: round; stroke-linecap: butt}</style>\n </defs>\n <g id=\"figure_1\">\n  <g id=\"patch_1\">\n   <path d=\"M 0 286.2 \nL 452.9175 286.2 \nL 452.9175 0 \nL 0 0 \nL 0 286.2 \nz\n\" style=\"fill: none\"/>\n  </g>\n  <g id=\"axes_1\">\n   <g id=\"LineCollection_1\">\n    <path d=\"M 160.811253 233.004559 \nL 120.203448 108.026586 \n\" clip-path=\"url(#pd9e50e937b)\" style=\"fill: none; stroke: #808080; stroke-opacity: 0.1\"/>\n    <path d=\"M 160.811253 233.004559 \nL 332.828676 177.11271 \n\" clip-path=\"url(#pd9e50e937b)\" style=\"fill: none; stroke: #808080; stroke-opacity: 0.1; stroke-width: 1.584963\"/>\n    <path d=\"M 160.811253 233.004559 \nL 120.203448 177.11271 \n\" clip-path=\"url(#pd9e50e937b)\" style=\"fill: none; stroke: #808080; stroke-opacity: 0.1; stroke-width: 1.584963\"/>\n    <path d=\"M 120.203448 108.026586 \nL 120.025074 107.944147 \n\" clip-path=\"url(#pd9e50e937b)\" style=\"fill: none; stroke: #808080; stroke-opacity: 0.1\"/>\n    <path d=\"M 120.203448 108.026586 \nL 292.220871 233.004559 \n\" clip-path=\"url(#pd9e50e937b)\" style=\"fill: none; stroke: #808080; stroke-opacity: 0.1; stroke-width: 1.584963\"/>\n    <path d=\"M 120.203448 108.026586 \nL 332.828676 177.11271 \n\" clip-path=\"url(#pd9e50e937b)\" style=\"fill: none; stroke: #808080; stroke-opacity: 0.1; stroke-width: 1.584963\"/>\n    <path d=\"M 120.203448 177.11271 \nL 292.220871 52.134737 \n\" clip-path=\"url(#pd9e50e937b)\" style=\"fill: none; stroke: #808080; stroke-opacity: 0.1\"/>\n    <path d=\"M 120.203448 177.11271 \nL 332.828676 108.026586 \n\" clip-path=\"url(#pd9e50e937b)\" style=\"fill: none; stroke: #808080; stroke-opacity: 0.1\"/>\n    <path d=\"M 226.592162 255.41405 \nL 226.516062 254.353346 \n\" clip-path=\"url(#pd9e50e937b)\" style=\"fill: none; stroke: #808080; stroke-opacity: 0.1\"/>\n    <path d=\"M 226.516062 254.353346 \nL 332.828676 108.026586 \n\" clip-path=\"url(#pd9e50e937b)\" style=\"fill: none; stroke: #808080; stroke-opacity: 0.1\"/>\n    <path d=\"M 226.516062 254.353346 \nL 226.516062 30.78595 \n\" clip-path=\"url(#pd9e50e937b)\" style=\"fill: none; stroke: #808080; stroke-opacity: 0.1; stroke-width: 1.584963\"/>\n    <path d=\"M 332.828676 108.026586 \nL 226.516062 30.78595 \n\" clip-path=\"url(#pd9e50e937b)\" style=\"fill: none; stroke: #808080; stroke-opacity: 0.1\"/>\n    <path d=\"M 226.516062 30.78595 \nL 160.811253 52.134737 \n\" clip-path=\"url(#pd9e50e937b)\" style=\"fill: none; stroke: #808080; stroke-opacity: 0.1; stroke-width: 1.584963\"/>\n    <path d=\"M 226.516062 30.78595 \nL 292.220871 52.134737 \n\" clip-path=\"url(#pd9e50e937b)\" style=\"fill: none; stroke: #808080; stroke-opacity: 0.1\"/>\n   </g>\n   <g id=\"LineCollection_2\">\n    <path d=\"M 263.520359 73.03746 \nL 226.516062 30.78595 \n\" clip-path=\"url(#pd9e50e937b)\" style=\"fill: none; stroke: #c7e9c3; stroke-opacity: 0.97; stroke-width: 2.054561\"/>\n    <path d=\"M 263.520359 73.03746 \nL 292.220871 52.134737 \n\" clip-path=\"url(#pd9e50e937b)\" style=\"fill: none; stroke: #f3faec; stroke-opacity: 0.97; stroke-width: 1.359176\"/>\n    <path d=\"M 263.520359 73.03746 \nL 276.572582 111.449347 \n\" clip-path=\"url(#pd9e50e937b)\" style=\"fill: none; stroke: #c7e9c3; stroke-opacity: 0.97; stroke-width: 2.054561\"/>\n    <path d=\"M 276.572582 111.449347 \nL 332.828676 108.026586 \n\" clip-path=\"url(#pd9e50e937b)\" style=\"fill: none; stroke: #d8f0d3; stroke-opacity: 0.97; stroke-width: 1.784359\"/>\n    <path d=\"M 276.572582 111.449347 \nL 257.13039 141.859338 \n\" clip-path=\"url(#pd9e50e937b)\" style=\"fill: none; stroke: #92d5bc; stroke-opacity: 0.97; stroke-width: 2.529094\"/>\n    <path d=\"M 285.754133 176.956109 \nL 332.828676 177.11271 \n\" clip-path=\"url(#pd9e50e937b)\" style=\"fill: none; stroke: #e3f4de; stroke-opacity: 0.97; stroke-width: 1.6\"/>\n    <path d=\"M 285.754133 176.956109 \nL 292.220871 233.004559 \n\" clip-path=\"url(#pd9e50e937b)\" style=\"fill: none; stroke: #f7fcf0; stroke-opacity: 0.97; stroke-width: 1.281648\"/>\n    <path d=\"M 285.754133 176.956109 \nL 257.13039 141.859338 \n\" clip-path=\"url(#pd9e50e937b)\" style=\"fill: none; stroke: #ceecc8; stroke-opacity: 0.97; stroke-width: 1.957726\"/>\n    <path d=\"M 257.13039 141.859338 \nL 226.516062 142.569648 \n\" clip-path=\"url(#pd9e50e937b)\" style=\"fill: none; stroke: #1373b2; stroke-opacity: 0.97; stroke-width: 3.67187\"/>\n    <path d=\"M 185.108362 210.69381 \nL 226.516062 254.353346 \n\" clip-path=\"url(#pd9e50e937b)\" style=\"fill: none; stroke: #ddf2d8; stroke-opacity: 0.97; stroke-width: 1.691155\"/>\n    <path d=\"M 185.108362 210.69381 \nL 160.811253 233.004559 \n\" clip-path=\"url(#pd9e50e937b)\" style=\"fill: none; stroke: #d6efd0; stroke-opacity: 0.97; stroke-width: 1.823003\"/>\n    <path d=\"M 185.108362 210.69381 \nL 165.569607 172.085883 \n\" clip-path=\"url(#pd9e50e937b)\" style=\"fill: none; stroke: #81cec2; stroke-opacity: 0.97; stroke-width: 2.669168\"/>\n    <path d=\"M 165.569607 172.085883 \nL 120.203448 177.11271 \n\" clip-path=\"url(#pd9e50e937b)\" style=\"fill: none; stroke: #d1edca; stroke-opacity: 0.97; stroke-width: 1.918352\"/>\n    <path d=\"M 165.569607 172.085883 \nL 169.009937 137.770728 \n\" clip-path=\"url(#pd9e50e937b)\" style=\"fill: none; stroke: #57b8d0; stroke-opacity: 0.97; stroke-width: 3.008941\"/>\n    <path d=\"M 169.009937 137.770728 \nL 120.203448 108.026586 \n\" clip-path=\"url(#pd9e50e937b)\" style=\"fill: none; stroke: #c7e9c3; stroke-opacity: 0.97; stroke-width: 2.054561\"/>\n    <path d=\"M 169.009937 137.770728 \nL 195.140405 122.605632 \n\" clip-path=\"url(#pd9e50e937b)\" style=\"fill: none; stroke: #0a6aad; stroke-opacity: 0.97; stroke-width: 3.771799\"/>\n    <path d=\"M 195.140405 122.605632 \nL 160.811253 52.134737 \n\" clip-path=\"url(#pd9e50e937b)\" style=\"fill: none; stroke: #f7fcf0; stroke-opacity: 0.97; stroke-width: 1.281648\"/>\n    <path d=\"M 195.140405 122.605632 \nL 226.516062 142.569648 \n\" clip-path=\"url(#pd9e50e937b)\" style=\"fill: none; stroke: #084081; stroke-opacity: 0.97; stroke-width: 4.153451\"/>\n   </g>\n   <g id=\"PathCollection_1\">\n    <path d=\"M 263.520359 75.551965 \nC 264.187214 75.551965 264.826845 75.287021 265.298383 74.815483 \nC 265.76992 74.343946 266.034864 73.704314 266.034864 73.03746 \nC 266.034864 72.370605 265.76992 71.730973 265.298383 71.259436 \nC 264.826845 70.787899 264.187214 70.522954 263.520359 70.522954 \nC 262.853505 70.522954 262.213873 70.787899 261.742335 71.259436 \nC 261.270798 71.730973 261.005854 72.370605 261.005854 73.03746 \nC 261.005854 73.704314 261.270798 74.343946 261.742335 74.815483 \nC 262.213873 75.287021 262.853505 75.551965 263.520359 75.551965 \nz\n\" clip-path=\"url(#pd9e50e937b)\" style=\"fill: #fd923e; fill-opacity: 0.97; stroke: #fd923e; stroke-opacity: 0.97\"/>\n    <path d=\"M 226.516062 32.200164 \nC 226.891116 32.200164 227.250859 32.051154 227.516062 31.78595 \nC 227.781265 31.520747 227.930276 31.161004 227.930276 30.78595 \nC 227.930276 30.410897 227.781265 30.051154 227.516062 29.78595 \nC 227.250859 29.520747 226.891116 29.371737 226.516062 29.371737 \nC 226.141008 29.371737 225.781265 29.520747 225.516062 29.78595 \nC 225.250859 30.051154 225.101848 30.410897 225.101848 30.78595 \nC 225.101848 31.161004 225.250859 31.520747 225.516062 31.78595 \nC 225.781265 32.051154 226.141008 32.200164 226.516062 32.200164 \nz\n\" clip-path=\"url(#pd9e50e937b)\" style=\"fill: #ffffcc; fill-opacity: 0.97; stroke: #ffffcc; stroke-opacity: 0.97\"/>\n    <path d=\"M 292.220871 53.548951 \nC 292.595925 53.548951 292.955668 53.39994 293.220871 53.134737 \nC 293.486074 52.869534 293.635084 52.509791 293.635084 52.134737 \nC 293.635084 51.759683 293.486074 51.39994 293.220871 51.134737 \nC 292.955668 50.869534 292.595925 50.720523 292.220871 50.720523 \nC 291.845817 50.720523 291.486074 50.869534 291.220871 51.134737 \nC 290.955668 51.39994 290.806657 51.759683 290.806657 52.134737 \nC 290.806657 52.509791 290.955668 52.869534 291.220871 53.134737 \nC 291.486074 53.39994 291.845817 53.548951 292.220871 53.548951 \nz\n\" clip-path=\"url(#pd9e50e937b)\" style=\"fill: #ffffcc; fill-opacity: 0.97; stroke: #ffffcc; stroke-opacity: 0.97\"/>\n    <path d=\"M 276.572582 114.192038 \nC 277.299952 114.192038 277.997629 113.903051 278.511957 113.388722 \nC 279.026285 112.874394 279.315272 112.176717 279.315272 111.449347 \nC 279.315272 110.721977 279.026285 110.024301 278.511957 109.509972 \nC 277.997629 108.995644 277.299952 108.706657 276.572582 108.706657 \nC 275.845212 108.706657 275.147535 108.995644 274.633207 109.509972 \nC 274.118878 110.024301 273.829891 110.721977 273.829891 111.449347 \nC 273.829891 112.176717 274.118878 112.874394 274.633207 113.388722 \nC 275.147535 113.903051 275.845212 114.192038 276.572582 114.192038 \nz\n\" clip-path=\"url(#pd9e50e937b)\" style=\"fill: #fc532b; fill-opacity: 0.97; stroke: #fc532b; stroke-opacity: 0.97\"/>\n    <path d=\"M 332.828676 109.440799 \nC 333.20373 109.440799 333.563473 109.291789 333.828676 109.026586 \nC 334.093879 108.761383 334.24289 108.40164 334.24289 108.026586 \nC 334.24289 107.651532 334.093879 107.291789 333.828676 107.026586 \nC 333.563473 106.761383 333.20373 106.612372 332.828676 106.612372 \nC 332.453622 106.612372 332.093879 106.761383 331.828676 107.026586 \nC 331.563473 107.291789 331.414463 107.651532 331.414463 108.026586 \nC 331.414463 108.40164 331.563473 108.761383 331.828676 109.026586 \nC 332.093879 109.291789 332.453622 109.440799 332.828676 109.440799 \nz\n\" clip-path=\"url(#pd9e50e937b)\" style=\"fill: #ffffcc; fill-opacity: 0.97; stroke: #ffffcc; stroke-opacity: 0.97\"/>\n    <path d=\"M 285.754133 179.16842 \nC 286.340844 179.16842 286.903605 178.935317 287.318472 178.520449 \nC 287.73334 178.105581 287.966443 177.542821 287.966443 176.956109 \nC 287.966443 176.369398 287.73334 175.806638 287.318472 175.39177 \nC 286.903605 174.976902 286.340844 174.743799 285.754133 174.743799 \nC 285.167421 174.743799 284.604661 174.976902 284.189793 175.39177 \nC 283.774926 175.806638 283.541823 176.369398 283.541823 176.956109 \nC 283.541823 177.542821 283.774926 178.105581 284.189793 178.520449 \nC 284.604661 178.935317 285.167421 179.16842 285.754133 179.16842 \nz\n\" clip-path=\"url(#pd9e50e937b)\" style=\"fill: #fec35e; fill-opacity: 0.97; stroke: #fec35e; stroke-opacity: 0.97\"/>\n    <path d=\"M 332.828676 178.526924 \nC 333.20373 178.526924 333.563473 178.377913 333.828676 178.11271 \nC 334.093879 177.847507 334.24289 177.487764 334.24289 177.11271 \nC 334.24289 176.737657 334.093879 176.377913 333.828676 176.11271 \nC 333.563473 175.847507 333.20373 175.698497 332.828676 175.698497 \nC 332.453622 175.698497 332.093879 175.847507 331.828676 176.11271 \nC 331.563473 176.377913 331.414463 176.737657 331.414463 177.11271 \nC 331.414463 177.487764 331.563473 177.847507 331.828676 178.11271 \nC 332.093879 178.377913 332.453622 178.526924 332.828676 178.526924 \nz\n\" clip-path=\"url(#pd9e50e937b)\" style=\"fill: #ffffcc; fill-opacity: 0.97; stroke: #ffffcc; stroke-opacity: 0.97\"/>\n    <path d=\"M 292.220871 234.418773 \nC 292.595925 234.418773 292.955668 234.269762 293.220871 234.004559 \nC 293.486074 233.739356 293.635084 233.379613 293.635084 233.004559 \nC 293.635084 232.629505 293.486074 232.269762 293.220871 232.004559 \nC 292.955668 231.739356 292.595925 231.590346 292.220871 231.590346 \nC 291.845817 231.590346 291.486074 231.739356 291.220871 232.004559 \nC 290.955668 232.269762 290.806657 232.629505 290.806657 233.004559 \nC 290.806657 233.379613 290.955668 233.739356 291.220871 234.004559 \nC 291.486074 234.269762 291.845817 234.418773 292.220871 234.418773 \nz\n\" clip-path=\"url(#pd9e50e937b)\" style=\"fill: #ffffcc; fill-opacity: 0.97; stroke: #ffffcc; stroke-opacity: 0.97\"/>\n    <path d=\"M 257.13039 144.889136 \nC 257.933901 144.889136 258.704612 144.569898 259.27278 144.001729 \nC 259.840949 143.433561 260.160188 142.66285 260.160188 141.859338 \nC 260.160188 141.055827 259.840949 140.285116 259.27278 139.716948 \nC 258.704612 139.148779 257.933901 138.829541 257.13039 138.829541 \nC 256.326878 138.829541 255.556168 139.148779 254.987999 139.716948 \nC 254.41983 140.285116 254.100592 141.055827 254.100592 141.859338 \nC 254.100592 142.66285 254.41983 143.433561 254.987999 144.001729 \nC 255.556168 144.569898 256.326878 144.889136 257.13039 144.889136 \nz\n\" clip-path=\"url(#pd9e50e937b)\" style=\"fill: #d41020; fill-opacity: 0.97; stroke: #d41020; stroke-opacity: 0.97\"/>\n    <path d=\"M 185.108362 213.277009 \nC 185.793434 213.277009 186.45054 213.004827 186.93496 212.520407 \nC 187.419379 212.035988 187.691561 211.378882 187.691561 210.69381 \nC 187.691561 210.008737 187.419379 209.351631 186.93496 208.867212 \nC 186.45054 208.382792 185.793434 208.11061 185.108362 208.11061 \nC 184.423289 208.11061 183.766184 208.382792 183.281764 208.867212 \nC 182.797345 209.351631 182.525163 210.008737 182.525163 210.69381 \nC 182.525163 211.378882 182.797345 212.035988 183.281764 212.520407 \nC 183.766184 213.004827 184.423289 213.277009 185.108362 213.277009 \nz\n\" clip-path=\"url(#pd9e50e937b)\" style=\"fill: #fd8239; fill-opacity: 0.97; stroke: #fd8239; stroke-opacity: 0.97\"/>\n    <path d=\"M 226.516062 255.767559 \nC 226.891116 255.767559 227.250859 255.618549 227.516062 255.353346 \nC 227.781265 255.088143 227.930276 254.7284 227.930276 254.353346 \nC 227.930276 253.978292 227.781265 253.618549 227.516062 253.353346 \nC 227.250859 253.088143 226.891116 252.939132 226.516062 252.939132 \nC 226.141008 252.939132 225.781265 253.088143 225.516062 253.353346 \nC 225.250859 253.618549 225.101848 253.978292 225.101848 254.353346 \nC 225.101848 254.7284 225.250859 255.088143 225.516062 255.353346 \nC 225.781265 255.618549 226.141008 255.767559 226.516062 255.767559 \nz\n\" clip-path=\"url(#pd9e50e937b)\" style=\"fill: #ffffcc; fill-opacity: 0.97; stroke: #ffffcc; stroke-opacity: 0.97\"/>\n    <path d=\"M 160.811253 234.418773 \nC 161.186307 234.418773 161.54605 234.269762 161.811253 234.004559 \nC 162.076456 233.739356 162.225467 233.379613 162.225467 233.004559 \nC 162.225467 232.629505 162.076456 232.269762 161.811253 232.004559 \nC 161.54605 231.739356 161.186307 231.590346 160.811253 231.590346 \nC 160.436199 231.590346 160.076456 231.739356 159.811253 232.004559 \nC 159.54605 232.269762 159.397039 232.629505 159.397039 233.004559 \nC 159.397039 233.379613 159.54605 233.739356 159.811253 234.004559 \nC 160.076456 234.269762 160.436199 234.418773 160.811253 234.418773 \nz\n\" clip-path=\"url(#pd9e50e937b)\" style=\"fill: #ffffcc; fill-opacity: 0.97; stroke: #ffffcc; stroke-opacity: 0.97\"/>\n    <path d=\"M 165.569607 175.098755 \nC 166.36863 175.098755 167.135034 174.7813 167.700029 174.216305 \nC 168.265024 173.651311 168.582479 172.884906 168.582479 172.085883 \nC 168.582479 171.28686 168.265024 170.520455 167.700029 169.955461 \nC 167.135034 169.390466 166.36863 169.073011 165.569607 169.073011 \nC 164.770584 169.073011 164.004179 169.390466 163.439184 169.955461 \nC 162.87419 170.520455 162.556734 171.28686 162.556734 172.085883 \nC 162.556734 172.884906 162.87419 173.651311 163.439184 174.216305 \nC 164.004179 174.7813 164.770584 175.098755 165.569607 175.098755 \nz\n\" clip-path=\"url(#pd9e50e937b)\" style=\"fill: #d7121f; fill-opacity: 0.97; stroke: #d7121f; stroke-opacity: 0.97\"/>\n    <path d=\"M 120.203448 178.526924 \nC 120.578502 178.526924 120.938245 178.377913 121.203448 178.11271 \nC 121.468651 177.847507 121.617661 177.487764 121.617661 177.11271 \nC 121.617661 176.737657 121.468651 176.377913 121.203448 176.11271 \nC 120.938245 175.847507 120.578502 175.698497 120.203448 175.698497 \nC 119.828394 175.698497 119.468651 175.847507 119.203448 176.11271 \nC 118.938245 176.377913 118.789234 176.737657 118.789234 177.11271 \nC 118.789234 177.487764 118.938245 177.847507 119.203448 178.11271 \nC 119.468651 178.377913 119.828394 178.526924 120.203448 178.526924 \nz\n\" clip-path=\"url(#pd9e50e937b)\" style=\"fill: #ffffcc; fill-opacity: 0.97; stroke: #ffffcc; stroke-opacity: 0.97\"/>\n    <path d=\"M 169.009937 141.031631 \nC 169.874739 141.031631 170.704237 140.688042 171.315744 140.076535 \nC 171.927252 139.465028 172.270841 138.63553 172.270841 137.770728 \nC 172.270841 136.905926 171.927252 136.076428 171.315744 135.464921 \nC 170.704237 134.853414 169.874739 134.509824 169.009937 134.509824 \nC 168.145136 134.509824 167.315638 134.853414 166.70413 135.464921 \nC 166.092623 136.076428 165.749034 136.905926 165.749034 137.770728 \nC 165.749034 138.63553 166.092623 139.465028 166.70413 140.076535 \nC 167.315638 140.688042 168.145136 141.031631 169.009937 141.031631 \nz\n\" clip-path=\"url(#pd9e50e937b)\" style=\"fill: #930026; fill-opacity: 0.97; stroke: #930026; stroke-opacity: 0.97\"/>\n    <path d=\"M 120.203448 109.440799 \nC 120.578502 109.440799 120.938245 109.291789 121.203448 109.026586 \nC 121.468651 108.761383 121.617661 108.40164 121.617661 108.026586 \nC 121.617661 107.651532 121.468651 107.291789 121.203448 107.026586 \nC 120.938245 106.761383 120.578502 106.612372 120.203448 106.612372 \nC 119.828394 106.612372 119.468651 106.761383 119.203448 107.026586 \nC 118.938245 107.291789 118.789234 107.651532 118.789234 108.026586 \nC 118.789234 108.40164 118.938245 108.761383 119.203448 109.026586 \nC 119.468651 109.291789 119.828394 109.440799 120.203448 109.440799 \nz\n\" clip-path=\"url(#pd9e50e937b)\" style=\"fill: #ffffcc; fill-opacity: 0.97; stroke: #ffffcc; stroke-opacity: 0.97\"/>\n    <path d=\"M 195.140405 125.827996 \nC 195.994986 125.827996 196.814681 125.488468 197.418961 124.884188 \nC 198.023241 124.279908 198.362769 123.460213 198.362769 122.605632 \nC 198.362769 121.751051 198.023241 120.931357 197.418961 120.327077 \nC 196.814681 119.722797 195.994986 119.383269 195.140405 119.383269 \nC 194.285825 119.383269 193.46613 119.722797 192.86185 120.327077 \nC 192.25757 120.931357 191.918042 121.751051 191.918042 122.605632 \nC 191.918042 123.460213 192.25757 124.279908 192.86185 124.884188 \nC 193.46613 125.488468 194.285825 125.827996 195.140405 125.827996 \nz\n\" clip-path=\"url(#pd9e50e937b)\" style=\"fill: #a10026; fill-opacity: 0.97; stroke: #a10026; stroke-opacity: 0.97\"/>\n    <path d=\"M 160.811253 53.548951 \nC 161.186307 53.548951 161.54605 53.39994 161.811253 53.134737 \nC 162.076456 52.869534 162.225467 52.509791 162.225467 52.134737 \nC 162.225467 51.759683 162.076456 51.39994 161.811253 51.134737 \nC 161.54605 50.869534 161.186307 50.720523 160.811253 50.720523 \nC 160.436199 50.720523 160.076456 50.869534 159.811253 51.134737 \nC 159.54605 51.39994 159.397039 51.759683 159.397039 52.134737 \nC 159.397039 52.509791 159.54605 52.869534 159.811253 53.134737 \nC 160.076456 53.39994 160.436199 53.548951 160.811253 53.548951 \nz\n\" clip-path=\"url(#pd9e50e937b)\" style=\"fill: #ffffcc; fill-opacity: 0.97; stroke: #ffffcc; stroke-opacity: 0.97\"/>\n    <path d=\"M 226.516062 145.88411 \nC 227.395068 145.88411 228.23819 145.534878 228.859741 144.913327 \nC 229.481292 144.291776 229.830524 143.448654 229.830524 142.569648 \nC 229.830524 141.690642 229.481292 140.84752 228.859741 140.225969 \nC 228.23819 139.604418 227.395068 139.255186 226.516062 139.255186 \nC 225.637056 139.255186 224.793934 139.604418 224.172383 140.225969 \nC 223.550832 140.84752 223.2016 141.690642 223.2016 142.569648 \nC 223.2016 143.448654 223.550832 144.291776 224.172383 144.913327 \nC 224.793934 145.534878 225.637056 145.88411 226.516062 145.88411 \nz\n\" clip-path=\"url(#pd9e50e937b)\" style=\"fill: #800026; fill-opacity: 0.97; stroke: #800026; stroke-opacity: 0.97\"/>\n   </g>\n  </g>\n  <g id=\"axes_2\">\n   <g id=\"patch_2\">\n    <path d=\"M 34.726875 234 \nL 41.926875 234 \nL 41.926875 54 \nL 34.726875 54 \nL 34.726875 234 \nz\n\" style=\"fill: none\"/>\n   </g>\n   <g id=\"patch_3\">\n    <path clip-path=\"url(#p41c1c3e7e8)\" style=\"fill: none\"/>\n   </g>\n   <image xlink:href=\"data:image/png;base64,\niVBORw0KGgoAAAANSUhEUgAAAAcAAAC0CAYAAABYDDYIAAABC0lEQVR4nOWXQQ7DMAgEaZX/v7W3XgruCzyWBhFVaq5oF1iW2H68P68Vm+9asY3FtRYFh5DbUMS1Vt2OLEA+ATimUFEwiNYjWaEAbSFlB3nwEA2bae83WEytoG6lIZ+ttuFb3BWi9cInI7exQ0GHeQJt+r+JX3tE8jw1rW9lRr4hhXI9dE5AelpGsraIhCDaxNMOiYDCM20NTcWKgMIzLbaibcLaNtxHSJ6KFaHw/PS+ndG2wApjjmeD6csSHstprzyIxGEXiHu4ZpEIpRWqtIcr5/QFaVpEciskAk/Ft9KYyo8VxLviczZsMlNQoxUqiLWlx0wlBe3Tq0GLSMyZGklv3qA/9RTyP6byBRxUiaP/OuqpAAAAAElFTkSuQmCC\" id=\"image2ac06a1d82\" transform=\"scale(1 -1)translate(0 -180)\" x=\"35\" y=\"-54\" width=\"7\" height=\"180\"/>\n   <g id=\"matplotlib.axis_1\">\n    <g id=\"ytick_1\">\n     <g id=\"line2d_1\">\n      <defs>\n       <path id=\"m9b4eddcdd9\" d=\"M 0 0 \nL -3.5 0 \n\" style=\"stroke: #808080; stroke-width: 0.8\"/>\n      </defs>\n      <g>\n       <use xlink:href=\"#m9b4eddcdd9\" x=\"34.726875\" y=\"227.945895\" style=\"fill: #808080; stroke: #808080; stroke-width: 0.8\"/>\n      </g>\n     </g>\n     <g id=\"text_1\">\n      <!-- 2 -->\n      <g style=\"fill: #808080\" transform=\"translate(21.364375 231.745114)scale(0.1 -0.1)\">\n       <defs>\n        <path id=\"DejaVuSans-32\" d=\"M 1228 531 \nL 3431 531 \nL 3431 0 \nL 469 0 \nL 469 531 \nQ 828 903 1448 1529 \nQ 2069 2156 2228 2338 \nQ 2531 2678 2651 2914 \nQ 2772 3150 2772 3378 \nQ 2772 3750 2511 3984 \nQ 2250 4219 1831 4219 \nQ 1534 4219 1204 4116 \nQ 875 4013 500 3803 \nL 500 4441 \nQ 881 4594 1212 4672 \nQ 1544 4750 1819 4750 \nQ 2544 4750 2975 4387 \nQ 3406 4025 3406 3419 \nQ 3406 3131 3298 2873 \nQ 3191 2616 2906 2266 \nQ 2828 2175 2409 1742 \nQ 1991 1309 1228 531 \nz\n\" transform=\"scale(0.015625)\"/>\n       </defs>\n       <use xlink:href=\"#DejaVuSans-32\"/>\n      </g>\n     </g>\n    </g>\n    <g id=\"ytick_2\">\n     <g id=\"line2d_2\">\n      <g>\n       <use xlink:href=\"#m9b4eddcdd9\" x=\"34.726875\" y=\"198.77212\" style=\"fill: #808080; stroke: #808080; stroke-width: 0.8\"/>\n      </g>\n     </g>\n     <g id=\"text_2\">\n      <!-- 4 -->\n      <g style=\"fill: #808080\" transform=\"translate(21.364375 202.571339)scale(0.1 -0.1)\">\n       <defs>\n        <path id=\"DejaVuSans-34\" d=\"M 2419 4116 \nL 825 1625 \nL 2419 1625 \nL 2419 4116 \nz\nM 2253 4666 \nL 3047 4666 \nL 3047 1625 \nL 3713 1625 \nL 3713 1100 \nL 3047 1100 \nL 3047 0 \nL 2419 0 \nL 2419 1100 \nL 313 1100 \nL 313 1709 \nL 2253 4666 \nz\n\" transform=\"scale(0.015625)\"/>\n       </defs>\n       <use xlink:href=\"#DejaVuSans-34\"/>\n      </g>\n     </g>\n    </g>\n    <g id=\"ytick_3\">\n     <g id=\"line2d_3\">\n      <g>\n       <use xlink:href=\"#m9b4eddcdd9\" x=\"34.726875\" y=\"169.598346\" style=\"fill: #808080; stroke: #808080; stroke-width: 0.8\"/>\n      </g>\n     </g>\n     <g id=\"text_3\">\n      <!-- 6 -->\n      <g style=\"fill: #808080\" transform=\"translate(21.364375 173.397565)scale(0.1 -0.1)\">\n       <defs>\n        <path id=\"DejaVuSans-36\" d=\"M 2113 2584 \nQ 1688 2584 1439 2293 \nQ 1191 2003 1191 1497 \nQ 1191 994 1439 701 \nQ 1688 409 2113 409 \nQ 2538 409 2786 701 \nQ 3034 994 3034 1497 \nQ 3034 2003 2786 2293 \nQ 2538 2584 2113 2584 \nz\nM 3366 4563 \nL 3366 3988 \nQ 3128 4100 2886 4159 \nQ 2644 4219 2406 4219 \nQ 1781 4219 1451 3797 \nQ 1122 3375 1075 2522 \nQ 1259 2794 1537 2939 \nQ 1816 3084 2150 3084 \nQ 2853 3084 3261 2657 \nQ 3669 2231 3669 1497 \nQ 3669 778 3244 343 \nQ 2819 -91 2113 -91 \nQ 1303 -91 875 529 \nQ 447 1150 447 2328 \nQ 447 3434 972 4092 \nQ 1497 4750 2381 4750 \nQ 2619 4750 2861 4703 \nQ 3103 4656 3366 4563 \nz\n\" transform=\"scale(0.015625)\"/>\n       </defs>\n       <use xlink:href=\"#DejaVuSans-36\"/>\n      </g>\n     </g>\n    </g>\n    <g id=\"ytick_4\">\n     <g id=\"line2d_4\">\n      <g>\n       <use xlink:href=\"#m9b4eddcdd9\" x=\"34.726875\" y=\"140.424572\" style=\"fill: #808080; stroke: #808080; stroke-width: 0.8\"/>\n      </g>\n     </g>\n     <g id=\"text_4\">\n      <!-- 8 -->\n      <g style=\"fill: #808080\" transform=\"translate(21.364375 144.22379)scale(0.1 -0.1)\">\n       <defs>\n        <path id=\"DejaVuSans-38\" d=\"M 2034 2216 \nQ 1584 2216 1326 1975 \nQ 1069 1734 1069 1313 \nQ 1069 891 1326 650 \nQ 1584 409 2034 409 \nQ 2484 409 2743 651 \nQ 3003 894 3003 1313 \nQ 3003 1734 2745 1975 \nQ 2488 2216 2034 2216 \nz\nM 1403 2484 \nQ 997 2584 770 2862 \nQ 544 3141 544 3541 \nQ 544 4100 942 4425 \nQ 1341 4750 2034 4750 \nQ 2731 4750 3128 4425 \nQ 3525 4100 3525 3541 \nQ 3525 3141 3298 2862 \nQ 3072 2584 2669 2484 \nQ 3125 2378 3379 2068 \nQ 3634 1759 3634 1313 \nQ 3634 634 3220 271 \nQ 2806 -91 2034 -91 \nQ 1263 -91 848 271 \nQ 434 634 434 1313 \nQ 434 1759 690 2068 \nQ 947 2378 1403 2484 \nz\nM 1172 3481 \nQ 1172 3119 1398 2916 \nQ 1625 2713 2034 2713 \nQ 2441 2713 2670 2916 \nQ 2900 3119 2900 3481 \nQ 2900 3844 2670 4047 \nQ 2441 4250 2034 4250 \nQ 1625 4250 1398 4047 \nQ 1172 3844 1172 3481 \nz\n\" transform=\"scale(0.015625)\"/>\n       </defs>\n       <use xlink:href=\"#DejaVuSans-38\"/>\n      </g>\n     </g>\n    </g>\n    <g id=\"ytick_5\">\n     <g id=\"line2d_5\">\n      <g>\n       <use xlink:href=\"#m9b4eddcdd9\" x=\"34.726875\" y=\"111.250797\" style=\"fill: #808080; stroke: #808080; stroke-width: 0.8\"/>\n      </g>\n     </g>\n     <g id=\"text_5\">\n      <!-- 10 -->\n      <g style=\"fill: #808080\" transform=\"translate(15.001875 115.050016)scale(0.1 -0.1)\">\n       <defs>\n        <path id=\"DejaVuSans-31\" d=\"M 794 531 \nL 1825 531 \nL 1825 4091 \nL 703 3866 \nL 703 4441 \nL 1819 4666 \nL 2450 4666 \nL 2450 531 \nL 3481 531 \nL 3481 0 \nL 794 0 \nL 794 531 \nz\n\" transform=\"scale(0.015625)\"/>\n        <path id=\"DejaVuSans-30\" d=\"M 2034 4250 \nQ 1547 4250 1301 3770 \nQ 1056 3291 1056 2328 \nQ 1056 1369 1301 889 \nQ 1547 409 2034 409 \nQ 2525 409 2770 889 \nQ 3016 1369 3016 2328 \nQ 3016 3291 2770 3770 \nQ 2525 4250 2034 4250 \nz\nM 2034 4750 \nQ 2819 4750 3233 4129 \nQ 3647 3509 3647 2328 \nQ 3647 1150 3233 529 \nQ 2819 -91 2034 -91 \nQ 1250 -91 836 529 \nQ 422 1150 422 2328 \nQ 422 3509 836 4129 \nQ 1250 4750 2034 4750 \nz\n\" transform=\"scale(0.015625)\"/>\n       </defs>\n       <use xlink:href=\"#DejaVuSans-31\"/>\n       <use xlink:href=\"#DejaVuSans-30\" x=\"63.623047\"/>\n      </g>\n     </g>\n    </g>\n    <g id=\"ytick_6\">\n     <g id=\"line2d_6\">\n      <g>\n       <use xlink:href=\"#m9b4eddcdd9\" x=\"34.726875\" y=\"82.077023\" style=\"fill: #808080; stroke: #808080; stroke-width: 0.8\"/>\n      </g>\n     </g>\n     <g id=\"text_6\">\n      <!-- 12 -->\n      <g style=\"fill: #808080\" transform=\"translate(15.001875 85.876242)scale(0.1 -0.1)\">\n       <use xlink:href=\"#DejaVuSans-31\"/>\n       <use xlink:href=\"#DejaVuSans-32\" x=\"63.623047\"/>\n      </g>\n     </g>\n    </g>\n   </g>\n   <g id=\"LineCollection_3\"/>\n   <g id=\"text_7\">\n    <!-- log2[SIZE] -->\n    <g style=\"fill: #808080\" transform=\"translate(7.2 48)scale(0.12 -0.12)\">\n     <defs>\n      <path id=\"DejaVuSans-6c\" d=\"M 603 4863 \nL 1178 4863 \nL 1178 0 \nL 603 0 \nL 603 4863 \nz\n\" transform=\"scale(0.015625)\"/>\n      <path id=\"DejaVuSans-6f\" d=\"M 1959 3097 \nQ 1497 3097 1228 2736 \nQ 959 2375 959 1747 \nQ 959 1119 1226 758 \nQ 1494 397 1959 397 \nQ 2419 397 2687 759 \nQ 2956 1122 2956 1747 \nQ 2956 2369 2687 2733 \nQ 2419 3097 1959 3097 \nz\nM 1959 3584 \nQ 2709 3584 3137 3096 \nQ 3566 2609 3566 1747 \nQ 3566 888 3137 398 \nQ 2709 -91 1959 -91 \nQ 1206 -91 779 398 \nQ 353 888 353 1747 \nQ 353 2609 779 3096 \nQ 1206 3584 1959 3584 \nz\n\" transform=\"scale(0.015625)\"/>\n      <path id=\"DejaVuSans-67\" d=\"M 2906 1791 \nQ 2906 2416 2648 2759 \nQ 2391 3103 1925 3103 \nQ 1463 3103 1205 2759 \nQ 947 2416 947 1791 \nQ 947 1169 1205 825 \nQ 1463 481 1925 481 \nQ 2391 481 2648 825 \nQ 2906 1169 2906 1791 \nz\nM 3481 434 \nQ 3481 -459 3084 -895 \nQ 2688 -1331 1869 -1331 \nQ 1566 -1331 1297 -1286 \nQ 1028 -1241 775 -1147 \nL 775 -588 \nQ 1028 -725 1275 -790 \nQ 1522 -856 1778 -856 \nQ 2344 -856 2625 -561 \nQ 2906 -266 2906 331 \nL 2906 616 \nQ 2728 306 2450 153 \nQ 2172 0 1784 0 \nQ 1141 0 747 490 \nQ 353 981 353 1791 \nQ 353 2603 747 3093 \nQ 1141 3584 1784 3584 \nQ 2172 3584 2450 3431 \nQ 2728 3278 2906 2969 \nL 2906 3500 \nL 3481 3500 \nL 3481 434 \nz\n\" transform=\"scale(0.015625)\"/>\n      <path id=\"DejaVuSans-5b\" d=\"M 550 4863 \nL 1875 4863 \nL 1875 4416 \nL 1125 4416 \nL 1125 -397 \nL 1875 -397 \nL 1875 -844 \nL 550 -844 \nL 550 4863 \nz\n\" transform=\"scale(0.015625)\"/>\n      <path id=\"DejaVuSans-53\" d=\"M 3425 4513 \nL 3425 3897 \nQ 3066 4069 2747 4153 \nQ 2428 4238 2131 4238 \nQ 1616 4238 1336 4038 \nQ 1056 3838 1056 3469 \nQ 1056 3159 1242 3001 \nQ 1428 2844 1947 2747 \nL 2328 2669 \nQ 3034 2534 3370 2195 \nQ 3706 1856 3706 1288 \nQ 3706 609 3251 259 \nQ 2797 -91 1919 -91 \nQ 1588 -91 1214 -16 \nQ 841 59 441 206 \nL 441 856 \nQ 825 641 1194 531 \nQ 1563 422 1919 422 \nQ 2459 422 2753 634 \nQ 3047 847 3047 1241 \nQ 3047 1584 2836 1778 \nQ 2625 1972 2144 2069 \nL 1759 2144 \nQ 1053 2284 737 2584 \nQ 422 2884 422 3419 \nQ 422 4038 858 4394 \nQ 1294 4750 2059 4750 \nQ 2388 4750 2728 4690 \nQ 3069 4631 3425 4513 \nz\n\" transform=\"scale(0.015625)\"/>\n      <path id=\"DejaVuSans-49\" d=\"M 628 4666 \nL 1259 4666 \nL 1259 0 \nL 628 0 \nL 628 4666 \nz\n\" transform=\"scale(0.015625)\"/>\n      <path id=\"DejaVuSans-5a\" d=\"M 359 4666 \nL 4025 4666 \nL 4025 4184 \nL 1075 531 \nL 4097 531 \nL 4097 0 \nL 288 0 \nL 288 481 \nL 3238 4134 \nL 359 4134 \nL 359 4666 \nz\n\" transform=\"scale(0.015625)\"/>\n      <path id=\"DejaVuSans-45\" d=\"M 628 4666 \nL 3578 4666 \nL 3578 4134 \nL 1259 4134 \nL 1259 2753 \nL 3481 2753 \nL 3481 2222 \nL 1259 2222 \nL 1259 531 \nL 3634 531 \nL 3634 0 \nL 628 0 \nL 628 4666 \nz\n\" transform=\"scale(0.015625)\"/>\n      <path id=\"DejaVuSans-5d\" d=\"M 1947 4863 \nL 1947 -844 \nL 622 -844 \nL 622 -397 \nL 1369 -397 \nL 1369 4416 \nL 622 4416 \nL 622 4863 \nL 1947 4863 \nz\n\" transform=\"scale(0.015625)\"/>\n     </defs>\n     <use xlink:href=\"#DejaVuSans-6c\"/>\n     <use xlink:href=\"#DejaVuSans-6f\" x=\"27.783203\"/>\n     <use xlink:href=\"#DejaVuSans-67\" x=\"88.964844\"/>\n     <use xlink:href=\"#DejaVuSans-32\" x=\"152.441406\"/>\n     <use xlink:href=\"#DejaVuSans-5b\" x=\"216.064453\"/>\n     <use xlink:href=\"#DejaVuSans-53\" x=\"255.078125\"/>\n     <use xlink:href=\"#DejaVuSans-49\" x=\"318.554688\"/>\n     <use xlink:href=\"#DejaVuSans-5a\" x=\"348.046875\"/>\n     <use xlink:href=\"#DejaVuSans-45\" x=\"416.552734\"/>\n     <use xlink:href=\"#DejaVuSans-5d\" x=\"479.736328\"/>\n    </g>\n   </g>\n  </g>\n  <g id=\"axes_3\">\n   <g id=\"patch_4\">\n    <path d=\"M 401.926875 234 \nL 409.126875 234 \nL 409.126875 54 \nL 401.926875 54 \nL 401.926875 234 \nz\n\" style=\"fill: none\"/>\n   </g>\n   <g id=\"patch_5\">\n    <path clip-path=\"url(#pcce2bcea14)\" style=\"fill: none\"/>\n   </g>\n   <image xlink:href=\"data:image/png;base64,\niVBORw0KGgoAAAANSUhEUgAAAAcAAAC0CAYAAABYDDYIAAABAUlEQVR4nN3W0Q3EIAwDUCp1/8lupEJugj4kV4je9TeyYzsBelR9qt18Z6vbWjtbdRTbEDIv5oJiZN6TSCe0QdCD+BYNW0XH97ZhP1iTlLZeZ2XR9o0dSG0fi1zqvuZi7PHI/smKkCNGuucaWmd7W3uklrQ9PvZ5T2eLIvRMBXEqsZUHOyTa3Mqinlfc08hFgkR78QEAsvIQckHcvlVTya3EJ1tIHvsi7f1FPUEO3Ql4BNtZRsY+Y0G0wqngnZtZyRPS9ZavycgXrB2gZfAUNEALYDurgMQPxgRptUSyp+Jj8J0JWS2LsRUhObLcyiVaiJ0Iyml3IFnEHfVrVki7YZ5fonRKgvAGMcoAAAAASUVORK5CYII=\" id=\"image3544f34326\" transform=\"scale(1 -1)translate(0 -180)\" x=\"402\" y=\"-54\" width=\"7\" height=\"180\"/>\n   <g id=\"matplotlib.axis_2\">\n    <g id=\"ytick_7\">\n     <g id=\"line2d_7\">\n      <defs>\n       <path id=\"m29b7aa1421\" d=\"M 0 0 \nL 3.5 0 \n\" style=\"stroke: #808080; stroke-width: 0.8\"/>\n      </defs>\n      <g>\n       <use xlink:href=\"#m29b7aa1421\" x=\"409.126875\" y=\"234\" style=\"fill: #808080; stroke: #808080; stroke-width: 0.8\"/>\n      </g>\n     </g>\n     <g id=\"text_8\">\n      <!-- 0.0 -->\n      <g style=\"fill: #808080\" transform=\"translate(416.126875 237.799219)scale(0.1 -0.1)\">\n       <defs>\n        <path id=\"DejaVuSans-2e\" d=\"M 684 794 \nL 1344 794 \nL 1344 0 \nL 684 0 \nL 684 794 \nz\n\" transform=\"scale(0.015625)\"/>\n       </defs>\n       <use xlink:href=\"#DejaVuSans-30\"/>\n       <use xlink:href=\"#DejaVuSans-2e\" x=\"63.623047\"/>\n       <use xlink:href=\"#DejaVuSans-30\" x=\"95.410156\"/>\n      </g>\n     </g>\n    </g>\n    <g id=\"ytick_8\">\n     <g id=\"line2d_8\">\n      <g>\n       <use xlink:href=\"#m29b7aa1421\" x=\"409.126875\" y=\"213.968021\" style=\"fill: #808080; stroke: #808080; stroke-width: 0.8\"/>\n      </g>\n     </g>\n     <g id=\"text_9\">\n      <!-- 0.5 -->\n      <g style=\"fill: #808080\" transform=\"translate(416.126875 217.76724)scale(0.1 -0.1)\">\n       <defs>\n        <path id=\"DejaVuSans-35\" d=\"M 691 4666 \nL 3169 4666 \nL 3169 4134 \nL 1269 4134 \nL 1269 2991 \nQ 1406 3038 1543 3061 \nQ 1681 3084 1819 3084 \nQ 2600 3084 3056 2656 \nQ 3513 2228 3513 1497 \nQ 3513 744 3044 326 \nQ 2575 -91 1722 -91 \nQ 1428 -91 1123 -41 \nQ 819 9 494 109 \nL 494 744 \nQ 775 591 1075 516 \nQ 1375 441 1709 441 \nQ 2250 441 2565 725 \nQ 2881 1009 2881 1497 \nQ 2881 1984 2565 2268 \nQ 2250 2553 1709 2553 \nQ 1456 2553 1204 2497 \nQ 953 2441 691 2322 \nL 691 4666 \nz\n\" transform=\"scale(0.015625)\"/>\n       </defs>\n       <use xlink:href=\"#DejaVuSans-30\"/>\n       <use xlink:href=\"#DejaVuSans-2e\" x=\"63.623047\"/>\n       <use xlink:href=\"#DejaVuSans-35\" x=\"95.410156\"/>\n      </g>\n     </g>\n    </g>\n    <g id=\"ytick_9\">\n     <g id=\"line2d_9\">\n      <g>\n       <use xlink:href=\"#m29b7aa1421\" x=\"409.126875\" y=\"193.936042\" style=\"fill: #808080; stroke: #808080; stroke-width: 0.8\"/>\n      </g>\n     </g>\n     <g id=\"text_10\">\n      <!-- 1.0 -->\n      <g style=\"fill: #808080\" transform=\"translate(416.126875 197.735261)scale(0.1 -0.1)\">\n       <use xlink:href=\"#DejaVuSans-31\"/>\n       <use xlink:href=\"#DejaVuSans-2e\" x=\"63.623047\"/>\n       <use xlink:href=\"#DejaVuSans-30\" x=\"95.410156\"/>\n      </g>\n     </g>\n    </g>\n    <g id=\"ytick_10\">\n     <g id=\"line2d_10\">\n      <g>\n       <use xlink:href=\"#m29b7aa1421\" x=\"409.126875\" y=\"173.904063\" style=\"fill: #808080; stroke: #808080; stroke-width: 0.8\"/>\n      </g>\n     </g>\n     <g id=\"text_11\">\n      <!-- 1.5 -->\n      <g style=\"fill: #808080\" transform=\"translate(416.126875 177.703282)scale(0.1 -0.1)\">\n       <use xlink:href=\"#DejaVuSans-31\"/>\n       <use xlink:href=\"#DejaVuSans-2e\" x=\"63.623047\"/>\n       <use xlink:href=\"#DejaVuSans-35\" x=\"95.410156\"/>\n      </g>\n     </g>\n    </g>\n    <g id=\"ytick_11\">\n     <g id=\"line2d_11\">\n      <g>\n       <use xlink:href=\"#m29b7aa1421\" x=\"409.126875\" y=\"153.872085\" style=\"fill: #808080; stroke: #808080; stroke-width: 0.8\"/>\n      </g>\n     </g>\n     <g id=\"text_12\">\n      <!-- 2.0 -->\n      <g style=\"fill: #808080\" transform=\"translate(416.126875 157.671303)scale(0.1 -0.1)\">\n       <use xlink:href=\"#DejaVuSans-32\"/>\n       <use xlink:href=\"#DejaVuSans-2e\" x=\"63.623047\"/>\n       <use xlink:href=\"#DejaVuSans-30\" x=\"95.410156\"/>\n      </g>\n     </g>\n    </g>\n    <g id=\"ytick_12\">\n     <g id=\"line2d_12\">\n      <g>\n       <use xlink:href=\"#m29b7aa1421\" x=\"409.126875\" y=\"133.840106\" style=\"fill: #808080; stroke: #808080; stroke-width: 0.8\"/>\n      </g>\n     </g>\n     <g id=\"text_13\">\n      <!-- 2.5 -->\n      <g style=\"fill: #808080\" transform=\"translate(416.126875 137.639324)scale(0.1 -0.1)\">\n       <use xlink:href=\"#DejaVuSans-32\"/>\n       <use xlink:href=\"#DejaVuSans-2e\" x=\"63.623047\"/>\n       <use xlink:href=\"#DejaVuSans-35\" x=\"95.410156\"/>\n      </g>\n     </g>\n    </g>\n    <g id=\"ytick_13\">\n     <g id=\"line2d_13\">\n      <g>\n       <use xlink:href=\"#m29b7aa1421\" x=\"409.126875\" y=\"113.808127\" style=\"fill: #808080; stroke: #808080; stroke-width: 0.8\"/>\n      </g>\n     </g>\n     <g id=\"text_14\">\n      <!-- 3.0 -->\n      <g style=\"fill: #808080\" transform=\"translate(416.126875 117.607346)scale(0.1 -0.1)\">\n       <defs>\n        <path id=\"DejaVuSans-33\" d=\"M 2597 2516 \nQ 3050 2419 3304 2112 \nQ 3559 1806 3559 1356 \nQ 3559 666 3084 287 \nQ 2609 -91 1734 -91 \nQ 1441 -91 1130 -33 \nQ 819 25 488 141 \nL 488 750 \nQ 750 597 1062 519 \nQ 1375 441 1716 441 \nQ 2309 441 2620 675 \nQ 2931 909 2931 1356 \nQ 2931 1769 2642 2001 \nQ 2353 2234 1838 2234 \nL 1294 2234 \nL 1294 2753 \nL 1863 2753 \nQ 2328 2753 2575 2939 \nQ 2822 3125 2822 3475 \nQ 2822 3834 2567 4026 \nQ 2313 4219 1838 4219 \nQ 1578 4219 1281 4162 \nQ 984 4106 628 3988 \nL 628 4550 \nQ 988 4650 1302 4700 \nQ 1616 4750 1894 4750 \nQ 2613 4750 3031 4423 \nQ 3450 4097 3450 3541 \nQ 3450 3153 3228 2886 \nQ 3006 2619 2597 2516 \nz\n\" transform=\"scale(0.015625)\"/>\n       </defs>\n       <use xlink:href=\"#DejaVuSans-33\"/>\n       <use xlink:href=\"#DejaVuSans-2e\" x=\"63.623047\"/>\n       <use xlink:href=\"#DejaVuSans-30\" x=\"95.410156\"/>\n      </g>\n     </g>\n    </g>\n    <g id=\"ytick_14\">\n     <g id=\"line2d_14\">\n      <g>\n       <use xlink:href=\"#m29b7aa1421\" x=\"409.126875\" y=\"93.776148\" style=\"fill: #808080; stroke: #808080; stroke-width: 0.8\"/>\n      </g>\n     </g>\n     <g id=\"text_15\">\n      <!-- 3.5 -->\n      <g style=\"fill: #808080\" transform=\"translate(416.126875 97.575367)scale(0.1 -0.1)\">\n       <use xlink:href=\"#DejaVuSans-33\"/>\n       <use xlink:href=\"#DejaVuSans-2e\" x=\"63.623047\"/>\n       <use xlink:href=\"#DejaVuSans-35\" x=\"95.410156\"/>\n      </g>\n     </g>\n    </g>\n    <g id=\"ytick_15\">\n     <g id=\"line2d_15\">\n      <g>\n       <use xlink:href=\"#m29b7aa1421\" x=\"409.126875\" y=\"73.744169\" style=\"fill: #808080; stroke: #808080; stroke-width: 0.8\"/>\n      </g>\n     </g>\n     <g id=\"text_16\">\n      <!-- 4.0 -->\n      <g style=\"fill: #808080\" transform=\"translate(416.126875 77.543388)scale(0.1 -0.1)\">\n       <use xlink:href=\"#DejaVuSans-34\"/>\n       <use xlink:href=\"#DejaVuSans-2e\" x=\"63.623047\"/>\n       <use xlink:href=\"#DejaVuSans-30\" x=\"95.410156\"/>\n      </g>\n     </g>\n    </g>\n   </g>\n   <g id=\"LineCollection_4\"/>\n   <g id=\"text_17\">\n    <!-- log10[FLOPS] -->\n    <g style=\"fill: #808080\" transform=\"translate(365.33625 48)scale(0.12 -0.12)\">\n     <defs>\n      <path id=\"DejaVuSans-46\" d=\"M 628 4666 \nL 3309 4666 \nL 3309 4134 \nL 1259 4134 \nL 1259 2759 \nL 3109 2759 \nL 3109 2228 \nL 1259 2228 \nL 1259 0 \nL 628 0 \nL 628 4666 \nz\n\" transform=\"scale(0.015625)\"/>\n      <path id=\"DejaVuSans-4c\" d=\"M 628 4666 \nL 1259 4666 \nL 1259 531 \nL 3531 531 \nL 3531 0 \nL 628 0 \nL 628 4666 \nz\n\" transform=\"scale(0.015625)\"/>\n      <path id=\"DejaVuSans-4f\" d=\"M 2522 4238 \nQ 1834 4238 1429 3725 \nQ 1025 3213 1025 2328 \nQ 1025 1447 1429 934 \nQ 1834 422 2522 422 \nQ 3209 422 3611 934 \nQ 4013 1447 4013 2328 \nQ 4013 3213 3611 3725 \nQ 3209 4238 2522 4238 \nz\nM 2522 4750 \nQ 3503 4750 4090 4092 \nQ 4678 3434 4678 2328 \nQ 4678 1225 4090 567 \nQ 3503 -91 2522 -91 \nQ 1538 -91 948 565 \nQ 359 1222 359 2328 \nQ 359 3434 948 4092 \nQ 1538 4750 2522 4750 \nz\n\" transform=\"scale(0.015625)\"/>\n      <path id=\"DejaVuSans-50\" d=\"M 1259 4147 \nL 1259 2394 \nL 2053 2394 \nQ 2494 2394 2734 2622 \nQ 2975 2850 2975 3272 \nQ 2975 3691 2734 3919 \nQ 2494 4147 2053 4147 \nL 1259 4147 \nz\nM 628 4666 \nL 2053 4666 \nQ 2838 4666 3239 4311 \nQ 3641 3956 3641 3272 \nQ 3641 2581 3239 2228 \nQ 2838 1875 2053 1875 \nL 1259 1875 \nL 1259 0 \nL 628 0 \nL 628 4666 \nz\n\" transform=\"scale(0.015625)\"/>\n     </defs>\n     <use xlink:href=\"#DejaVuSans-6c\"/>\n     <use xlink:href=\"#DejaVuSans-6f\" x=\"27.783203\"/>\n     <use xlink:href=\"#DejaVuSans-67\" x=\"88.964844\"/>\n     <use xlink:href=\"#DejaVuSans-31\" x=\"152.441406\"/>\n     <use xlink:href=\"#DejaVuSans-30\" x=\"216.064453\"/>\n     <use xlink:href=\"#DejaVuSans-5b\" x=\"279.6875\"/>\n     <use xlink:href=\"#DejaVuSans-46\" x=\"318.701172\"/>\n     <use xlink:href=\"#DejaVuSans-4c\" x=\"376.220703\"/>\n     <use xlink:href=\"#DejaVuSans-4f\" x=\"428.308594\"/>\n     <use xlink:href=\"#DejaVuSans-50\" x=\"507.019531\"/>\n     <use xlink:href=\"#DejaVuSans-53\" x=\"567.322266\"/>\n     <use xlink:href=\"#DejaVuSans-5d\" x=\"630.798828\"/>\n    </g>\n   </g>\n  </g>\n </g>\n <defs>\n  <clipPath id=\"pd9e50e937b\">\n   <rect x=\"97.680696\" y=\"7.2\" width=\"257.492359\" height=\"271.8\"/>\n  </clipPath>\n  <clipPath id=\"p41c1c3e7e8\">\n   <rect x=\"34.726875\" y=\"54\" width=\"7.2\" height=\"180\"/>\n  </clipPath>\n  <clipPath id=\"pcce2bcea14\">\n   <rect x=\"401.926875\" y=\"54\" width=\"7.2\" height=\"180\"/>\n  </clipPath>\n </defs>\n</svg>\n",
      "text/plain": [
       "<Figure size 360x360 with 3 Axes>"
      ]
     },
     "metadata": {
      "needs_background": "light"
     },
     "output_type": "display_data"
    }
   ],
   "source": [
    "tree.plot_ring()"
   ]
  },
  {
   "cell_type": "code",
   "execution_count": 14,
   "id": "992d941d-31f0-4e3d-afd6-6cc2d7a3d50d",
   "metadata": {},
   "outputs": [
    {
     "data": {
      "text/plain": [
       "(13.92481250360578, 37849.0)"
      ]
     },
     "execution_count": 14,
     "metadata": {},
     "output_type": "execute_result"
    }
   ],
   "source": [
    "tree.contraction_width(), tree.contraction_cost()"
   ]
  },
  {
   "cell_type": "code",
   "execution_count": 15,
   "id": "15c000dd-b2a9-4159-b76c-8633f4130bae",
   "metadata": {},
   "outputs": [
    {
     "data": {
      "text/plain": [
       "array([[-30.0992929 , -30.73021734],\n",
       "       [ 24.78729968,  28.86578091]])"
      ]
     },
     "execution_count": 15,
     "metadata": {},
     "output_type": "execute_result"
    }
   ],
   "source": [
    "import numpy as np\n",
    "arrays = [np.random.randn(*s) for s in shapes]\n",
    "tree.contract(arrays)"
   ]
  },
  {
   "cell_type": "markdown",
   "id": "a4c0e8b7-f6a3-474b-8dfb-9f2d9c6bd792",
   "metadata": {},
   "source": [
    "We can also generate an explicit **contraction path**, which is a specific ordering of the tree (the default for exact contractions being depth first) and the format used by `opt_einsum` and accepted by `quimb` too:"
   ]
  },
  {
   "cell_type": "code",
   "execution_count": 16,
   "id": "2ca5c822-0987-4b44-bdd2-42d11c5c48cf",
   "metadata": {},
   "outputs": [
    {
     "data": {
      "text/plain": [
       "((5, 7), (5, 8), (5, 6), (5, 6), (0, 1), (2, 4), (1, 3), (0, 2), (0, 1))"
      ]
     },
     "execution_count": 16,
     "metadata": {},
     "output_type": "execute_result"
    }
   ],
   "source": [
    "path = tree.get_path()\n",
    "path"
   ]
  },
  {
   "cell_type": "markdown",
   "id": "40de3597-6770-4187-8c57-b5757986e805",
   "metadata": {},
   "source": [
    "Once we have a complete tree, either by explicitly building it or more likely as returned by an optimizer, we can also *modify* in various ways as detailed below. "
   ]
  },
  {
   "cell_type": "markdown",
   "id": "b0d63433-101d-474d-a13b-e29f77ffe163",
   "metadata": {},
   "source": [
    "## Index Slicing\n",
    "\n",
    "Slicing is the technique of choosing some indices to explicitly sum over rather than include as tensor dimensions - thereby takng indexed slices of those tensors. It is also known as **variable projection** and **bond cutting**. The overall effect is to turn a single contraction into many independent, easier contractions as depicted below:\n",
    "\n",
    "<p align=\"center\"><img src=\"https://imgur.com/402ivDV.png\" alt=\"cotengra\" width=\"80%\" height=\"80%\"></p>\n",
    "\n",
    "While slicing *every* index would be equivalent to performing the naive einsum and thus exponentially slower, carefully choosing just a few *can* result in little to no overhead. What you gain is:\n",
    "\n",
    "1. **Each contraction can require drastically less memory**\n",
    "2. **Each contraction can be performed in parallel**\n",
    "\n",
    "In general, one specifies slicing in the `HyperOptimizer` loop - see [Slicing and Subtree Reconfiguration](advanced.ipynb#slicing-and-subtree-reconfiguration) - this section covers manually slicing a tree and the details."
   ]
  },
  {
   "cell_type": "code",
   "execution_count": 17,
   "id": "c50f5fff",
   "metadata": {},
   "outputs": [
    {
     "data": {
      "text/plain": [
       "'ÓøÅÁ,dÛuÃD,WáYÔÎ,EĄÏZ,ÄPåÍ,æuëX,îĆxò,ègMÑza,eNS,À,ðÙÖ,øĂTê,ĂÏĈ,Ąąô,HóÌ,üÂÿØãÈ,íËòPh,hÐÓMç,äCFÁU,mGùbB,ćÐnë,jQãrkñÜ,ÅÚvóćS,IÒöõĀú,äþözbKC,wâTiZ,BfĆd,fàÉìúå,pVwç÷,ÈQXÙGñJ,ðÆôA,qËÜÝyR,ÒüÊnÞ×cÔVþā,ùïà,mßclYÄÌÉx÷,ÃrÕÿ,jolÚ,îosE,æÇD×,ÛăHvýûõ,ÇÎRNØ,WÊÀáÍéê,Âes,èJAÖ,ûÝFÆ,iïíÞtìă,ÕqOL,IāLéUaĈÑg,âKpýOą,tĀyßk->'"
      ]
     },
     "execution_count": 17,
     "metadata": {},
     "output_type": "execute_result"
    }
   ],
   "source": [
    "import opt_einsum as oe\n",
    "\n",
    "# create a reasonable large random contraction:\n",
    "eq, shapes = oe.helpers.rand_equation(n=50, reg=5, seed=42, d_max=2)\n",
    "arrays = [np.random.uniform(size=s) for s in shapes]\n",
    "eq"
   ]
  },
  {
   "cell_type": "code",
   "execution_count": 18,
   "id": "afbd6414",
   "metadata": {},
   "outputs": [
    {
     "data": {
      "text/plain": [
       "(71044941088.0, 25.0)"
      ]
     },
     "execution_count": 18,
     "metadata": {},
     "output_type": "execute_result"
    }
   ],
   "source": [
    "# start with a simple greedy contraction path / tree\n",
    "_, info = oe.contract_path(eq, *arrays, optimize='greedy')\n",
    "tree = ctg.ContractionTree.from_info(info)\n",
    "\n",
    "# check the time and space requirements\n",
    "tree.contraction_cost(), tree.contraction_width()"
   ]
  },
  {
   "cell_type": "markdown",
   "id": "e1d007b4",
   "metadata": {},
   "source": [
    "We can call the [`slice`](cotengra.core.ContractionTree.slice) method of a tree \n",
    "to slice it."
   ]
  },
  {
   "cell_type": "code",
   "execution_count": 19,
   "id": "32431e39",
   "metadata": {},
   "outputs": [],
   "source": [
    "tree_s = tree.slice(target_size=2**20)"
   ]
  },
  {
   "cell_type": "markdown",
   "id": "41b915d8",
   "metadata": {},
   "source": [
    "```{hint}\n",
    "This method and various others can also be called inplace with a trailing underscore.\n",
    "```"
   ]
  },
  {
   "cell_type": "code",
   "execution_count": 20,
   "id": "b183dbd6",
   "metadata": {},
   "outputs": [
    {
     "data": {
      "text/plain": [
       "(('b', 'd', 'y', 'Æ', 'Î', 'ă'), 64)"
      ]
     },
     "execution_count": 20,
     "metadata": {},
     "output_type": "execute_result"
    }
   ],
   "source": [
    "tree_s.sliced_inds, tree_s.nslices"
   ]
  },
  {
   "cell_type": "code",
   "execution_count": 21,
   "id": "3d1ada9d",
   "metadata": {},
   "outputs": [
    {
     "data": {
      "text/plain": [
       "(74463566848.0, 20.0)"
      ]
     },
     "execution_count": 21,
     "metadata": {},
     "output_type": "execute_result"
    }
   ],
   "source": [
    "# check the new time and space requirements\n",
    "tree_s.contraction_cost(), tree_s.contraction_width()"
   ]
  },
  {
   "cell_type": "markdown",
   "id": "94d68c60",
   "metadata": {},
   "source": [
    "The tree now has 6 indices sliced out, and represents 64 individual \n",
    "contractions each requiring 32x less memory. The total cost has increased \n",
    "slightly, this ***'slicing overhead'*** we can check:"
   ]
  },
  {
   "cell_type": "code",
   "execution_count": 22,
   "id": "fc709fd0",
   "metadata": {},
   "outputs": [
    {
     "data": {
      "text/plain": [
       "1.0481192004335047"
      ]
     },
     "execution_count": 22,
     "metadata": {},
     "output_type": "execute_result"
    }
   ],
   "source": [
    "tree_s.contraction_cost() / tree.contraction_cost()"
   ]
  },
  {
   "cell_type": "markdown",
   "id": "43b95971-2d94-438f-93ac-00e3d513441a",
   "metadata": {},
   "source": [
    "So less than 5% more floating point operations overall, (arising from \n",
    "redundantly repeated contractions).\n",
    "\n",
    "```{note}\n",
    "Internally, the tree constructs a [`SliceFinder`](cotengra.slicer.SliceFinder)\n",
    "object and uses it to search for good indices to slice. For full control, you \n",
    "could do this yourself and then call manually call \n",
    "[`remove_ind`](cotengra.core.ContractionTree.remove_ind) on the tree.\n",
    "```\n",
    "\n",
    "Once a [ContractionTree](cotengra.core.ContractionTree) has been sliced, the\n",
    "[contract](cotengra.core.ContractionTree.contract) method can be used to \n",
    "automatically perform the sliced contraction:"
   ]
  },
  {
   "cell_type": "code",
   "execution_count": 23,
   "id": "3e874658-6956-4fe2-8e3c-1dee6d02a02f",
   "metadata": {},
   "outputs": [
    {
     "name": "stderr",
     "output_type": "stream",
     "text": [
      "100%|██████████| 64/64 [00:03<00:00, 20.34it/s]\n"
     ]
    },
    {
     "data": {
      "text/plain": [
       "1.0696244850445234e+23"
      ]
     },
     "execution_count": 23,
     "metadata": {},
     "output_type": "execute_result"
    }
   ],
   "source": [
    "tree_s.contract(arrays, progbar=True)"
   ]
  },
  {
   "cell_type": "markdown",
   "id": "b542a047-96e7-4e2a-873b-e69f1fc14cad",
   "metadata": {},
   "source": [
    "See the [main contraction page](contraction.ipynb) for more details on\n",
    "performing the actual sliced contraction once the indices have been found."
   ]
  },
  {
   "cell_type": "markdown",
   "id": "3eff51f2-dbde-4341-866b-a224e9d03f08",
   "metadata": {},
   "source": [
    "## Subtree Reconfiguration\n",
    "\n",
    "Any subtree of a contraction tree itself describes a smaller contraction, with \n",
    "the subtree leaves being the effective inputs (generally intermediate tensors) \n",
    "and the subtree root being the effective output (also generally an \n",
    "intermediate). One advantage of cotengra keeping an explicit representation of \n",
    "the contraction tree is that such subtrees can be easily selected and \n",
    "re-optimized as illustrated in the following schematic:\n",
    "\n",
    "<p align=\"center\"><img src=\"https://imgur.com/vi60oh7.png\" alt=\"cotengra\" width=\"100%\" height=\"100%\"></p>\n",
    "\n",
    "(Note in general the subtree being optimized will be closer in size to 10 \n",
    "intermediates or so.)\n",
    "\n",
    "If we do this and improve the contraction cost of a **subtree** (e.g. by using an optimal contraction path), then the contraction cost of the **whole tree** is improved. Moreover we can iterate across many or all subtrees in a `ContractionTree`, reconfiguring them and thus potentially updating the entire tree in incremental 'local' steps.\n",
    "\n",
    "The method to call for this is \n",
    "[`subtree_reconfigure`](cotengra.core.ContractionTree.subtree_reconfigure)."
   ]
  },
  {
   "cell_type": "code",
   "execution_count": 24,
   "id": "89b9db97",
   "metadata": {},
   "outputs": [
    {
     "name": "stderr",
     "output_type": "stream",
     "text": [
      "log2[SIZE]: 41.33 log10[FLOPs]: 14.68: : 208it [00:00, 412.55it/s]\n"
     ]
    }
   ],
   "source": [
    "# generate a tree\n",
    "eq, shapes = oe.helpers.rand_equation(100, 3, seed=42)\n",
    "path, info = oe.contract_path(eq, *shapes, shapes=True)\n",
    "tree = ctg.ContractionTree.from_info(info)\n",
    "\n",
    "# reconfigure it (call tree.subtree_reconfigure? to see many options)\n",
    "tree_r = tree.subtree_reconfigure(progbar=True)"
   ]
  },
  {
   "cell_type": "code",
   "execution_count": 25,
   "id": "86400cbe",
   "metadata": {},
   "outputs": [
    {
     "data": {
      "text/plain": [
       "12803.1423636353"
      ]
     },
     "execution_count": 25,
     "metadata": {},
     "output_type": "execute_result"
    }
   ],
   "source": [
    "# check the speedup\n",
    "tree.total_flops() / tree_r.total_flops()"
   ]
  },
  {
   "cell_type": "markdown",
   "id": "abb701ea",
   "metadata": {},
   "source": [
    "Since it is a local optimization it is possible to get stuck. \n",
    "[`subtree_reconfigure_forest`](cotengra.core.ContractionTree.subtree_reconfigure_forest)\n",
    "offers a basic stochastic search of multiple reconfigurations that can avoid this and also be easily parallelized:"
   ]
  },
  {
   "cell_type": "code",
   "execution_count": 32,
   "id": "1decea62",
   "metadata": {},
   "outputs": [
    {
     "name": "stderr",
     "output_type": "stream",
     "text": [
      "log2[SIZE]: 39.24 log10[FLOPs]: 14.54: 100%|██████████| 10/10 [00:06<00:00,  1.50it/s]\n"
     ]
    }
   ],
   "source": [
    "tree_f = tree.subtree_reconfigure_forest(progbar=True, num_trees=4)"
   ]
  },
  {
   "cell_type": "code",
   "execution_count": 33,
   "id": "96c20678",
   "metadata": {},
   "outputs": [
    {
     "data": {
      "text/plain": [
       "17928.323601154407"
      ]
     },
     "execution_count": 33,
     "metadata": {},
     "output_type": "execute_result"
    }
   ],
   "source": [
    "# check the speedup\n",
    "tree.total_flops() / tree_f.total_flops()"
   ]
  },
  {
   "cell_type": "markdown",
   "id": "238ef29f",
   "metadata": {},
   "source": [
    "So indeed a little better.\n",
    "\n",
    "Subtree reconfiguration is often powerful enough to allow even 'bad' initial paths (like those generated by `'greedy'` ) to become very high quality."
   ]
  },
  {
   "cell_type": "markdown",
   "id": "4385f8e0-b233-43cb-a2c1-09316889d5c7",
   "metadata": {},
   "source": [
    "## Dynamic Slicing\n",
    "\n",
    "A powerful application for reconfiguration (first implemented in ['Classical Simulation of Quantum Supremacy Circuits'](https://arxiv.org/abs/2005.06787)) is to interleave it with *slicing*. Namely:\n",
    "\n",
    "1. Choose an index to slice\n",
    "2. Reconfigure subtrees to account for the slightly different TN structure without this index\n",
    "3. Check if the tree has reached a certain size, if not return to 1.\n",
    "\n",
    "In this way, the contraction tree is slowly updated to account for potentially many indices being sliced.\n",
    "\n",
    "For example imagine we wanted to slice the ``tree_f`` from above to achieve a maximum size of `2**28` (approx suitable for 8GB of memory). We could directly slice it without changing the tree structure at all:"
   ]
  },
  {
   "cell_type": "code",
   "execution_count": 34,
   "id": "a02e567e",
   "metadata": {},
   "outputs": [
    {
     "data": {
      "text/plain": [
       "('O', 'W', 'k', 'o', 'Ñ', 'ì')"
      ]
     },
     "execution_count": 34,
     "metadata": {},
     "output_type": "execute_result"
    }
   ],
   "source": [
    "tree_s = tree_f.slice(target_size=2**28)\n",
    "tree_s.sliced_inds"
   ]
  },
  {
   "cell_type": "markdown",
   "id": "51e9b3f6",
   "metadata": {},
   "source": [
    "Or we could simultaneously interleave subtree reconfiguration:"
   ]
  },
  {
   "cell_type": "code",
   "execution_count": 35,
   "id": "0b70016e",
   "metadata": {},
   "outputs": [
    {
     "name": "stderr",
     "output_type": "stream",
     "text": [
      "log2[SIZE]: 27.51 log10[FLOPs]: 14.81: : 5it [00:00,  8.94it/s]\n"
     ]
    },
    {
     "data": {
      "text/plain": [
       "('O', 'W', 'k', 'o', 'Ñ')"
      ]
     },
     "execution_count": 35,
     "metadata": {},
     "output_type": "execute_result"
    }
   ],
   "source": [
    "tree_sr = tree_f.slice_and_reconfigure(target_size=2**28, progbar=True)\n",
    "tree_sr.sliced_inds"
   ]
  },
  {
   "cell_type": "code",
   "execution_count": 36,
   "id": "f1580e24",
   "metadata": {},
   "outputs": [
    {
     "data": {
      "text/plain": [
       "2.0505093335393947"
      ]
     },
     "execution_count": 36,
     "metadata": {},
     "output_type": "execute_result"
    }
   ],
   "source": [
    "tree_s.total_flops() / tree_sr.total_flops()"
   ]
  },
  {
   "cell_type": "markdown",
   "id": "bef503d1",
   "metadata": {},
   "source": [
    "We can see it has achieved the target size with 1 less index sliced, and 2x better cost. There is also a 'forested' version of this algorithm  which again performs a stochastic search of multiple possible slicing+reconfiguring options:"
   ]
  },
  {
   "cell_type": "code",
   "execution_count": 37,
   "id": "89ef4271",
   "metadata": {},
   "outputs": [
    {
     "name": "stderr",
     "output_type": "stream",
     "text": [
      "log2[SIZE]: 26.87 log10[FLOPs]: 14.72: : 11it [00:02,  4.57it/s]\n"
     ]
    },
    {
     "data": {
      "text/plain": [
       "2.511722935482458"
      ]
     },
     "execution_count": 37,
     "metadata": {},
     "output_type": "execute_result"
    }
   ],
   "source": [
    "tree_fsr = tree_f.slice_and_reconfigure_forest(target_size=2**28, progbar=True)\n",
    "tree_s.total_flops() / tree_fsr.total_flops()"
   ]
  },
  {
   "cell_type": "markdown",
   "id": "898c19e6",
   "metadata": {},
   "source": [
    "We can see here it has done a little better. The foresting looks roughly like the following:\n",
    "\n",
    "<p align=\"center\"><img src=\"https://imgur.com/s1iSS1u.png\" alt=\"cotengra\" width=\"100%\" height=\"100%\"></p>\n",
    "\n",
    "The subtree reconfiguration within the slicing can *itself be forested* for a doubly forested algorithm. This will give the highest quality (but also slowest) search.\n"
   ]
  },
  {
   "cell_type": "code",
   "execution_count": 38,
   "id": "f941d6df",
   "metadata": {},
   "outputs": [
    {
     "name": "stderr",
     "output_type": "stream",
     "text": [
      "log2[SIZE]: 39.24 log10[FLOPs]: 14.54: : 0it [00:00, ?it/s]"
     ]
    }
   ],
   "source": [
    "tree_fsfr = tree_f.slice_and_reconfigure_forest(\n",
    "    target_size=2**28,\n",
    "    num_trees=4,\n",
    "    progbar=True,\n",
    "    reconf_opts={\n",
    "        'subtree_size': 12,\n",
    "        'forested': True,\n",
    "        'num_trees': 4,\n",
    "    }\n",
    ")"
   ]
  },
  {
   "cell_type": "code",
   "execution_count": null,
   "id": "aa9d385f",
   "metadata": {},
   "outputs": [],
   "source": [
    "tree_s.total_flops() / tree_fsfr.total_flops()"
   ]
  },
  {
   "cell_type": "markdown",
   "id": "f0aea9b4",
   "metadata": {},
   "source": [
    "We've set the `subtree_size` here to `12` for higher quality reconfiguration, but reduced the `num_trees` in the forests (from default `8`) to `4` which will still lead to 4 x 4 = 16 trees being generated at each step. Again we see a slight improvement. This level of effort might only be required for very heavily slicing contraction trees, and in this case it might be best simply to trial many initial paths with a basic `slice_and_reconfigure` (see below)."
   ]
  }
 ],
 "metadata": {
  "kernelspec": {
   "display_name": "Python 3 (ipykernel)",
   "language": "python",
   "name": "python3"
  },
  "language_info": {
   "codemirror_mode": {
    "name": "ipython",
    "version": 3
   },
   "file_extension": ".py",
   "mimetype": "text/x-python",
   "name": "python",
   "nbconvert_exporter": "python",
   "pygments_lexer": "ipython3",
   "version": "3.9.7"
  }
 },
 "nbformat": 4,
 "nbformat_minor": 5
}
