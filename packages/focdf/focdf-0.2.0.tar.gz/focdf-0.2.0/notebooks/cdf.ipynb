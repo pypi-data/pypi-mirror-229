{
 "cells": [
  {
   "cell_type": "code",
   "execution_count": 1,
   "metadata": {},
   "outputs": [],
   "source": [
    "import os\n",
    "import sys\n",
    "module_path = os.path.abspath(os.path.join('..'))\n",
    "if module_path not in sys.path:\n",
    "    sys.path.append(module_path)"
   ]
  },
  {
   "cell_type": "code",
   "execution_count": 2,
   "metadata": {},
   "outputs": [
    {
     "name": "stdout",
     "output_type": "stream",
     "text": [
      "{'SHORT-NAME': 'dres_l_curveRadiusT_vF32c', 'CATEGORY': 'CURVE', 'SW-FEARTURE-REF': None, 'SW-VALUE-CONT': {'UNIT-DISPLAY-NAME': '-', 'SW-VALUES-PHYS': [0.0, 100.0, 200.0, 300.0, 500.0, 500.0, 300.0, 200.0, 100.0, 0.0]}, 'SW-AXIS-CONTS': {'SW-AXIS-CONT': {'CATEGORY': 'COM_AXIS', 'UNIT-DISPLAY-NAME': 'rad', 'SW-INSTANCE-REF': 'dres_x_steerWheelAngX_xF32c'}}, 'SW-CS-HISTORY': None}\n"
     ]
    },
    {
     "ename": "TypeError",
     "evalue": "string indices must be integers, not 'str'",
     "output_type": "error",
     "traceback": [
      "\u001b[0;31m---------------------------------------------------------------------------\u001b[0m",
      "\u001b[0;31mTypeError\u001b[0m                                 Traceback (most recent call last)",
      "Cell \u001b[0;32mIn[2], line 3\u001b[0m\n\u001b[1;32m      1\u001b[0m \u001b[39mfrom\u001b[39;00m \u001b[39msrc\u001b[39;00m\u001b[39m.\u001b[39;00m\u001b[39mfocdf\u001b[39;00m\u001b[39m.\u001b[39;00m\u001b[39mcdf\u001b[39;00m \u001b[39mimport\u001b[39;00m CDF\n\u001b[1;32m      2\u001b[0m cdf\u001b[39m=\u001b[39mCDF(\u001b[39m'\u001b[39m\u001b[39m../test.CDFX\u001b[39m\u001b[39m'\u001b[39m)\n\u001b[0;32m----> 3\u001b[0m cdf\u001b[39m.\u001b[39;49mparse()\n\u001b[1;32m      4\u001b[0m \u001b[39m#cdf.params\u001b[39;00m\n",
      "File \u001b[0;32m~/projects/python/focdf.py/src/focdf/cdf.py:42\u001b[0m, in \u001b[0;36mCDF.parse\u001b[0;34m(self)\u001b[0m\n\u001b[1;32m     39\u001b[0m     \u001b[39mself\u001b[39m\u001b[39m.\u001b[39mparams[key] \u001b[39m=\u001b[39m \u001b[39mself\u001b[39m\u001b[39m.\u001b[39mcom_axis(params[\u001b[39m'\u001b[39m\u001b[39mCOM_AXIS\u001b[39m\u001b[39m'\u001b[39m][key])\n\u001b[1;32m     41\u001b[0m \u001b[39mfor\u001b[39;00m key \u001b[39min\u001b[39;00m params[\u001b[39m'\u001b[39m\u001b[39mCURVE\u001b[39m\u001b[39m'\u001b[39m]\u001b[39m.\u001b[39mkeys():\n\u001b[0;32m---> 42\u001b[0m     params[key] \u001b[39m=\u001b[39m \u001b[39mself\u001b[39;49m\u001b[39m.\u001b[39;49mcurve(params[\u001b[39m'\u001b[39;49m\u001b[39mCURVE\u001b[39;49m\u001b[39m'\u001b[39;49m][key])\n\u001b[1;32m     44\u001b[0m \u001b[39m# for key in maps.keys():\u001b[39;00m\n\u001b[1;32m     45\u001b[0m \u001b[39m#     params[key] = self.map(maps[key])\u001b[39;00m\n\u001b[1;32m     47\u001b[0m \u001b[39mreturn\u001b[39;00m params\n",
      "File \u001b[0;32m~/projects/python/focdf.py/src/focdf/cdf.py:69\u001b[0m, in \u001b[0;36mCDF.curve\u001b[0;34m(self, data)\u001b[0m\n\u001b[1;32m     67\u001b[0m     x \u001b[39m=\u001b[39m \u001b[39mself\u001b[39m\u001b[39m.\u001b[39mparams[\u001b[39m'\u001b[39m\u001b[39mCOM_AXIS\u001b[39m\u001b[39m'\u001b[39m][name]\n\u001b[1;32m     68\u001b[0m \u001b[39mcase\u001b[39;00m \u001b[39m'\u001b[39m\u001b[39mCOM_AXIS\u001b[39m\u001b[39m'\u001b[39m:\n\u001b[0;32m---> 69\u001b[0m     name \u001b[39m=\u001b[39m data[\u001b[39m'\u001b[39;49m\u001b[39mSW-AXIS-CONTS\u001b[39;49m\u001b[39m'\u001b[39;49m][\u001b[39m'\u001b[39;49m\u001b[39mSW-AXIS-CONT\u001b[39;49m\u001b[39m'\u001b[39;49m][\u001b[39m'\u001b[39;49m\u001b[39mCATEGORY\u001b[39;49m\u001b[39m'\u001b[39;49m][\u001b[39m'\u001b[39;49m\u001b[39mSW-INSTANCE-REF\u001b[39;49m\u001b[39m'\u001b[39;49m]\n\u001b[1;32m     70\u001b[0m     \u001b[39mprint\u001b[39m(\u001b[39m'\u001b[39m\u001b[39mCOM_AXIS\u001b[39m\u001b[39m'\u001b[39m, name)\n\u001b[1;32m     71\u001b[0m     x \u001b[39m=\u001b[39m \u001b[39mself\u001b[39m\u001b[39m.\u001b[39mparams[name]\n",
      "\u001b[0;31mTypeError\u001b[0m: string indices must be integers, not 'str'"
     ]
    }
   ],
   "source": [
    "from src.focdf.cdf import CDF\n",
    "cdf=CDF('../test.CDFX')\n",
    "cdf.parse()\n",
    "#cdf.params"
   ]
  }
 ],
 "metadata": {
  "kernelspec": {
   "display_name": ".venv",
   "language": "python",
   "name": "python3"
  },
  "language_info": {
   "codemirror_mode": {
    "name": "ipython",
    "version": 3
   },
   "file_extension": ".py",
   "mimetype": "text/x-python",
   "name": "python",
   "nbconvert_exporter": "python",
   "pygments_lexer": "ipython3",
   "version": "3.11.2"
  },
  "orig_nbformat": 4
 },
 "nbformat": 4,
 "nbformat_minor": 2
}
