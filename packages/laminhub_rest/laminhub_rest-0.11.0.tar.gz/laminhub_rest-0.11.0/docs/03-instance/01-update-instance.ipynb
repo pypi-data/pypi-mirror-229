{
 "cells": [
  {
   "cell_type": "markdown",
   "metadata": {},
   "source": [
    "# Test update instance"
   ]
  },
  {
   "cell_type": "code",
   "execution_count": null,
   "metadata": {},
   "outputs": [],
   "source": [
    "from laminhub_rest.core.account import delete_account\n",
    "from laminhub_rest.core.instance import update_instance, delete_instance\n",
    "from laminhub_rest.core.instance._crud import sb_select_instance\n",
    "from laminhub_rest.utils._test import (\n",
    "    create_test_auth,\n",
    "    create_test_account,\n",
    "    create_test_instance,\n",
    "    create_test_storage,\n",
    "    add_test_collaborator,\n",
    ")\n",
    "from laminhub_rest.connector import connect_hub_with_auth\n",
    "from laminhub_rest.main import client\n",
    "from laminhub_rest._clean_ci import clean_ci"
   ]
  },
  {
   "cell_type": "markdown",
   "metadata": {},
   "source": [
    "## Parametrize "
   ]
  },
  {
   "cell_type": "code",
   "execution_count": null,
   "metadata": {},
   "outputs": [],
   "source": [
    "auth = create_test_auth()\n",
    "access_token = auth[\"access_token\"]\n",
    "account = create_test_account(handle=auth[\"handle\"], access_token=access_token)\n",
    "storage = create_test_storage(access_token=access_token)\n",
    "instance = create_test_instance(storage_id=storage[\"id\"], access_token=access_token)\n",
    "\n",
    "instance_id = instance[\"id\"]"
   ]
  },
  {
   "cell_type": "markdown",
   "metadata": {},
   "source": [
    "## Add a collaborator"
   ]
  },
  {
   "cell_type": "code",
   "execution_count": null,
   "metadata": {},
   "outputs": [],
   "source": [
    "response = client.post(\n",
    "    f\"/instance/resources/accounts/?handle={account['handle']}&instance_owner_handle={account['handle']}&instance_name={instance['name']}&role=admin\",\n",
    "    headers={\"authentication\": f\"Bearer {access_token}\"},\n",
    ").json()\n",
    "\n",
    "assert response == \"success\""
   ]
  },
  {
   "cell_type": "markdown",
   "metadata": {},
   "source": [
    "## Update an instance"
   ]
  },
  {
   "cell_type": "markdown",
   "metadata": {
    "tags": []
   },
   "source": [
    "### Call `update_instance`"
   ]
  },
  {
   "cell_type": "code",
   "execution_count": null,
   "metadata": {},
   "outputs": [],
   "source": [
    "new_description_1 = \"Description\""
   ]
  },
  {
   "cell_type": "code",
   "execution_count": null,
   "metadata": {},
   "outputs": [],
   "source": [
    "message = update_instance(\n",
    "    instance_id=instance_id,\n",
    "    description=new_description_1,\n",
    "    _access_token=auth[\"access_token\"],\n",
    ")"
   ]
  },
  {
   "cell_type": "code",
   "execution_count": null,
   "metadata": {},
   "outputs": [],
   "source": [
    "hub = connect_hub_with_auth(access_token=auth[\"access_token\"])\n",
    "instance = sb_select_instance(instance_id, hub)\n",
    "\n",
    "assert message is None\n",
    "assert instance[\"description\"] == new_description_1"
   ]
  },
  {
   "cell_type": "markdown",
   "metadata": {},
   "source": [
    "### Put method on `/instance` route"
   ]
  },
  {
   "cell_type": "code",
   "execution_count": null,
   "metadata": {},
   "outputs": [],
   "source": [
    "new_description_2 = \"Description 2\""
   ]
  },
  {
   "cell_type": "code",
   "execution_count": null,
   "metadata": {},
   "outputs": [],
   "source": [
    "response = client.put(\n",
    "    f\"/instance/?instance_id={instance_id}&description={new_description_2}\",\n",
    "    headers={\"authentication\": f\"Bearer {access_token}\"},\n",
    ")"
   ]
  },
  {
   "cell_type": "code",
   "execution_count": null,
   "metadata": {},
   "outputs": [],
   "source": [
    "instance = sb_select_instance(instance_id, hub)\n",
    "\n",
    "assert response.json() == \"success\"\n",
    "assert instance[\"description\"] == new_description_2"
   ]
  },
  {
   "cell_type": "markdown",
   "metadata": {},
   "source": [
    "## Update a non existing instance"
   ]
  },
  {
   "cell_type": "markdown",
   "metadata": {},
   "source": [
    "### Call `update_instance` on a non existing instance"
   ]
  },
  {
   "cell_type": "code",
   "execution_count": null,
   "metadata": {},
   "outputs": [],
   "source": [
    "non_existing_instance_id = instance_id[:-5] + \"1aa63\""
   ]
  },
  {
   "cell_type": "code",
   "execution_count": null,
   "metadata": {},
   "outputs": [],
   "source": [
    "message = update_instance(\n",
    "    instance_id=non_existing_instance_id,\n",
    "    description=\"Description\",\n",
    "    _access_token=auth[\"access_token\"],\n",
    ")"
   ]
  },
  {
   "cell_type": "code",
   "execution_count": null,
   "metadata": {},
   "outputs": [],
   "source": [
    "assert message == \"instance-not-updated\""
   ]
  },
  {
   "cell_type": "markdown",
   "metadata": {},
   "source": [
    "### Put method on `/instance` route"
   ]
  },
  {
   "cell_type": "code",
   "execution_count": null,
   "metadata": {},
   "outputs": [],
   "source": [
    "response = client.put(\n",
    "    f\"/instance/?instance_id={non_existing_instance_id}&description={new_description_2}\",\n",
    "    headers={\"authentication\": f\"Bearer {access_token}\"},\n",
    ")"
   ]
  },
  {
   "cell_type": "code",
   "execution_count": null,
   "metadata": {},
   "outputs": [],
   "source": [
    "assert response.json() == \"instance-not-updated\""
   ]
  },
  {
   "cell_type": "markdown",
   "metadata": {},
   "source": [
    "## Clean up test assets"
   ]
  },
  {
   "cell_type": "code",
   "execution_count": null,
   "metadata": {},
   "outputs": [],
   "source": [
    "delete_account(account[\"handle\"], access_token)\n",
    "delete_instance(\n",
    "    owner=account[\"handle\"], name=instance[\"name\"], _access_token=access_token\n",
    ")"
   ]
  },
  {
   "cell_type": "code",
   "execution_count": null,
   "metadata": {},
   "outputs": [],
   "source": [
    "clean_ci()"
   ]
  }
 ],
 "metadata": {
  "kernelspec": {
   "display_name": "Python 3 (ipykernel)",
   "language": "python",
   "name": "python3"
  },
  "language_info": {
   "codemirror_mode": {
    "name": "ipython",
    "version": 3
   },
   "file_extension": ".py",
   "mimetype": "text/x-python",
   "name": "python",
   "nbconvert_exporter": "python",
   "pygments_lexer": "ipython3",
   "version": "3.9.12"
  },
  "vscode": {
   "interpreter": {
    "hash": "2841734f87827db3a7b3181a6051fe720e9968e703956c2bd6988b5a29362801"
   }
  }
 },
 "nbformat": 4,
 "nbformat_minor": 4
}
