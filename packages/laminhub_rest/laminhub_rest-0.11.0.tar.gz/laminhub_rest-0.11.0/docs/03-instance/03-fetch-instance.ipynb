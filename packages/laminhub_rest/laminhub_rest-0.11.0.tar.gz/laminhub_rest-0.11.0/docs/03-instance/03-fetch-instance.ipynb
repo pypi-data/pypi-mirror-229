{
 "cells": [
  {
   "cell_type": "markdown",
   "metadata": {},
   "source": [
    "# Test retrieve instance"
   ]
  },
  {
   "cell_type": "code",
   "execution_count": null,
   "metadata": {},
   "outputs": [],
   "source": [
    "from deepdiff import DeepDiff\n",
    "from laminhub_rest.core.account import delete_account\n",
    "from laminhub_rest.core.instance import delete_instance\n",
    "from laminhub_rest.connector import get_access_token\n",
    "from laminhub_rest.main import client\n",
    "from laminhub_rest.routers.instance import (\n",
    "    get_instance_accounts,\n",
    "    get_instance_by_name,\n",
    ")\n",
    "from laminhub_rest.connector import connect_hub\n",
    "from laminhub_rest.utils._test import (\n",
    "    create_test_auth,\n",
    "    create_test_account,\n",
    "    create_test_storage,\n",
    "    create_test_instance,\n",
    "    add_test_collaborator,\n",
    ")\n",
    "from laminhub_rest._clean_ci import clean_ci"
   ]
  },
  {
   "cell_type": "markdown",
   "metadata": {},
   "source": [
    "## Parametrize "
   ]
  },
  {
   "cell_type": "code",
   "execution_count": null,
   "metadata": {},
   "outputs": [],
   "source": [
    "hub = connect_hub()\n",
    "\n",
    "# Create account 1\n",
    "auth_1 = create_test_auth()\n",
    "access_token_1 = auth_1[\"access_token\"]\n",
    "account_1 = create_test_account(handle=auth_1[\"handle\"], access_token=access_token_1)\n",
    "account_id_1 = account_1[\"id\"]\n",
    "account_handle_ = account_1[\"handle\"]\n",
    "\n",
    "# Create account 2\n",
    "auth_2 = create_test_auth()\n",
    "access_token_2 = auth_2[\"access_token\"]\n",
    "account_2 = create_test_account(handle=auth_2[\"handle\"], access_token=access_token_2)\n",
    "account_id_2 = account_2[\"id\"]\n",
    "handle_2 = account_2[\"handle\"]\n",
    "\n",
    "# Create storage\n",
    "storage = create_test_storage(access_token=access_token_1)\n",
    "\n",
    "# Create instance\n",
    "instance_1 = create_test_instance(storage_id=storage[\"id\"], access_token=access_token_1)\n",
    "instance_account_id_1 = instance_1[\"id\"]\n",
    "instance_name_1 = instance_1[\"name\"]\n",
    "\n",
    "# Add account 1 as an admin member\n",
    "\n",
    "instance_collaborator_1 = add_test_collaborator(\n",
    "    instance_id=instance_account_id_1,\n",
    "    account_id=account_id_1,\n",
    "    role=\"admin\",\n",
    "    access_token=access_token_1,\n",
    ")\n",
    "\n",
    "# Add account 2 as a member with read role\n",
    "\n",
    "instance_collaborator_2 = add_test_collaborator(\n",
    "    instance_id=instance_account_id_1,\n",
    "    account_id=account_id_2,\n",
    "    role=\"read\",\n",
    "    access_token=access_token_1,\n",
    ")"
   ]
  },
  {
   "cell_type": "markdown",
   "metadata": {},
   "source": [
    "## Fetch instance by name"
   ]
  },
  {
   "cell_type": "code",
   "execution_count": null,
   "metadata": {},
   "outputs": [],
   "source": [
    "instance_expected = {\n",
    "    \"instance\": {\n",
    "        **instance_1,\n",
    "        \"storage\": {\"root\": storage[\"root\"]},\n",
    "        \"account\": {\"handle\": account_handle_, \"id\": account_id_1},\n",
    "    },\n",
    "    \"role\": \"admin\",\n",
    "}"
   ]
  },
  {
   "cell_type": "markdown",
   "metadata": {},
   "source": [
    "### Call `get_instance_by_name`"
   ]
  },
  {
   "cell_type": "code",
   "execution_count": null,
   "metadata": {},
   "outputs": [],
   "source": [
    "instance = get_instance_by_name(\n",
    "    account_handle_, instance_1[\"name\"], f\"Bearer {access_token_1}\"\n",
    ")\n",
    "assert str(instance) == str(instance_expected)"
   ]
  },
  {
   "cell_type": "markdown",
   "metadata": {},
   "source": [
    "### Get method on `/instance/{handle}/{name}` route"
   ]
  },
  {
   "cell_type": "code",
   "execution_count": null,
   "metadata": {},
   "outputs": [],
   "source": [
    "response = client.get(\n",
    "    f\"/instance/{account_handle_}/{instance_name_1}\",\n",
    "    headers={\"authentication\": f\"Bearer {access_token_1}\"},\n",
    ")\n",
    "assert str(response.json()) == str(instance_expected)"
   ]
  },
  {
   "cell_type": "markdown",
   "metadata": {},
   "source": [
    "## Fetch instance's accounts"
   ]
  },
  {
   "cell_type": "code",
   "execution_count": null,
   "metadata": {},
   "outputs": [],
   "source": [
    "instance_accounts_expected = {\n",
    "    \"accounts\": [\n",
    "        {\n",
    "            **instance_collaborator_1,\n",
    "            \"account\": account_1,\n",
    "        },\n",
    "        {\n",
    "            **instance_collaborator_2,\n",
    "            \"account\": account_2,\n",
    "        },\n",
    "    ],\n",
    "    \"role\": \"admin\",\n",
    "}"
   ]
  },
  {
   "cell_type": "markdown",
   "metadata": {},
   "source": [
    "### Call `get_instance_accounts`"
   ]
  },
  {
   "cell_type": "code",
   "execution_count": null,
   "metadata": {},
   "outputs": [],
   "source": [
    "instance_accounts = get_instance_accounts(\n",
    "    account_handle_, instance_name_1, f\"Bearer {access_token_1}\"\n",
    ")\n",
    "assert DeepDiff(instance_accounts, instance_accounts_expected, ignore_order=True) == {}"
   ]
  },
  {
   "cell_type": "markdown",
   "metadata": {},
   "source": [
    "### Get method on `/instance/resources/accounts/{handle}/{name}` route"
   ]
  },
  {
   "cell_type": "code",
   "execution_count": null,
   "metadata": {},
   "outputs": [],
   "source": [
    "response = client.get(\n",
    "    f\"/instance/resources/accounts/{account_handle_}/{instance_name_1}\",\n",
    "    headers={\"authentication\": f\"Bearer {access_token_1}\"},\n",
    ")\n",
    "assert str(response.json()) == str(instance_accounts_expected)"
   ]
  },
  {
   "cell_type": "markdown",
   "metadata": {},
   "source": [
    "## Clean up test assets"
   ]
  },
  {
   "cell_type": "code",
   "execution_count": null,
   "metadata": {},
   "outputs": [],
   "source": [
    "delete_account(account_1[\"handle\"], access_token_1)\n",
    "delete_account(account_2[\"handle\"], access_token_2)\n",
    "delete_instance(\n",
    "    owner=account_1[\"handle\"], name=instance_1[\"name\"], _access_token=access_token_1\n",
    ")"
   ]
  },
  {
   "cell_type": "code",
   "execution_count": null,
   "metadata": {},
   "outputs": [],
   "source": [
    "clean_ci()"
   ]
  }
 ],
 "metadata": {
  "kernelspec": {
   "display_name": "Python 3 (ipykernel)",
   "language": "python",
   "name": "python3"
  },
  "language_info": {
   "codemirror_mode": {
    "name": "ipython",
    "version": 3
   },
   "file_extension": ".py",
   "mimetype": "text/x-python",
   "name": "python",
   "nbconvert_exporter": "python",
   "pygments_lexer": "ipython3",
   "version": "3.9.15"
  },
  "vscode": {
   "interpreter": {
    "hash": "2841734f87827db3a7b3181a6051fe720e9968e703956c2bd6988b5a29362801"
   }
  }
 },
 "nbformat": 4,
 "nbformat_minor": 4
}
