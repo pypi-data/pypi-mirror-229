{
 "cells": [
  {
   "cell_type": "code",
   "execution_count": 0,
   "metadata": {
    "application/vnd.databricks.v1+cell": {
     "cellMetadata": {
      "byteLimit": 2048000,
      "rowLimit": 10000
     },
     "inputWidgets": {},
     "nuid": "cae832a6-468a-4011-b0e3-1db8f0344769",
     "showTitle": false,
     "title": ""
    }
   },
   "outputs": [],
   "source": [
    "%sh\n",
    "/databricks/python3/bin/pip install --upgrade pip;\n",
    "/databricks/python3/bin/pip install tableauhyperapi;\n",
    "/databricks/python3/bin/pip install tableauserverclient;"
   ]
  },
  {
   "cell_type": "code",
   "execution_count": 0,
   "metadata": {
    "application/vnd.databricks.v1+cell": {
     "cellMetadata": {
      "byteLimit": 2048000,
      "rowLimit": 10000
     },
     "inputWidgets": {},
     "nuid": "9b99006a-1b57-4e28-8a0f-de6fb2d8a39c",
     "showTitle": false,
     "title": ""
    }
   },
   "outputs": [],
   "source": [
    "import sys\n",
    "sys.path.insert(0, '/Workspace/Repos/dustin.vannoy@databricks.com/hyperleaup/src')"
   ]
  },
  {
   "cell_type": "code",
   "execution_count": 0,
   "metadata": {
    "application/vnd.databricks.v1+cell": {
     "cellMetadata": {
      "byteLimit": 2048000,
      "rowLimit": 10000
     },
     "inputWidgets": {},
     "nuid": "d87c5fae-576e-447d-99d9-1cba4c9664de",
     "showTitle": false,
     "title": ""
    }
   },
   "outputs": [],
   "source": [
    "from hyperleaup import HyperFile"
   ]
  },
  {
   "cell_type": "code",
   "execution_count": 0,
   "metadata": {
    "application/vnd.databricks.v1+cell": {
     "cellMetadata": {
      "byteLimit": 2048000,
      "rowLimit": 10000
     },
     "inputWidgets": {},
     "nuid": "744b10b5-24ce-46c6-9cbf-9c64ff9b56ad",
     "showTitle": true,
     "title": "Create Sample Data"
    }
   },
   "outputs": [],
   "source": [
    "eye_colors = [\n",
    "  (1, 'BLK', 'Black'),\n",
    "  (2, 'BLU', 'Blue'),\n",
    "  (3, 'BRO', 'Brown'),\n",
    "  (4, 'GRN', 'Green'),\n",
    "  (5, 'GRY', 'Gray'),\n",
    "  (6, 'HAZ', 'Hazel'),\n",
    "  (7, 'BLK', 'Black'),\n",
    "  (8, 'XXX', 'Unknown')\n",
    "]\n",
    "spark.createDataFrame(eye_colors, ['id', 'eye_color_code', 'eye_color_desc']).createOrReplaceTempView('eye_colors')"
   ]
  },
  {
   "cell_type": "code",
   "execution_count": 0,
   "metadata": {
    "application/vnd.databricks.v1+cell": {
     "cellMetadata": {
      "byteLimit": 2048000,
      "rowLimit": 10000
     },
     "inputWidgets": {},
     "nuid": "bf9b4188-b1ad-4605-98c8-7bd8dbb4001b",
     "showTitle": false,
     "title": ""
    }
   },
   "outputs": [],
   "source": [
    "query = \"SELECT * FROM eye_colors\""
   ]
  },
  {
   "cell_type": "code",
   "execution_count": 0,
   "metadata": {
    "application/vnd.databricks.v1+cell": {
     "cellMetadata": {
      "byteLimit": 2048000,
      "rowLimit": 10000
     },
     "inputWidgets": {},
     "nuid": "24079bf4-5df3-4c39-be98-e39fad9c4db3",
     "showTitle": true,
     "title": "Create a Hyper File from Spark SQL"
    }
   },
   "outputs": [],
   "source": [
    "hf = HyperFile(name=\"eye_colors\", sql=query, is_dbfs_enabled=True)"
   ]
  },
  {
   "cell_type": "code",
   "execution_count": 0,
   "metadata": {
    "application/vnd.databricks.v1+cell": {
     "cellMetadata": {
      "byteLimit": 2048000,
      "rowLimit": 10000
     },
     "inputWidgets": {},
     "nuid": "3e6dce4d-c8d8-441f-8908-e89fdbb277b7",
     "showTitle": true,
     "title": "Create a Hyper File from a Spark DataFrame"
    }
   },
   "outputs": [],
   "source": [
    "df = spark.createDataFrame(eye_colors, ['id', 'eye_color_code', 'eye_color_desc'])\n",
    "hf_2 = HyperFile(name=\"more_eye_colors\", df=df, is_dbfs_enabled=True)"
   ]
  },
  {
   "cell_type": "code",
   "execution_count": 0,
   "metadata": {
    "application/vnd.databricks.v1+cell": {
     "cellMetadata": {
      "byteLimit": 2048000,
      "rowLimit": 10000
     },
     "inputWidgets": {},
     "nuid": "55ec646f-5857-4137-81af-44cab0bcabac",
     "showTitle": true,
     "title": "Available Creation Modes"
    }
   },
   "outputs": [],
   "source": [
    "# Hyperleaup supports 4 creation modes:\n",
    "#   'parquet'   - (default) save to single parquet file then copy\n",
    "#   'copy'      - use CSV format then copy) \n",
    "#   'insert'    - more forgiving for null values)\n",
    "#   'largefile' - save to multiple Parquet files then copy\n",
    "hf_3 = HyperFile(name=\"even_more_eye_colors\",\n",
    "                 df=df,\n",
    "                 is_dbfs_enabled=True,\n",
    "                 creation_mode='insert')"
   ]
  },
  {
   "cell_type": "code",
   "execution_count": 0,
   "metadata": {
    "application/vnd.databricks.v1+cell": {
     "cellMetadata": {
      "byteLimit": 2048000,
      "rowLimit": 10000
     },
     "inputWidgets": {},
     "nuid": "6121b723-faac-419d-bb44-cf30e66284cb",
     "showTitle": true,
     "title": "Setting options with HyperFileConfig"
    }
   },
   "outputs": [],
   "source": [
    "# Hyperleaup supports options for how to handle data types and null values. They are set by passing in a HyperFileConfig object.\n",
    "\n",
    "#   timestamp_with_timezone: bool, True to use timestamptz datatype with HyperFile, \n",
    "#     enable if using timestamp values with Parquet create mode (default=False)\n",
    "\n",
    "#   allow_nulls: bool, True to skip default behavior of replacing null numeric and\n",
    "#     strings with non-null values (default=False).\n",
    "\n",
    "#   convert_decimal_precision: bool, True to automatically convert decimals with \n",
    "#     precision over 18 down to 18. This has risk of data truncation so manual \n",
    "#     testing of your decimals is suggested before use. (default=False)\n",
    "\n",
    "from hyperleaup import HyperFileConfig\n",
    "\n",
    "hf_config = HyperFileConfig(timestamp_with_timezone=True, allow_nulls=True,\n",
    "                            convert_decimal_precision=True)\n",
    "\n",
    "hf_4 = HyperFile(name=\"plus_even_more_eye_colors\",\n",
    "                 df=df,\n",
    "                 is_dbfs_enabled=True,\n",
    "                 config=hf_config)"
   ]
  },
  {
   "cell_type": "code",
   "execution_count": 0,
   "metadata": {
    "application/vnd.databricks.v1+cell": {
     "cellMetadata": {
      "byteLimit": 2048000,
      "rowLimit": 10000
     },
     "inputWidgets": {},
     "nuid": "c7e3d3b5-2c19-4932-a459-11d00baa33b2",
     "showTitle": true,
     "title": "Viewing HyperFile Attributes"
    }
   },
   "outputs": [],
   "source": [
    "hf.print_table_def()"
   ]
  },
  {
   "cell_type": "code",
   "execution_count": 0,
   "metadata": {
    "application/vnd.databricks.v1+cell": {
     "cellMetadata": {
      "byteLimit": 2048000,
      "rowLimit": 10000
     },
     "inputWidgets": {},
     "nuid": "24e122ac-20fd-4735-9ea1-f03d7865343a",
     "showTitle": false,
     "title": ""
    }
   },
   "outputs": [],
   "source": [
    "print(hf.name)"
   ]
  },
  {
   "cell_type": "code",
   "execution_count": 0,
   "metadata": {
    "application/vnd.databricks.v1+cell": {
     "cellMetadata": {
      "byteLimit": 2048000,
      "rowLimit": 10000
     },
     "inputWidgets": {},
     "nuid": "a1b884d9-739a-4dc6-8d29-e54d27b394b1",
     "showTitle": false,
     "title": ""
    }
   },
   "outputs": [],
   "source": [
    "print(hf.sql)"
   ]
  },
  {
   "cell_type": "code",
   "execution_count": 0,
   "metadata": {
    "application/vnd.databricks.v1+cell": {
     "cellMetadata": {
      "byteLimit": 2048000,
      "rowLimit": 10000
     },
     "inputWidgets": {},
     "nuid": "ee90fdd9-9971-417f-a35b-e6892098fa7e",
     "showTitle": false,
     "title": ""
    }
   },
   "outputs": [],
   "source": [
    "hf.print_rows()"
   ]
  },
  {
   "cell_type": "code",
   "execution_count": 0,
   "metadata": {
    "application/vnd.databricks.v1+cell": {
     "cellMetadata": {
      "byteLimit": 2048000,
      "rowLimit": 10000
     },
     "inputWidgets": {},
     "nuid": "50c4a83a-ae00-47ec-b74f-11473dee13ed",
     "showTitle": false,
     "title": ""
    }
   },
   "outputs": [],
   "source": [
    "display(hf.df)"
   ]
  },
  {
   "cell_type": "code",
   "execution_count": 0,
   "metadata": {
    "application/vnd.databricks.v1+cell": {
     "cellMetadata": {
      "byteLimit": 2048000,
      "rowLimit": 10000
     },
     "inputWidgets": {},
     "nuid": "fa94e217-db2e-43b8-b0ef-a747866ee25a",
     "showTitle": false,
     "title": ""
    }
   },
   "outputs": [],
   "source": [
    "print(hf.path)"
   ]
  },
  {
   "cell_type": "code",
   "execution_count": 0,
   "metadata": {
    "application/vnd.databricks.v1+cell": {
     "cellMetadata": {
      "byteLimit": 2048000,
      "rowLimit": 10000
     },
     "inputWidgets": {},
     "nuid": "e9740227-43ef-403e-8c16-ba78bb2b10cd",
     "showTitle": true,
     "title": "Publish Hyper File to Tableau"
    }
   },
   "outputs": [],
   "source": [
    "# Add your Tableau Server details here\n",
    "# Note: you must have a site and project created before publishing\n",
    "username = ''\n",
    "password = ''\n",
    "tableau_server = ''\n",
    "site_id = ''\n",
    "project_name = ''\n",
    "datasource_name = ''\n",
    "\n",
    "# Publish the Hyper File!\n",
    "luid = hf.publish(tableau_server_url=tableau_server,\n",
    "                  username=username,\n",
    "                  password=password,\n",
    "                  site_id=site_id,\n",
    "                  project_name=project_name,\n",
    "                  datasource_name=datasource_name)\n",
    "print(f'Published Hyper File as new datasource luid: {luid}')"
   ]
  },
  {
   "cell_type": "code",
   "execution_count": 0,
   "metadata": {
    "application/vnd.databricks.v1+cell": {
     "cellMetadata": {
      "byteLimit": 2048000,
      "rowLimit": 10000
     },
     "inputWidgets": {},
     "nuid": "49365eb8-fe65-43a2-8d5c-5161bb3b49a0",
     "showTitle": true,
     "title": "Save Hyper File to DBFS"
    }
   },
   "outputs": [],
   "source": [
    "hf.save('/tmp/demo/')"
   ]
  },
  {
   "cell_type": "code",
   "execution_count": 0,
   "metadata": {
    "application/vnd.databricks.v1+cell": {
     "cellMetadata": {
      "byteLimit": 2048000,
      "rowLimit": 10000
     },
     "inputWidgets": {},
     "nuid": "8c8c19ac-e491-4827-91af-9313cb1e0f72",
     "showTitle": false,
     "title": ""
    }
   },
   "outputs": [],
   "source": [
    "%fs ls /tmp/demo/"
   ]
  },
  {
   "cell_type": "code",
   "execution_count": 0,
   "metadata": {
    "application/vnd.databricks.v1+cell": {
     "cellMetadata": {
      "byteLimit": 2048000,
      "rowLimit": 10000
     },
     "inputWidgets": {},
     "nuid": "40c60cc7-2a4c-4a54-ae3a-32a3c4c83ae6",
     "showTitle": true,
     "title": "Load an Existing Hyper File"
    }
   },
   "outputs": [],
   "source": [
    "hf = HyperFile.load(path='/tmp/demo/eye_colors.hyper', is_dbfs_enabled=True)"
   ]
  },
  {
   "cell_type": "code",
   "execution_count": 0,
   "metadata": {
    "application/vnd.databricks.v1+cell": {
     "cellMetadata": {
      "byteLimit": 2048000,
      "rowLimit": 10000
     },
     "inputWidgets": {},
     "nuid": "ba1b3dea-b7a3-4ac9-a37d-91bfea5a432f",
     "showTitle": false,
     "title": ""
    }
   },
   "outputs": [],
   "source": [
    "print(hf.path)"
   ]
  },
  {
   "cell_type": "code",
   "execution_count": 0,
   "metadata": {
    "application/vnd.databricks.v1+cell": {
     "cellMetadata": {
      "byteLimit": 2048000,
      "rowLimit": 10000
     },
     "inputWidgets": {},
     "nuid": "7af5f9e1-682d-41a0-b11b-ccde6d78cb6b",
     "showTitle": true,
     "title": "Append new Data to Existing Hyper File"
    }
   },
   "outputs": [],
   "source": [
    "# Create new data\n",
    "eye_colors = [\n",
    "  (9, 'PNK', 'Pink'),\n",
    "  (10, 'PUR', 'Purple'),\n",
    "  (11, 'YEL', 'Yellow')\n",
    "]\n",
    "df = spark.createDataFrame(eye_colors, ['id', 'eye_color_code', 'eye_color_desc'])"
   ]
  },
  {
   "cell_type": "code",
   "execution_count": 0,
   "metadata": {
    "application/vnd.databricks.v1+cell": {
     "cellMetadata": {
      "byteLimit": 2048000,
      "rowLimit": 10000
     },
     "inputWidgets": {},
     "nuid": "a34bbf02-bd86-40ae-82e9-8ee3b0220deb",
     "showTitle": false,
     "title": ""
    }
   },
   "outputs": [],
   "source": [
    "# append to an existing Hyper File\n",
    "hf.append(df=df)"
   ]
  },
  {
   "cell_type": "code",
   "execution_count": 0,
   "metadata": {
    "application/vnd.databricks.v1+cell": {
     "cellMetadata": {
      "byteLimit": 2048000,
      "rowLimit": 10000
     },
     "inputWidgets": {},
     "nuid": "1da5c6be-b0d1-49e0-8b90-4ce1241c28b3",
     "showTitle": false,
     "title": ""
    }
   },
   "outputs": [],
   "source": [
    "hf.print_rows()"
   ]
  }
 ],
 "metadata": {
  "application/vnd.databricks.v1+notebook": {
   "dashboards": [],
   "language": "python",
   "notebookMetadata": {
    "mostRecentlyExecutedCommandWithImplicitDF": {
     "commandId": 2488707797413206,
     "dataframes": [
      "_sqldf"
     ]
    },
    "pythonIndentUnit": 2
   },
   "notebookName": "Hyperleaup-Demo",
   "widgets": {}
  }
 },
 "nbformat": 4,
 "nbformat_minor": 0
}
