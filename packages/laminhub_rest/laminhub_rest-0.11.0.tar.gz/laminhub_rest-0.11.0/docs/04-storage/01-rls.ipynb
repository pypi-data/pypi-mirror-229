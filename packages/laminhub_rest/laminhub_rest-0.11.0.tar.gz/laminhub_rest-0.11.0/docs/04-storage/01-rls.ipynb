{
 "cells": [
  {
   "cell_type": "markdown",
   "metadata": {},
   "source": [
    "# Test RLS on storage table"
   ]
  },
  {
   "cell_type": "code",
   "execution_count": null,
   "metadata": {
    "tags": []
   },
   "outputs": [],
   "source": [
    "from laminhub_rest.core.account import delete_account\n",
    "from laminhub_rest.connector import connect_hub, connect_hub_with_auth\n",
    "import pytest\n",
    "from laminhub_rest.utils._test import (\n",
    "    create_test_auth,\n",
    "    create_test_account,\n",
    "    create_test_storage,\n",
    ")\n",
    "from laminhub_rest.core.storage._crud import (\n",
    "    sb_insert_storage,\n",
    "    sb_select_storage,\n",
    "    sb_udpate_storage,\n",
    "    sb_delete_storage,\n",
    ")\n",
    "from uuid import uuid4\n",
    "import string, secrets\n",
    "from laminhub_rest._clean_ci import clean_ci"
   ]
  },
  {
   "cell_type": "code",
   "execution_count": null,
   "metadata": {},
   "outputs": [],
   "source": [
    "def base62(n_char: int) -> str:\n",
    "    \"\"\"Like nanoid without hyphen and underscore.\"\"\"\n",
    "    alphabet = string.digits + string.ascii_letters.swapcase()\n",
    "    id = \"\".join(secrets.choice(alphabet) for i in range(n_char))\n",
    "    return id"
   ]
  },
  {
   "cell_type": "markdown",
   "metadata": {},
   "source": [
    "## Parametrize "
   ]
  },
  {
   "cell_type": "code",
   "execution_count": null,
   "metadata": {
    "tags": []
   },
   "outputs": [],
   "source": [
    "hub = connect_hub()\n",
    "\n",
    "# Create account 1\n",
    "auth_1 = create_test_auth()\n",
    "access_token_1 = auth_1[\"access_token\"]\n",
    "account_1 = create_test_account(handle=auth_1[\"handle\"], access_token=access_token_1)\n",
    "account_id_1 = account_1[\"id\"]\n",
    "account_handle_1 = account_1[\"handle\"]\n",
    "account_hub_1 = connect_hub_with_auth(access_token=access_token_1)\n",
    "\n",
    "# Create account 2\n",
    "auth_2 = create_test_auth()\n",
    "access_token_2 = auth_2[\"access_token\"]\n",
    "account_2 = create_test_account(handle=auth_2[\"handle\"], access_token=access_token_2)\n",
    "account_id_2 = account_2[\"id\"]\n",
    "account_handle_2 = account_2[\"handle\"]\n",
    "account_hub_2 = connect_hub_with_auth(access_token=access_token_2)"
   ]
  },
  {
   "cell_type": "markdown",
   "metadata": {},
   "source": [
    "## Enable authenticated accounts to create storage"
   ]
  },
  {
   "cell_type": "code",
   "execution_count": null,
   "metadata": {},
   "outputs": [],
   "source": [
    "storage_id = uuid4().hex\n",
    "storage_lnid = (base62(8),)"
   ]
  },
  {
   "cell_type": "markdown",
   "metadata": {},
   "source": [
    "With an anonymous Supabase client"
   ]
  },
  {
   "cell_type": "code",
   "execution_count": null,
   "metadata": {},
   "outputs": [],
   "source": [
    "with pytest.raises(Exception) as error:\n",
    "    storage = sb_insert_storage(\n",
    "        storage_fields={\n",
    "            \"id\": storage_id,\n",
    "            \"lnid\": storage_lnid,\n",
    "            \"created_by\": account_id_1,\n",
    "            \"root\": f\"lamin.ci.storage.{base62(6)}\",\n",
    "            \"region\": \"us-east-1\",\n",
    "            \"type\": \"s3\",\n",
    "        },\n",
    "        supabase_client=hub,\n",
    "    )\n",
    "\n",
    "assert \"new row violates row-level security policy\" in error.value.message"
   ]
  },
  {
   "cell_type": "markdown",
   "metadata": {},
   "source": [
    "Using another account authentication"
   ]
  },
  {
   "cell_type": "code",
   "execution_count": null,
   "metadata": {},
   "outputs": [],
   "source": [
    "with pytest.raises(Exception) as error:\n",
    "    storage = sb_insert_storage(\n",
    "        storage_fields={\n",
    "            \"id\": storage_id,\n",
    "            \"lnid\": storage_lnid,\n",
    "            \"created_by\": account_id_1,\n",
    "            \"root\": f\"lamin.ci.storage.{base62(6)}\",\n",
    "            \"region\": \"us-east-1\",\n",
    "            \"type\": \"s3\",\n",
    "        },\n",
    "        supabase_client=account_hub_2,\n",
    "    )\n",
    "\n",
    "assert \"new row violates row-level security policy\" in error.value.message"
   ]
  },
  {
   "cell_type": "markdown",
   "metadata": {},
   "source": [
    "Using corresponding account authentication"
   ]
  },
  {
   "cell_type": "code",
   "execution_count": null,
   "metadata": {},
   "outputs": [],
   "source": [
    "storage = sb_insert_storage(\n",
    "    storage_fields={\n",
    "        \"id\": storage_id,\n",
    "        \"lnid\": storage_lnid,\n",
    "        \"created_by\": account_id_1,\n",
    "        \"root\": f\"lamin.ci.storage.{base62(6)}\",\n",
    "        \"region\": \"us-east-1\",\n",
    "        \"type\": \"s3\",\n",
    "    },\n",
    "    supabase_client=account_hub_1,\n",
    ")\n",
    "\n",
    "assert storage is not None"
   ]
  },
  {
   "cell_type": "markdown",
   "metadata": {},
   "source": [
    "## Enable everyone to select a storage"
   ]
  },
  {
   "cell_type": "markdown",
   "metadata": {},
   "source": [
    "With an anonymous Supabase client"
   ]
  },
  {
   "cell_type": "code",
   "execution_count": null,
   "metadata": {},
   "outputs": [],
   "source": [
    "storage = sb_select_storage(id=storage_id, supabase_client=hub)\n",
    "\n",
    "assert storage is not None"
   ]
  },
  {
   "cell_type": "markdown",
   "metadata": {
    "tags": []
   },
   "source": [
    "## Enable owner to update their storage"
   ]
  },
  {
   "cell_type": "markdown",
   "metadata": {},
   "source": [
    "With an anonymous Supabase client"
   ]
  },
  {
   "cell_type": "code",
   "execution_count": null,
   "metadata": {},
   "outputs": [],
   "source": [
    "storage = sb_udpate_storage(\n",
    "    id=storage_id,\n",
    "    storage_fields={\n",
    "        \"region\": \"us-east-2\",\n",
    "    },\n",
    "    supabase_client=hub,\n",
    ")\n",
    "\n",
    "assert storage is None\n",
    "assert sb_select_storage(id=storage_id, supabase_client=hub)[\"region\"] == \"us-east-1\""
   ]
  },
  {
   "cell_type": "markdown",
   "metadata": {},
   "source": [
    "Using another account authentication"
   ]
  },
  {
   "cell_type": "code",
   "execution_count": null,
   "metadata": {},
   "outputs": [],
   "source": [
    "storage = sb_udpate_storage(\n",
    "    id=storage_id,\n",
    "    storage_fields={\n",
    "        \"region\": \"us-east-2\",\n",
    "    },\n",
    "    supabase_client=account_hub_2,\n",
    ")\n",
    "\n",
    "assert storage is None\n",
    "assert sb_select_storage(id=storage_id, supabase_client=hub)[\"region\"] == \"us-east-1\""
   ]
  },
  {
   "cell_type": "markdown",
   "metadata": {},
   "source": [
    "Using corresponding account authentication"
   ]
  },
  {
   "cell_type": "code",
   "execution_count": null,
   "metadata": {},
   "outputs": [],
   "source": [
    "storage = sb_udpate_storage(\n",
    "    id=storage_id,\n",
    "    storage_fields={\n",
    "        \"region\": \"us-east-2\",\n",
    "    },\n",
    "    supabase_client=account_hub_1,\n",
    ")\n",
    "\n",
    "assert storage is not None\n",
    "assert sb_select_storage(id=storage_id, supabase_client=hub)[\"region\"] == \"us-east-2\""
   ]
  },
  {
   "cell_type": "markdown",
   "metadata": {},
   "source": [
    "## Enable owner to delete their storage"
   ]
  },
  {
   "cell_type": "markdown",
   "metadata": {},
   "source": [
    "With an anonymous Supabase client"
   ]
  },
  {
   "cell_type": "code",
   "execution_count": null,
   "metadata": {},
   "outputs": [],
   "source": [
    "storage = sb_delete_storage(id=storage_id, supabase_client=hub)\n",
    "\n",
    "assert storage is None\n",
    "assert sb_select_storage(id=storage_id, supabase_client=hub) is not None"
   ]
  },
  {
   "cell_type": "markdown",
   "metadata": {},
   "source": [
    "Using another account authentication"
   ]
  },
  {
   "cell_type": "code",
   "execution_count": null,
   "metadata": {},
   "outputs": [],
   "source": [
    "storage = sb_delete_storage(id=storage_id, supabase_client=account_hub_2)\n",
    "\n",
    "assert storage is None\n",
    "assert sb_select_storage(id=storage_id, supabase_client=account_hub_2) is not None"
   ]
  },
  {
   "cell_type": "markdown",
   "metadata": {},
   "source": [
    "Using corresponding account authentication"
   ]
  },
  {
   "cell_type": "code",
   "execution_count": null,
   "metadata": {},
   "outputs": [],
   "source": [
    "storage = sb_delete_storage(id=storage_id, supabase_client=account_hub_1)\n",
    "\n",
    "assert storage is not None\n",
    "assert sb_select_storage(id=storage_id, supabase_client=account_hub_1) is None"
   ]
  },
  {
   "cell_type": "markdown",
   "metadata": {},
   "source": [
    "## Clean up test assets"
   ]
  },
  {
   "cell_type": "code",
   "execution_count": null,
   "metadata": {},
   "outputs": [],
   "source": [
    "delete_account(account_handle_1, access_token_1)\n",
    "delete_account(account_handle_2, access_token_2)"
   ]
  },
  {
   "cell_type": "code",
   "execution_count": null,
   "metadata": {},
   "outputs": [],
   "source": [
    "clean_ci()"
   ]
  }
 ],
 "metadata": {
  "kernelspec": {
   "display_name": "Python 3 (ipykernel)",
   "language": "python",
   "name": "python3"
  },
  "language_info": {
   "codemirror_mode": {
    "name": "ipython",
    "version": 3
   },
   "file_extension": ".py",
   "mimetype": "text/x-python",
   "name": "python",
   "nbconvert_exporter": "python",
   "pygments_lexer": "ipython3",
   "version": "3.9.15"
  },
  "vscode": {
   "interpreter": {
    "hash": "2841734f87827db3a7b3181a6051fe720e9968e703956c2bd6988b5a29362801"
   }
  }
 },
 "nbformat": 4,
 "nbformat_minor": 4
}
