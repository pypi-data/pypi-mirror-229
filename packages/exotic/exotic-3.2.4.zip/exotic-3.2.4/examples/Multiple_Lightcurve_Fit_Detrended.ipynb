{
 "cells": [
  {
   "attachments": {},
   "cell_type": "markdown",
   "metadata": {},
   "source": [
    "# Simultaneously fit multiple lightcurves with airmass detrending\n",
    "\n",
    "Here we will fit multiple lightcurves simultaneously using the global fitter in exotic. We will set up bounds for each lightcurve that specify what parameters to fit along with 'global' bounds that are shared between all lightcurves. \n",
    "\n",
    "![](https://s3.amazonaws.com/aasie/images/0004-6256/164/5/null/ajac8deef3_hr.jpg)\n",
    "\n",
    "This notebook will show you how to reproduce something similar to Figure 4 in a study on HD 80606 b, https://ui.adsabs.harvard.edu/abs/2022AJ....164..178P/abstract \n",
    "\n",
    "Please cite that paper if you use this code"
   ]
  },
  {
   "attachments": {},
   "cell_type": "markdown",
   "metadata": {},
   "source": [
    "## Find lightcurve data in the Exoplanet Watch Database\n",
    "\n",
    "The command `get` will fetch priors, light curves and an ephemeris (O-C) for each target."
   ]
  },
  {
   "cell_type": "code",
   "execution_count": null,
   "metadata": {},
   "outputs": [],
   "source": [
    "import os\n",
    "import numpy as np\n",
    "from copy import deepcopy\n",
    "from exotic.api.ew import ExoplanetWatch, translate_keys\n",
    "from IPython.display import display, Image\n",
    "import matplotlib.pyplot as plt\n",
    "%matplotlib inline\n",
    "\n",
    "\n",
    "# This will load the results JSON from the link above\n",
    "EW = ExoplanetWatch()\n",
    "print(EW.target_list)\n",
    "\n",
    "# names are case and space sensitive\n",
    "target ='TrES-4 b'\n",
    "result = EW.get(target)\n",
    "\n",
    "# directory to save outputs to\n",
    "output_dir = target.replace(\" \",\"_\").replace(\"-\",\"_\")\n",
    "\n",
    "# make the directory if it doesn't exist\n",
    "if not os.path.exists(output_dir):\n",
    "    os.mkdir(output_dir)\n",
    "\n",
    "# list the result properties\n",
    "result.__dict__.keys()"
   ]
  },
  {
   "attachments": {},
   "cell_type": "markdown",
   "metadata": {},
   "source": [
    "## Priors\n",
    "A list of stellar and planetary parameters with references. These are used to calculate a light curve model with non-linear limb darkening."
   ]
  },
  {
   "cell_type": "code",
   "execution_count": null,
   "metadata": {},
   "outputs": [],
   "source": [
    "result.priors"
   ]
  },
  {
   "cell_type": "code",
   "execution_count": null,
   "metadata": {},
   "outputs": [],
   "source": [
    "# translate json to exotic compatible format\n",
    "transit_priors = {\n",
    "    'ecc': float(result.priors['ecc']['value']),\n",
    "    'inc': float(result.priors['inc']['value']),\n",
    "    'omega': float(result.priors['omega']['value']),\n",
    "    'tmid': float(result.priors['Tc']['value']),\n",
    "    'a1': 1, 'a2': 0, # airmass: a1 * exp(a2 * sec(z))\n",
    "    'ars': float(result.priors['a/R*']['value']),\n",
    "    'rprs': float(result.priors['Rp/R*']['value']),\n",
    "    'per': float(result.priors['Period']['value']),\n",
    "    # u0,u1,u2,u3 - non-linear limb darkening added later\n",
    "}"
   ]
  },
  {
   "attachments": {},
   "cell_type": "markdown",
   "metadata": {},
   "source": [
    "## Observations\n",
    "A list of observations for each target. These are used to fit the light curve model to the data."
   ]
  },
  {
   "cell_type": "code",
   "execution_count": null,
   "metadata": {},
   "outputs": [],
   "source": [
    "len(result.observations)"
   ]
  },
  {
   "cell_type": "code",
   "execution_count": null,
   "metadata": {},
   "outputs": [],
   "source": [
    "# list the properties\n",
    "print(result.observations[0].__dict__.keys())"
   ]
  },
  {
   "attachments": {},
   "cell_type": "markdown",
   "metadata": {},
   "source": [
    "# Download the light curve data + plot best fit"
   ]
  },
  {
   "cell_type": "code",
   "execution_count": null,
   "metadata": {},
   "outputs": [],
   "source": [
    "# let's over plot the transit model too\n",
    "from exotic.api.elca import transit\n",
    "\n",
    "time, flux, fluxerr, airmass, airmasscorr = result.observations[0].get_data()\n",
    "\n",
    "plt.plot(time, flux/airmasscorr, 'ko')\n",
    "plt.plot(time, transit(time, result.observations[0].parameters), 'r-')\n",
    "plt.xlabel(\"Time [BJD]\")\n",
    "plt.ylabel(\"Rel. Flux\")"
   ]
  },
  {
   "attachments": {},
   "cell_type": "markdown",
   "metadata": {},
   "source": [
    "## Fit a single lightcurve using EXOTIC"
   ]
  },
  {
   "cell_type": "code",
   "execution_count": null,
   "metadata": {},
   "outputs": [],
   "source": [
    "from exotic.api.elca import lc_fitter\n",
    "\n",
    "# only define bounds for the \"free\" parameters during fitting\n",
    "mybounds = {\n",
    "    # [lower, upper]\n",
    "    'rprs':[0,0.2],\n",
    "    'tmid':[ result.ephemeris['Tc']-0.02,\n",
    "             result.ephemeris['Tc']+0.02],\n",
    "    'inc':[ result.observations[0].parameters['inc']-3, \n",
    "            min(90,result.observations[0].parameters['inc']+3)],\n",
    "    'a2':[-0.5,0.5] # airmass curvature\n",
    "}\n",
    "\n",
    "# add limb darkening priors or generate them from a model (e.g. exotethys)\n",
    "transit_priors['u0'] = result.observations[0].parameters['u0']\n",
    "transit_priors['u1'] = result.observations[0].parameters['u1']\n",
    "transit_priors['u2'] = result.observations[0].parameters['u2']\n",
    "transit_priors['u3'] = result.observations[0].parameters['u3']\n",
    "\n",
    "# fit the light curve\n",
    "myfit = lc_fitter(time, flux, fluxerr, airmass, deepcopy(transit_priors), mybounds)"
   ]
  },
  {
   "cell_type": "code",
   "execution_count": null,
   "metadata": {},
   "outputs": [],
   "source": [
    "myfit.plot_bestfit()\n",
    "plt.show()"
   ]
  },
  {
   "cell_type": "code",
   "execution_count": null,
   "metadata": {},
   "outputs": [],
   "source": [
    "# show the posterior distributions\n",
    "myfit.plot_triangle()\n",
    "plt.show()"
   ]
  },
  {
   "attachments": {},
   "cell_type": "markdown",
   "metadata": {},
   "source": [
    "# Fit multiple light curves\n",
    "\n",
    "We're going to optimize the multi-lightcurve fit by first fitting the lightcurves individually to remove airmass variations and then we'll perform a joint simultaneous fit called \"global\" fit, which has shared parameters like Rp/Rs, Inclination, Tmid and Period across all the light curves."
   ]
  },
  {
   "cell_type": "code",
   "execution_count": null,
   "metadata": {},
   "outputs": [],
   "source": [
    "from astropy.time import Time\n",
    "from copy import deepcopy\n",
    "from exotic.api.elca import glc_fitter\n",
    "\n",
    "# prep data for global fitter\n",
    "input_data = []\n",
    "\n",
    "# free parameters for each light curve\n",
    "local_bounds = []"
   ]
  },
  {
   "cell_type": "code",
   "execution_count": null,
   "metadata": {},
   "outputs": [],
   "source": [
    "# fit the individual light curves from Exoplanet Watch and detrend airmass extinction\n",
    "for n,obs in enumerate(result.observations):\n",
    "\n",
    "    try:\n",
    "        time, flux, fluxerr, airmass, airmasscorr = obs.get_data()\n",
    "    except:\n",
    "        data = obs.get_data()\n",
    "        time, flux, fluxerr, airmass = data[:,0], data[:,1], data[:,2], data[:,3]\n",
    "\n",
    "    # add limb darkening priors or generate them from a model (e.g. exotethys)\n",
    "    transit_priors['u0'] = result.observations[n].parameters['u0']\n",
    "    transit_priors['u1'] = result.observations[n].parameters['u1']\n",
    "    transit_priors['u2'] = result.observations[n].parameters['u2']\n",
    "    transit_priors['u3'] = result.observations[n].parameters['u3']\n",
    "    prior = deepcopy(transit_priors)\n",
    "\n",
    "    # compute tmid closest to observations\n",
    "    tmid = prior['tmid']\n",
    "    per = prior['per']\n",
    "    obs_time = 0.5*(time.min() + time.max())\n",
    "    obs_tmid = tmid + per*np.round((obs_time - tmid)/per)\n",
    "\n",
    "    # mask out nans and 0 errors\n",
    "    mask = np.isnan(flux) | (fluxerr <= 0) | np.isnan(fluxerr) | (airmass <= 1)\n",
    "    \n",
    "    if mask.sum() == len(flux):\n",
    "        continue\n",
    "\n",
    "    time = time[~mask]\n",
    "    flux = flux[~mask]\n",
    "    fluxerr = fluxerr[~mask]\n",
    "    airmass = airmass[~mask]\n",
    "\n",
    "    # only define bounds for the \"free\" parameters during fitting\n",
    "    mybounds = {\n",
    "        # [lower, upper]\n",
    "        'rprs':[0, prior['rprs']*2],\n",
    "        'tmid':[ obs_tmid-0.05,\n",
    "                 obs_tmid+0.05],\n",
    "        'inc':[ prior['inc']-3, min(90,prior['inc']+3)],\n",
    "        'a2':[-0.5,0.5] # airmass curvature\n",
    "    }\n",
    "\n",
    "    try:\n",
    "        # fit the light curve\n",
    "        myfit = lc_fitter(time, flux, fluxerr, airmass, prior, mybounds) \n",
    "    except:\n",
    "        print(f\"Failed to fit {obs.obscode['id']}\")\n",
    "        continue\n",
    "\n",
    "    rprs2 = myfit.parameters['rprs']**2\n",
    "    rprs2err = myfit.errors['rprs']*2*myfit.parameters['rprs']\n",
    "\n",
    "    # residuals must be smaller than transit depth\n",
    "    if myfit.res_stdev > prior['rprs']**2:\n",
    "        print(f\"Skipping {obs.obscode['id']} due to large residuals\")\n",
    "        continue\n",
    "    elif rprs2-3*rprs2err < 0: # 3 sigma clip\n",
    "        print(f\"Skipping {obs.obscode['id']} due to null transit detection\")\n",
    "    elif np.std(flux) > 0.03:  # ignore noisy data\n",
    "        print(f\"Skipping {obs.obscode['id']} due to high scatter\")\n",
    "        continue\n",
    "    else:\n",
    "        prior = deepcopy(result.observations[n].parameters)\n",
    "\n",
    "        # add data to list\n",
    "        input_data.append({\n",
    "            'time':time,\n",
    "            'flux':myfit.detrended,\n",
    "            'ferr':myfit.detrendederr,\n",
    "            'airmass':np.zeros_like(time),\n",
    "            'priors':prior,\n",
    "            'name':f\"{obs.obscode['id']}\",\n",
    "\n",
    "            # save individual fit parameters\n",
    "            'parameters':myfit.parameters,\n",
    "            'errors':myfit.errors,\n",
    "            'res_std':myfit.res_stdev\n",
    "        })\n",
    "\n",
    "        # add parameter for individual airmass detrending\n",
    "        local_bounds.append({}) \n",
    "\n",
    "        # print some timing info\n",
    "        mint = Time(input_data[-1]['time'].min(),format='jd').isot\n",
    "        maxt = Time(input_data[-1]['time'].max(),format='jd').isot\n",
    "        maxphase = (input_data[-1]['time'].max() - prior['tmid'])/prior['per']\n",
    "        minphase = (input_data[-1]['time'].min() - prior['tmid'])/prior['per']\n",
    "        print(f\"{input_data[-1]['name']} {len(input_data)} : {mint} ({minphase:.4f}) - {maxt} ({maxphase:.4f})\")"
   ]
  },
  {
   "attachments": {},
   "cell_type": "markdown",
   "metadata": {},
   "source": [
    "## Run the next block of code only if you want to add TESS data to the global fit\n",
    "\n",
    "\n",
    "In order to make lightcurves from TESS please inspect the file `tess.py` in the `examples/` directory. You will need to set up a new environment and then run the script based on instructions at the top of the file. Once you have the lightcurves, you can run the next block of code to add them to the global fit."
   ]
  },
  {
   "cell_type": "code",
   "execution_count": null,
   "metadata": {},
   "outputs": [],
   "source": [
    "import glob\n",
    "from pylightcurve import exotethys\n",
    "\n",
    "# generate limb darkening coefficients for TESS\n",
    "get_prior = lambda key: float(result.priors[key]['value'])\n",
    "u0,u1,u2,u3 = exotethys(get_prior('LOGG'), get_prior('T*'), get_prior('FE/H'), 'TESS', method='claret', stellar_model='phoenix')\n",
    "\n",
    "# get files from local directory\n",
    "tess_lightcurves = glob.glob(f\"output/{target.replace(' ','_').replace('-','_')}/*_AAVSO.txt\")\n",
    "print(f\"Found {len(tess_lightcurves)} TESS light curves\")\n",
    "\n",
    "# add TESS data\n",
    "for n,lc in enumerate(tess_lightcurves):\n",
    "\n",
    "    # read in data\n",
    "    time, flux, fluxerr, airmass, airmasscorr = np.loadtxt(lc, unpack=True, delimiter=',')\n",
    "    prior = deepcopy(transit_priors)\n",
    "    prior['u0'] = u0\n",
    "    prior['u1'] = u1\n",
    "    prior['u2'] = u2\n",
    "    prior['u3'] = u3\n",
    "    prior['tmid'] = result.ephemeris['Tc']\n",
    "    prior['per'] = result.ephemeris['Period']\n",
    "    prior['a2'] = 0.0 # no airmass correction for TESS\n",
    "\n",
    "    # compute tmid closest to observations\n",
    "    tmid = prior['tmid']\n",
    "    per = prior['per']\n",
    "    obs_time = 0.5*(time.min() + time.max())\n",
    "    obs_tmid = tmid + per*np.round((obs_time - tmid)/per)\n",
    "\n",
    "    # only define bounds for the \"free\" parameters during fitting\n",
    "    mybounds = {\n",
    "        # [lower, upper]\n",
    "        'rprs':[0, prior['rprs']*2],\n",
    "        'tmid':[ obs_tmid-0.05,\n",
    "                 obs_tmid+0.05],\n",
    "        'inc':[ prior['inc']-5, min(90,prior['inc']+5)]\n",
    "    }\n",
    "\n",
    "    try:\n",
    "        myfit = lc_fitter(time, flux, fluxerr, airmass, prior, mybounds) \n",
    "    except:\n",
    "        print(f\"Failed to fit {obs.obscode['id']}\")\n",
    "        continue\n",
    "    \n",
    "    # add data to list\n",
    "    input_data.append({\n",
    "        'time':time,\n",
    "        'flux':flux,\n",
    "        'ferr':fluxerr,\n",
    "        'airmass':np.zeros(time.shape),\n",
    "        'priors':prior,\n",
    "        'name':f\"TESS\",\n",
    "\n",
    "        # save individual fit parameters\n",
    "        'parameters':myfit.parameters,\n",
    "        'errors':myfit.errors,\n",
    "        'res_std':myfit.res_stdev\n",
    "    })\n",
    "\n",
    "    # no airmass detrending\n",
    "    local_bounds.append({})\n",
    "\n",
    "    # print some timing info\n",
    "    mint = Time(input_data[-1]['time'].min(),format='jd').isot\n",
    "    maxt = Time(input_data[-1]['time'].max(),format='jd').isot\n",
    "    maxphase = (input_data[-1]['time'].max() - prior['tmid'])/prior['per']\n",
    "    minphase = (input_data[-1]['time'].min() - prior['tmid'])/prior['per']\n",
    "    print(f\"{input_data[-1]['name']} {len(input_data)} : {mint} ({minphase:.4f}) - {maxt} ({maxphase:.4f})\")"
   ]
  },
  {
   "cell_type": "code",
   "execution_count": null,
   "metadata": {},
   "outputs": [],
   "source": [
    "# bounds shared by all light curves\n",
    "global_bounds = {\n",
    "    'rprs':(prior['rprs']*0.75, prior['rprs']*1.33),\n",
    "    'inc':(prior['inc']-5, min(90,prior['inc']+5)),\n",
    "    'per':( result.ephemeris['Period']-0.001,\n",
    "            result.ephemeris['Period']+0.001),\n",
    "    'tmid':( result.ephemeris['Tc']-0.01,\n",
    "             result.ephemeris['Tc']+0.01),\n",
    "}\n",
    "\n",
    "global_fit = glc_fitter(input_data, global_bounds, local_bounds, individual_fit=False, verbose=True)"
   ]
  },
  {
   "cell_type": "code",
   "execution_count": null,
   "metadata": {},
   "outputs": [],
   "source": [
    "global_fit.plot_triangle()\n",
    "plt.savefig(os.path.join(output_dir,\"posteriors.png\"),facecolor='white')"
   ]
  },
  {
   "cell_type": "code",
   "execution_count": null,
   "metadata": {},
   "outputs": [],
   "source": [
    "global_fit.plot_bestfit(alpha=0.025, bin_dt = 15./60/24, title=f\"{target} Global Fit\",phase_limits='median', ylim_sigma=5)\n",
    "plt.savefig(os.path.join(output_dir,\"bestfit.png\"),facecolor='white')"
   ]
  },
  {
   "cell_type": "code",
   "execution_count": null,
   "metadata": {},
   "outputs": [],
   "source": [
    "global_fit.plot_bestfits()\n",
    "plt.savefig(os.path.join(output_dir,\"bestfits.png\"),facecolor='white')"
   ]
  },
  {
   "attachments": {},
   "cell_type": "markdown",
   "metadata": {},
   "source": [
    "## LaTeX Output for Global Fit"
   ]
  },
  {
   "cell_type": "code",
   "execution_count": null,
   "metadata": {},
   "outputs": [],
   "source": [
    "# create latex formatted table for global fit parameters\n",
    "for key in global_fit.errors:\n",
    "    print(f\"{key} & {global_fit.parameters[key]:.5f} $\\pm$ {global_fit.errors[key]:.7f} \\\\\\\\\")"
   ]
  },
  {
   "cell_type": "code",
   "execution_count": null,
   "metadata": {},
   "outputs": [],
   "source": [
    "# create column headers\n",
    "header = \"Name\"\n",
    "for key in input_data[0]['errors']:\n",
    "    # skip airmass parameters\n",
    "    if 'a1' in key or 'a2' in key:\n",
    "        continue\n",
    "    header += f\" & {key}\"\n",
    "header += \" & $\\sigma_{res}$\"\n",
    "header += \" \\\\\\\\\"\n",
    "print(header)\n",
    "\n",
    "# create latex formatted string\n",
    "for lcdata in input_data:\n",
    "    fstring = lcdata['name']\n",
    "    for key in lcdata['errors']:\n",
    "\n",
    "        # skip airmass parameters\n",
    "        if 'a1' in key or 'a2' in key:\n",
    "            continue\n",
    "\n",
    "        # add to string\n",
    "        fstring += f\" & {lcdata['parameters'][key]:.6f} $\\pm$ {lcdata['errors'][key]:.6f}\"\n",
    "\n",
    "    # add res_std\n",
    "    fstring += f\" & {lcdata['res_std']:.6f}\"\n",
    "    fstring += f\" \\\\\\\\\"\n",
    "    print(fstring)\n"
   ]
  },
  {
   "attachments": {},
   "cell_type": "markdown",
   "metadata": {},
   "source": [
    "## Mid-transit times and uncertainties from Nasa Exoplanet Archive"
   ]
  },
  {
   "cell_type": "code",
   "execution_count": null,
   "metadata": {},
   "outputs": [],
   "source": [
    "nea_tmids = []\n",
    "nea_tmids_err = []\n",
    "\n",
    "for i in range(len(result.ephemeris['nea_tmids'])):\n",
    "    clean_ref = result.ephemeris['nea_references'][i].replace('%20', ' ').replace('&amp;', '&')\n",
    "\n",
    "    # remove ExoFOP-TESS values since we're using TESS data itself, no need to double count\n",
    "    if 'ExoFOP-TESS' in clean_ref:\n",
    "        continue\n",
    "\n",
    "    nea_tmids.append(result.ephemeris['nea_tmids'][i])\n",
    "    nea_tmids_err.append(result.ephemeris['nea_tmids_err'][i])\n",
    "\n",
    "    print(f\"{float(result.ephemeris['nea_tmids'][i]):.6f} +- {float(result.ephemeris['nea_tmids_err'][i]):.6f} : {clean_ref}\")"
   ]
  },
  {
   "attachments": {},
   "cell_type": "markdown",
   "metadata": {},
   "source": [
    "## Fit an ephemeris to the mid-transit times\n",
    "\n",
    "T_next = T_0 + n * Period"
   ]
  },
  {
   "cell_type": "code",
   "execution_count": null,
   "metadata": {},
   "outputs": [],
   "source": [
    "from exotic.api.nested_linear_fitter import linear_fitter\n",
    "\n",
    "# min and max values to search between for fitting the ephemeris\n",
    "bounds = {\n",
    "    'm':[ # orbital period\n",
    "        global_fit.parameters['per']-10*global_fit.errors['per'], \n",
    "        global_fit.parameters['per']+10*global_fit.errors['per']\n",
    "    ], \n",
    "    'b':[ # mid-transit time\n",
    "        global_fit.parameters['tmid']-10*global_fit.errors['tmid'],\n",
    "        global_fit.parameters['tmid']+10*global_fit.errors['tmid']\n",
    "    ] \n",
    "}\n",
    "\n",
    "# used to plot red overlay in O-C figure\n",
    "prior = {\n",
    "    'm':[global_fit.parameters['per'], global_fit.errors['per']],   # value from global\n",
    "    'b':[global_fit.parameters['tmid'], global_fit.errors['tmid']]  # value from WLS\n",
    "}\n",
    "\n",
    "# extract data from individual light curves in global fit\n",
    "tmids = [lcfit['parameters']['tmid'] for lcfit in input_data]\n",
    "tmids_err = [lcfit['errors']['tmid'] for lcfit in input_data]\n",
    "rprs2 = [lcfit['parameters']['rprs']**2 for lcfit in input_data]\n",
    "rprs = [lcfit['parameters']['rprs'] for lcfit in input_data]\n",
    "rprs_err = [lcfit['errors']['rprs'] for lcfit in input_data]\n",
    "res_stdev = [lcfit['res_std'] for lcfit in input_data]\n",
    "name = [lcfit['name'] for lcfit in input_data]\n",
    "tmids_err = np.array(tmids_err)\n",
    "\n",
    "# filter bad data\n",
    "mask = (res_stdev < np.mean(rprs2)) & (np.mean(rprs) > 5 * np.mean(rprs_err)) & (tmids_err*24*60<5)\n",
    "# TODO 3sigma clip away from global ephemeris\n",
    "\n",
    "# apply mask\n",
    "tmids = np.array(tmids)[mask]\n",
    "tmids_err = np.array(tmids_err)[mask]\n",
    "\n",
    "# combine the good data from reprocessing of Exoplanet Watch and NASA Exoplanet Archive\n",
    "tmids = np.array(list(tmids) + nea_tmids, dtype=float)\n",
    "tmids_err = np.array(list(tmids_err) + nea_tmids_err, dtype=float)\n",
    "\n",
    "# fit the data and compare ephemeris to global light curve fit\n",
    "lf = linear_fitter( tmids, tmids_err, bounds, prior=prior )\n",
    "\n",
    "# plot the O-C diagram\n",
    "fig,ax = lf.plot_oc(prior_name='Global Fit')\n",
    "plt.tight_layout()\n",
    "plt.savefig(os.path.join(output_dir,\"oc_global.png\"),facecolor='white')\n",
    "plt.close()\n",
    "Image(os.path.join(output_dir,\"oc_global.png\"))"
   ]
  },
  {
   "attachments": {},
   "cell_type": "markdown",
   "metadata": {},
   "source": [
    "## Search for periodic signals in the O-C data"
   ]
  },
  {
   "cell_type": "code",
   "execution_count": null,
   "metadata": {},
   "outputs": [],
   "source": [
    "fig,ax = lf.plot_periodogram()\n",
    "plt.tight_layout()\n",
    "plt.savefig(os.path.join(output_dir,\"periodogram.png\"),facecolor='white')\n",
    "plt.close()\n",
    "Image(os.path.join(output_dir,\"periodogram.png\"))"
   ]
  }
 ],
 "metadata": {
  "kernelspec": {
   "display_name": "base",
   "language": "python",
   "name": "python3"
  },
  "language_info": {
   "codemirror_mode": {
    "name": "ipython",
    "version": 3
   },
   "file_extension": ".py",
   "mimetype": "text/x-python",
   "name": "python",
   "nbconvert_exporter": "python",
   "pygments_lexer": "ipython3",
   "version": "3.8.3"
  },
  "vscode": {
   "interpreter": {
    "hash": "9bea94c061466e98e3c4227ef91da81db5f711c134da0c4ba8a34c93e3b51d83"
   }
  }
 },
 "nbformat": 4,
 "nbformat_minor": 4
}
