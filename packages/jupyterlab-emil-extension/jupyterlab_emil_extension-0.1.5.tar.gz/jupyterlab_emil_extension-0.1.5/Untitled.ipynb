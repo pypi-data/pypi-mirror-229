{
 "cells": [
  {
   "cell_type": "markdown",
   "id": "16b7299e-de49-42ee-92e9-b470a6e902ac",
   "metadata": {},
   "source": [
    "The _assignment_ evaluates an expression and assigns the result to a variable. Suppose `x` is a variable and `E` an expressions: \n",
    "\n",
    "<div style=\"float:left;border-left:2em solid white\">\n",
    "\n",
    "```algorithm\n",
    "x := E\n",
    "```\n",
    "\n",
    "</div>\n",
    "<img style=\"float:left;border-left:6em solid white\" src=\"./img/Assignment.svg\"/>"
   ]
  }
 ],
 "metadata": {
  "kernelspec": {
   "display_name": "Python 3 (ipykernel)",
   "language": "python",
   "name": "python3"
  },
  "language_info": {
   "codemirror_mode": {
    "name": "ipython",
    "version": 3
   },
   "file_extension": ".py",
   "mimetype": "text/x-python",
   "name": "python",
   "nbconvert_exporter": "python",
   "pygments_lexer": "ipython3",
   "version": "3.11.0"
  }
 },
 "nbformat": 4,
 "nbformat_minor": 5
}
