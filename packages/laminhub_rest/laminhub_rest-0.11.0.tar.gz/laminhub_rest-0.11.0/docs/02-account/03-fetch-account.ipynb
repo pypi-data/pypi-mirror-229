{
 "cells": [
  {
   "cell_type": "markdown",
   "metadata": {},
   "source": [
    "# Test fetch account"
   ]
  },
  {
   "cell_type": "code",
   "execution_count": null,
   "metadata": {},
   "outputs": [],
   "source": [
    "from deepdiff import DeepDiff\n",
    "from laminhub_rest.connector import get_access_token\n",
    "from laminhub_rest.main import client\n",
    "from laminhub_rest.routers.account import (\n",
    "    get_account_by_handle,\n",
    "    get_account_by_id,\n",
    "    get_account_instances,\n",
    ")\n",
    "from laminhub_rest.connector import connect_hub\n",
    "from laminhub_rest.utils._test import (\n",
    "    create_test_auth,\n",
    "    create_test_account,\n",
    "    create_test_storage,\n",
    "    create_test_instance,\n",
    "    add_test_collaborator,\n",
    ")\n",
    "from laminhub_rest.core.account import delete_account\n",
    "from laminhub_rest.core.instance import delete_instance\n",
    "from laminhub_rest._clean_ci import clean_ci"
   ]
  },
  {
   "cell_type": "markdown",
   "metadata": {},
   "source": [
    "## Parameterize "
   ]
  },
  {
   "cell_type": "code",
   "execution_count": null,
   "metadata": {},
   "outputs": [],
   "source": [
    "hub = connect_hub()\n",
    "\n",
    "# Create account\n",
    "auth = create_test_auth()\n",
    "access_token = auth[\"access_token\"]\n",
    "account = create_test_account(handle=auth[\"handle\"], access_token=access_token)\n",
    "account_id = account[\"id\"]\n",
    "account_handle = account[\"handle\"]\n",
    "\n",
    "# Create storage\n",
    "storage = create_test_storage(access_token=access_token)\n",
    "\n",
    "# Create instance\n",
    "instance = create_test_instance(storage_id=storage[\"id\"], access_token=access_token)\n",
    "instance_id = instance[\"id\"]\n",
    "\n",
    "# Add account as an admin member\n",
    "instance_collaborator = add_test_collaborator(\n",
    "    instance_id=instance_id,\n",
    "    account_id=account_id,\n",
    "    role=\"admin\",\n",
    "    access_token=access_token,\n",
    ")"
   ]
  },
  {
   "cell_type": "markdown",
   "metadata": {},
   "source": [
    "## Fetch account by id"
   ]
  },
  {
   "cell_type": "markdown",
   "metadata": {},
   "source": [
    "### Call `get_account_by_id`"
   ]
  },
  {
   "cell_type": "code",
   "execution_count": null,
   "metadata": {},
   "outputs": [],
   "source": [
    "account = get_account_by_id(account_id)\n",
    "assert str(account) == str(account)"
   ]
  },
  {
   "cell_type": "markdown",
   "metadata": {},
   "source": [
    "### Get method on `/account/{id}` route"
   ]
  },
  {
   "cell_type": "code",
   "execution_count": null,
   "metadata": {},
   "outputs": [],
   "source": [
    "response = client.get(f\"/account/{account_id}\")\n",
    "assert str(response.json()) == str(account)"
   ]
  },
  {
   "cell_type": "markdown",
   "metadata": {
    "tags": []
   },
   "source": [
    "## Fetch account by handle"
   ]
  },
  {
   "cell_type": "markdown",
   "metadata": {},
   "source": [
    "### Call `get_account_by_handle`"
   ]
  },
  {
   "cell_type": "code",
   "execution_count": null,
   "metadata": {},
   "outputs": [],
   "source": [
    "account = get_account_by_handle(account_handle)\n",
    "assert str(account) == str(account)"
   ]
  },
  {
   "cell_type": "markdown",
   "metadata": {},
   "source": [
    "### Get method on `/account/{handle}` route"
   ]
  },
  {
   "cell_type": "code",
   "execution_count": null,
   "metadata": {},
   "outputs": [],
   "source": [
    "response = client.get(f\"/account/handle/{account_handle}\")\n",
    "assert str(response.json()) == str(account)"
   ]
  },
  {
   "cell_type": "markdown",
   "metadata": {},
   "source": [
    "## Fetch account's instances"
   ]
  },
  {
   "cell_type": "code",
   "execution_count": null,
   "metadata": {},
   "outputs": [],
   "source": [
    "account_instances_expected = [\n",
    "    {\n",
    "        **instance,\n",
    "        \"storage\": {\"root\": storage[\"root\"]},\n",
    "        \"account\": {\"handle\": account_handle, \"id\": account_id},\n",
    "    }\n",
    "]"
   ]
  },
  {
   "cell_type": "markdown",
   "metadata": {},
   "source": [
    "### Call `get_account_instances`"
   ]
  },
  {
   "cell_type": "code",
   "execution_count": null,
   "metadata": {},
   "outputs": [],
   "source": [
    "instances = get_account_instances(account_handle, False, f\"Bearer {access_token}\")\n",
    "assert DeepDiff(instances, account_instances_expected, ignore_order=True) == {}"
   ]
  },
  {
   "cell_type": "markdown",
   "metadata": {},
   "source": [
    "### Get method on `/account/{id}` route"
   ]
  },
  {
   "cell_type": "code",
   "execution_count": null,
   "metadata": {},
   "outputs": [],
   "source": [
    "response = client.get(\n",
    "    f\"/account/resources/instances/{account_handle}\",\n",
    "    headers={\"authentication\": f\"Bearer {access_token}\"},\n",
    ")\n",
    "assert str(response.json()) == str(account_instances_expected)"
   ]
  },
  {
   "cell_type": "markdown",
   "metadata": {},
   "source": [
    "## Clean up"
   ]
  },
  {
   "cell_type": "code",
   "execution_count": null,
   "metadata": {},
   "outputs": [],
   "source": [
    "delete_account(account_handle, access_token)\n",
    "delete_instance(owner=account_handle, name=instance[\"name\"], _access_token=access_token)"
   ]
  },
  {
   "cell_type": "code",
   "execution_count": null,
   "metadata": {},
   "outputs": [],
   "source": [
    "clean_ci()"
   ]
  }
 ],
 "metadata": {
  "kernelspec": {
   "display_name": "Python 3 (ipykernel)",
   "language": "python",
   "name": "python3"
  },
  "language_info": {
   "codemirror_mode": {
    "name": "ipython",
    "version": 3
   },
   "file_extension": ".py",
   "mimetype": "text/x-python",
   "name": "python",
   "nbconvert_exporter": "python",
   "pygments_lexer": "ipython3",
   "version": "3.9.12"
  },
  "vscode": {
   "interpreter": {
    "hash": "2841734f87827db3a7b3181a6051fe720e9968e703956c2bd6988b5a29362801"
   }
  }
 },
 "nbformat": 4,
 "nbformat_minor": 4
}
