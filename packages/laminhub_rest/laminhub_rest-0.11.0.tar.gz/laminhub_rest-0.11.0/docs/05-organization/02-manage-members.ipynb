{
 "cells": [
  {
   "cell_type": "markdown",
   "metadata": {},
   "source": [
    "# Test management of organization members"
   ]
  },
  {
   "cell_type": "code",
   "execution_count": null,
   "metadata": {},
   "outputs": [],
   "source": [
    "import sqlmodel as sqm\n",
    "\n",
    "# Test assets\n",
    "from laminhub_rest.core.account import create_organization_account\n",
    "from laminhub_rest.routers.account import get_account_organizations\n",
    "\n",
    "# Test utils\n",
    "from laminhub_rest.utils._test import create_test_auth, create_test_account\n",
    "from laminhub_rest.connector import connect_hub_with_auth\n",
    "from laminhub_rest.main import client\n",
    "from laminhub_rest._clean_ci import clean_ci\n",
    "from laminhub_rest.utils._id import base62"
   ]
  },
  {
   "cell_type": "markdown",
   "metadata": {},
   "source": [
    "# Parametrize"
   ]
  },
  {
   "cell_type": "code",
   "execution_count": null,
   "metadata": {},
   "outputs": [],
   "source": [
    "# Create account 1\n",
    "auth_1 = create_test_auth()\n",
    "access_token_1 = auth_1[\"access_token\"]\n",
    "account_1 = create_test_account(handle=auth_1[\"handle\"], access_token=access_token_1)\n",
    "\n",
    "# Create account 2\n",
    "auth_2 = create_test_auth()\n",
    "access_token_2 = auth_2[\"access_token\"]\n",
    "account_2 = create_test_account(handle=auth_2[\"handle\"], access_token=access_token_2)\n",
    "\n",
    "# Create organization account\n",
    "org_handle_1 = f\"lamin.ci.org.{base62(8)}\"\n",
    "organization = create_organization_account(\n",
    "    handle=org_handle_1, _access_token=access_token_1\n",
    ")\n",
    "hub = connect_hub_with_auth(access_token=access_token_1)\n",
    "organization_id = (\n",
    "    hub.table(\"account\").select(\"id\").eq(\"handle\", org_handle_1).execute().data[0][\"id\"]\n",
    ")"
   ]
  },
  {
   "cell_type": "markdown",
   "metadata": {},
   "source": [
    "## Test fetching of account's organizations"
   ]
  },
  {
   "cell_type": "code",
   "execution_count": null,
   "metadata": {},
   "outputs": [],
   "source": [
    "organizations = client.get(\n",
    "    f\"/account/resources/organizations/{account_1['handle']}\",\n",
    "    headers={\"authentication\": f\"Bearer {access_token_1}\"},\n",
    ").json()"
   ]
  },
  {
   "cell_type": "code",
   "execution_count": null,
   "metadata": {},
   "outputs": [],
   "source": [
    "assert len(organizations) == 1\n",
    "assert organizations[0][\"account\"][\"handle\"] == org_handle_1"
   ]
  },
  {
   "cell_type": "markdown",
   "metadata": {
    "tags": []
   },
   "source": [
    "## Test addition of a member "
   ]
  },
  {
   "cell_type": "code",
   "execution_count": null,
   "metadata": {},
   "outputs": [],
   "source": [
    "response = client.post(\n",
    "    f\"/organization/resources/members/{organization_id}/?user_id={account_2['id']}\",\n",
    "    headers={\"authentication\": f\"Bearer {access_token_1}\"},\n",
    ").json()\n",
    "\n",
    "assert response == \"success\""
   ]
  },
  {
   "cell_type": "markdown",
   "metadata": {},
   "source": [
    "## Test update of a member "
   ]
  },
  {
   "cell_type": "code",
   "execution_count": null,
   "metadata": {},
   "outputs": [],
   "source": [
    "response = client.put(\n",
    "    f\"organization/resources/members/{organization_id}/?user_id={account_2['id']}&role=owner\",\n",
    "    headers={\"authentication\": f\"Bearer {access_token_1}\"},\n",
    ").json()\n",
    "\n",
    "assert response == \"success\""
   ]
  },
  {
   "cell_type": "markdown",
   "metadata": {},
   "source": [
    "## Test removal of a member"
   ]
  },
  {
   "cell_type": "code",
   "execution_count": null,
   "metadata": {},
   "outputs": [],
   "source": [
    "response = client.delete(\n",
    "    f\"organization/resources/members/{organization_id}/?user_id={account_2['id']}\",\n",
    "    headers={\"authentication\": f\"Bearer {access_token_1}\"},\n",
    ").json()\n",
    "\n",
    "assert response == \"success\""
   ]
  },
  {
   "cell_type": "markdown",
   "metadata": {},
   "source": [
    "## Clean up test assets"
   ]
  },
  {
   "cell_type": "code",
   "execution_count": null,
   "metadata": {},
   "outputs": [],
   "source": [
    "clean_ci()"
   ]
  }
 ],
 "metadata": {
  "kernelspec": {
   "display_name": "Python 3 (ipykernel)",
   "language": "python",
   "name": "python3"
  },
  "language_info": {
   "codemirror_mode": {
    "name": "ipython",
    "version": 3
   },
   "file_extension": ".py",
   "mimetype": "text/x-python",
   "name": "python",
   "nbconvert_exporter": "python",
   "pygments_lexer": "ipython3",
   "version": "3.9.12"
  }
 },
 "nbformat": 4,
 "nbformat_minor": 4
}
