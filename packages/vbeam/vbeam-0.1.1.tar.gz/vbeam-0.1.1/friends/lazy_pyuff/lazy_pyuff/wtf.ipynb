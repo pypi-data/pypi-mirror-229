{
 "cells": [
  {
   "cell_type": "code",
   "execution_count": 1,
   "metadata": {},
   "outputs": [
    {
     "ename": "",
     "evalue": "",
     "output_type": "error",
     "traceback": [
      "\u001b[1;31mCanceled future for execute_request message before replies were done"
     ]
    },
    {
     "ename": "",
     "evalue": "",
     "output_type": "error",
     "traceback": [
      "\u001b[1;31mThe Kernel crashed while executing code in the the current cell or a previous cell. Please review the code in the cell(s) to identify a possible cause of the failure. Click <a href='https://aka.ms/vscodeJupyterKernelCrash'>here</a> for more info. View Jupyter <a href='command:jupyter.viewOutput'>log</a> for further details."
     ]
    }
   ],
   "source": [
    "from dataclasses import dataclass\n",
    "import numpy as np\n",
    "import jax.numpy as jnp\n",
    "\n",
    "\n",
    "def read(indices):\n",
    "    print(indices)\n",
    "    return np.arange(100)[indices]\n",
    "\n",
    "\n",
    "\n",
    "\n",
    "@dataclass\n",
    "class LazyArray:\n",
    "    data = np.array([0, 1, 2])\n",
    "\n",
    "    def __array__(self):\n",
    "        return self.data\n",
    "\n",
    "    def __jax_array__(self):\n",
    "        return self.data\n",
    "\n",
    "    @property\n",
    "    def dtype(self):\n",
    "        return self.data.dtype\n",
    "\n",
    "\n",
    "\n",
    "\n",
    "larr = LazyArray()\n",
    "a = (jnp.sum(np.arange(10)))"
   ]
  }
 ],
 "metadata": {
  "kernelspec": {
   "display_name": "vbeam_main",
   "language": "python",
   "name": "python3"
  },
  "language_info": {
   "codemirror_mode": {
    "name": "ipython",
    "version": 3
   },
   "file_extension": ".py",
   "mimetype": "text/x-python",
   "name": "python",
   "nbconvert_exporter": "python",
   "pygments_lexer": "ipython3",
   "version": "3.8.16"
  },
  "orig_nbformat": 4
 },
 "nbformat": 4,
 "nbformat_minor": 2
}
