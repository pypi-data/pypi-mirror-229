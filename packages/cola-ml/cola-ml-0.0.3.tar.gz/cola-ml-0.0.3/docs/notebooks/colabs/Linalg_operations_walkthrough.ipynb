{
 "cells": [
  {
   "attachments": {},
   "cell_type": "markdown",
   "metadata": {},
   "source": [
    "First install the repo and requirements."
   ]
  },
  {
   "cell_type": "code",
   "execution_count": null,
   "metadata": {},
   "outputs": [],
   "source": [
    "%pip --quiet install git+https://github.com/wilson-labs/cola.git"
   ]
  },
  {
   "cell_type": "markdown",
   "id": "e3653c03",
   "metadata": {},
   "source": [
    "# Walkthrough of Linear Algebra Functionality\n",
    "\n",
    "With this section we will explore how to use various linear algebra operations with an emphasis on the dense and iterative base cases, rather than the dispatch rules. For high level operations like `solve`, `sqrt`, `logdet`, `eigs`, `exp`, `trace` the specific functions we call are listed in  [high-level API](https://cola.readthedocs.io/en/latest/package/cola.linalg.html), and low level iterative functions that help implement these operations such as `cg`, `gmres`, `lanczos`, `approx_diag`, `stochastic_lanczos_quadrature` are listed in [algorithms](https://cola.readthedocs.io/en/latest/package/cola.algorithms.html). These low level algorithms can also be called explicitly, but they will not be able to leverage our dispatch rules, and they sometimes require more involvement and knowledge from the user."
   ]
  },
  {
   "cell_type": "markdown",
   "id": "ba92933a",
   "metadata": {},
   "source": [
    "First let's set up some Linear operators to test these operations on. As we want to focus on the base cases, we will use a simple low rank + diagonal linear operator. We will use $A=UU^T+D$ as a prototype for a PSD matrix, $B=UV^T+D$ as a prototype for a generic square matrix, and $C=V^TD$ as a prototype for a generic rectangular matrix."
   ]
  },
  {
   "cell_type": "code",
   "execution_count": 1,
   "id": "7c8b6d0c",
   "metadata": {},
   "outputs": [],
   "source": [
    "import torch\n",
    "import numpy as np\n",
    "import cola\n",
    "\n",
    "N=2000\n",
    "U = cola.lazify(torch.randn(N,5))\n",
    "V = cola.lazify(torch.randn(N,5))\n",
    "D = cola.diag(torch.linspace(1,100,N))\n",
    "\n",
    "A = U@U.T + D # a PSD matrix\n",
    "B = U@V.T + D # a generic square matrix\n",
    "C = V.T@D # a generic rectangular matrix\n",
    "\n",
    "x = torch.ones(N) # test vector x"
   ]
  },
  {
   "cell_type": "markdown",
   "id": "7a11fe84",
   "metadata": {},
   "source": [
    "Sometimes CoLA is able to infer additional properties of a Linear Operator such as `PSD`, `SelfAdjoint`, or `Unitary` but not always, so it's best to annotate these properties explicitly.\n",
    "\n",
    "In order to let CoLA know that `A` is PSD, we will annotate it with the PSD annotation:"
   ]
  },
  {
   "cell_type": "code",
   "execution_count": 2,
   "id": "84598766",
   "metadata": {},
   "outputs": [
    {
     "name": "stdout",
     "output_type": "stream",
     "text": [
      "Properties before annotating: set()\n",
      "Properties after annotating: {PSD}\n"
     ]
    }
   ],
   "source": [
    "print(\"Properties before annotating:\", A.annotations)\n",
    "A = cola.PSD(A)\n",
    "print(\"Properties after annotating:\", A.annotations)"
   ]
  },
  {
   "cell_type": "markdown",
   "id": "73e64ecc",
   "metadata": {},
   "source": [
    "Let's plot the spectrum of $A$ to get a sense for the kind of object that we are dealing with."
   ]
  },
  {
   "cell_type": "code",
   "execution_count": 3,
   "id": "593b0a80",
   "metadata": {},
   "outputs": [
    {
     "data": {
      "text/plain": [
       "Text(0.5, 0, 'index')"
      ]
     },
     "execution_count": 3,
     "metadata": {},
     "output_type": "execute_result"
    },
    {
     "data": {
      "image/png": "[encoded data removed]",
      "text/plain": [
       "<Figure size 640x480 with 1 Axes>"
      ]
     },
     "metadata": {},
     "output_type": "display_data"
    }
   ],
   "source": [
    "import matplotlib.pyplot as plt\n",
    "plt.plot(torch.linalg.eigh(A.to_dense())[0])\n",
    "plt.yscale('log')\n",
    "plt.ylabel(\"eigenvalues\")\n",
    "plt.xlabel(\"index\")"
   ]
  },
  {
   "cell_type": "markdown",
   "id": "5fb7090a",
   "metadata": {},
   "source": [
    "## Inverses / Linear Solves\n",
    "\n",
    "For solving a linear system $Ax=b$, we may consider two cases where $A$ is a Positive-SemiDefinite symmetric matrix (PSD), and when it is not."
   ]
  },
  {
   "cell_type": "markdown",
   "id": "6e3b54b3",
   "metadata": {},
   "source": [
    "`cola.linalg.inverse(A)` represents the linear operator $A^{-1}$ that, when applied to a vector $b$, it solves the linear system $A x = b$ and then outputs $x$.\n",
    "It does not, however, compute the inverse densely $A^{-1}$ and then multiply it by the vector $b$, and is exactly equivalent to calling `cola.linalg.solve` as shown below.\n"
   ]
  },
  {
   "cell_type": "markdown",
   "id": "a24de36f",
   "metadata": {},
   "source": [
    "### PSD"
   ]
  },
  {
   "cell_type": "code",
   "execution_count": 4,
   "id": "06d1e7ea",
   "metadata": {},
   "outputs": [],
   "source": [
    "# these two are exactly equivalent in CoLA\n",
    "y = cola.linalg.solve(A,x)\n",
    "y = cola.linalg.inverse(A)@x"
   ]
  },
  {
   "cell_type": "markdown",
   "id": "4fc78f9f",
   "metadata": {},
   "source": [
    "However with `cola.linalg.inverse` we can examine the properties of the solve like the number of iterations it as taken to converge. Instead using the default `method=auto`, let's explicitly pick `method=dense` to use a dense $O(n^3)$ method or `method=iterative` to use an iterative $O(\\tau \\sqrt{\\kappa}\\log 1/\\epsilon)$ where $\\tau$ is the time for an MVM with $A$, $\\kappa$ is the condition number of $A$ and $\\epsilon$ is the desired error tolerance."
   ]
  },
  {
   "cell_type": "code",
   "execution_count": 5,
   "id": "315e5efb",
   "metadata": {},
   "outputs": [
    {
     "name": "stdout",
     "output_type": "stream",
     "text": [
      "With dense: Ainv of type <class 'cola.ops.operators.Product[cola.linalg.inverse.TriangularInverse[cola.ops.operators.Triangular], cola.linalg.inverse.TriangularInverse[cola.ops.operators.Triangular]]'>\n",
      "With iterative: Ainv of type <class 'cola.linalg.inverse.CGInverse'>\n",
      "Computed inverse in 124 iters with error 9.8e-07\n"
     ]
    }
   ],
   "source": [
    "for method in ['dense','iterative']:\n",
    "    Ainv = cola.linalg.inverse(A, method=method)\n",
    "    y = Ainv@x\n",
    "    print(f\"With {method}: Ainv of type {type(Ainv)}\")\n",
    "    if method == 'iterative':\n",
    "        print(f\"Computed inverse in {Ainv.info['iterations']} iters with error {Ainv.info['errors'][-1]:.1e}\")"
   ]
  },
  {
   "cell_type": "markdown",
   "id": "f31ce201",
   "metadata": {},
   "source": [
    "In the dense case the `inverse` LinearOperator is computed via Cholesky decomposition\n",
    "$A = LL^T$, and then using $A^{-1} = L^{-T}L^{-1}$ where $L^{-1}$ simply means a Linear Operator that performs triangular solves with $L$. We can see this reflected in the type of `Ainv`.\n",
    "\n",
    "Meanwhile `iterative` uses Conjugate Gradients to perform multiplies with $A^{-1}$. With the iterative methods one often may want to specify an error tolerance or a maximum number of iterations to limit the computation."
   ]
  },
  {
   "cell_type": "code",
   "execution_count": 6,
   "id": "6915e1f9",
   "metadata": {},
   "outputs": [
    {
     "name": "stdout",
     "output_type": "stream",
     "text": [
      "Computed inverse in 65 iters with error 8.1e-04\n"
     ]
    }
   ],
   "source": [
    "Ainv = cola.linalg.inverse(A, method='iterative', tol=1e-3, max_iters=100)\n",
    "y = Ainv@x\n",
    "print(f\"Computed inverse in {Ainv.info['iterations']} iters with error {Ainv.info['errors'][-1]:.1e}\")"
   ]
  },
  {
   "cell_type": "markdown",
   "id": "4c9eeaeb",
   "metadata": {},
   "source": [
    "With this higher error tolerance, CG can converge in many fewer iterations, and in general one should choose error tolerances as high as are acceptable."
   ]
  },
  {
   "cell_type": "markdown",
   "id": "a8b01e7e",
   "metadata": {},
   "source": [
    "### Non PSD\n",
    "\n",
    "Let's call the same functions but with the non PSD operator $B$."
   ]
  },
  {
   "cell_type": "code",
   "execution_count": 7,
   "id": "75a10f1a",
   "metadata": {},
   "outputs": [
    {
     "name": "stdout",
     "output_type": "stream",
     "text": [
      "With dense: Ainv of type <class 'cola.ops.operators.Product[cola.linalg.inverse.TriangularInverse[cola.ops.operators.Triangular], cola.linalg.inverse.TriangularInverse[cola.ops.operators.Triangular], cola.ops.operators.Permutation]'>\n",
      "With iterative: Ainv of type <class 'cola.linalg.inverse.GMResInverse'>\n",
      "Computed inverse in 101 iters with error 2.6e+01\n",
      "Actual residual error: tensor(0.0036)\n"
     ]
    }
   ],
   "source": [
    "for method in ['dense','iterative']:\n",
    "    Binv = cola.linalg.inverse(B, method=method, tol=1e-3, max_iters=100)\n",
    "    y = Binv@x\n",
    "    print(f\"With {method}: Ainv of type {type(Binv)}\")\n",
    "    if method == 'iterative':\n",
    "        print(f\"Computed inverse in {Binv.info['iterations']} iters with error {Binv.info['errors'][-1]:.1e}\")\n",
    "\n",
    "print(\"Actual residual error:\", torch.linalg.norm(B@y-x)/torch.linalg.norm(x))"
   ]
  },
  {
   "cell_type": "markdown",
   "id": "df0fbbc9",
   "metadata": {},
   "source": [
    "We can observe a few things here.\n",
    "In the dense case, CoLA performs a PLU decomposition $B=P^{-1}LU$ and then computes the inverse as $U^{-1}L^{-1}P$ again using the implicit triangular solves, but this time combined with a permutation inverse.\n",
    "\n",
    "In the iterative case, CoLA uses GMRES. Notably GMRES uses Arnoldi as a component of the algorithm, and the convergence criteria for Arnoldi depends on more than just residual errors that we care about for the linear solve. As a result of this more stringent convergence criteria, GMRES hits max_iters before stopping from the Arnoldi convergence tolerance, and the errors can be more easily controlled via changing max_iters.\n",
    "\n",
    "In general CG has much more favorable properties over GMRES since with GMRES the memory requirement will grow with the number of iterations as will the compute, and hence if a matrix is PSD annotating it as such is highly preferable."
   ]
  },
  {
   "cell_type": "markdown",
   "id": "20238079",
   "metadata": {},
   "source": [
    "## Matrix Functions: $A^{1/2}$, $\\exp(A)$, $\\log(A)$, $f(A)$\n",
    "\n",
    "Broadly we can consider many functions linear algebra operations $A^{1/2}$, $\\exp(A)$, $\\log(A)$\n",
    "as instances of $f(A)$ where $f$ is assumed to have a convergent Taylor expansion within the bounds of the spectrum of $A$.\n",
    "\n",
    "For 'method = dense', we compute these functions performing an eigendecomposition $A=P\\Lambda P^{-1}$ and evaluate $f(A)=P f(\\Lambda) P^{-1}$, and this runs in time $O(n^3)$.\n",
    "\n",
    "For 'method = iterative', we evaluate matrix vector products $f(A)v$ using the Lanczos and Arnoldi processes starting with the vector $v$. Running in time $O(\\tau \\sqrt{\\kappa}\\log 1/\\epsilon+m^3+mn)$ where $m$ is `max_iters`, this approach gives $\\epsilon$ accurate evaluation of $f(A)v$. (With some extra effort the $m^3$ term can be reduced to $m^2$ but we have not yet implemented this optimization.)\n",
    "\n",
    "For different $v$ the process will be run again, as Lanczos needs $v$ to construct a low error approximation."
   ]
  },
  {
   "cell_type": "markdown",
   "id": "c09ba79e",
   "metadata": {},
   "source": [
    "### SelfAdjoint\n",
    "\n",
    "Whether CoLA uses the more efficient Lanczos process or more costly version using Arnoldi depends on whether or not the matrix is `SelfAdjoint` (which gauruntees an orthogonal eigenbasis). `SelfAdjoint` is considered a superset of `PSD`."
   ]
  },
  {
   "cell_type": "code",
   "execution_count": 8,
   "id": "46ccdc43",
   "metadata": {},
   "outputs": [
    {
     "name": "stdout",
     "output_type": "stream",
     "text": [
      "{PSD}\n",
      "PSD: True, SelfAdjoint: True\n"
     ]
    }
   ],
   "source": [
    "print(A.annotations)\n",
    "print(f\"PSD: {A.isa(cola.PSD)}, SelfAdjoint: {A.isa(cola.SelfAdjoint)}\")"
   ]
  },
  {
   "cell_type": "code",
   "execution_count": 9,
   "id": "1585c823",
   "metadata": {},
   "outputs": [
    {
     "name": "stderr",
     "output_type": "stream",
     "text": [
      "/home/marc_f/anaconda3/envs/cola/lib/python3.10/site-packages/beartype/_util/hint/pep/utilpeptest.py:311: BeartypeDecorHintPep585DeprecationWarning: PEP 484 type hint typing.Callable deprecated by PEP 585. This hint is scheduled for removal in the first Python version released after October 5th, 2025. To resolve this, import this hint from \"beartype.typing\" rather than \"typing\". For further commentary and alternatives, see also:\n",
      "    https://beartype.readthedocs.io/en/latest/api_roar/#pep-585-deprecations\n",
      "  warn(\n"
     ]
    },
    {
     "name": "stdout",
     "output_type": "stream",
     "text": [
      "S with method=dense is of type <class 'cola.ops.operators.Product[cola.ops.operators.Dense, cola.ops.operators.Diagonal, cola.ops.operators.Dense]'>\n",
      "error in sqrt: tensor(3.9206e-06)\n",
      "S with method=iterative is of type <class 'cola.linalg.unary.LanczosUnary[cola.ops.operators.Sum[cola.ops.operators.Product[cola.ops.operators.Dense, cola.ops.operators.Dense], cola.ops.operators.Diagonal], function]'>\n",
      "error in sqrt: tensor(9.5911e-06)\n"
     ]
    }
   ],
   "source": [
    "for method in ['dense', 'iterative']:\n",
    "    S = cola.linalg.sqrt(A,tol=1e-4, max_iters=100, method=method)\n",
    "    print(f\"S with method={method} is of type {type(S)}\")\n",
    "    print(\"error in sqrt:\", torch.linalg.norm(S@(S@x)-A@x)/torch.linalg.norm(A@x))"
   ]
  },
  {
   "cell_type": "markdown",
   "id": "20e4dff0",
   "metadata": {},
   "source": [
    "Likewise we can use `exp`, `log`, `pow`, and `apply_fn`"
   ]
  },
  {
   "cell_type": "code",
   "execution_count": 10,
   "id": "b5a45788",
   "metadata": {},
   "outputs": [
    {
     "name": "stdout",
     "output_type": "stream",
     "text": [
      "tensor([[0.3617, 0.0056],\n",
      "        [0.0056, 0.3254]])\n",
      "tensor([[ 0.0233, -0.0214],\n",
      "        [-0.0214,  0.1473]])\n",
      "tensor([[9.7162e+29, 1.9679e+29],\n",
      "        [1.9678e+29, 5.2647e+30]])\n",
      "tensor([[108.2531,  12.0064],\n",
      "        [ 12.0057,  11.5069]])\n"
     ]
    }
   ],
   "source": [
    "expA = cola.linalg.exp(-A)\n",
    "logA = cola.linalg.log(A)\n",
    "Apow10 = cola.linalg.pow(A,10)\n",
    "resolvent = cola.linalg.apply_unary(lambda x: 1/(x-1), A)\n",
    "[print(op[:2,:2].to_dense()) for op in [expA, logA, Apow10, resolvent]];"
   ]
  },
  {
   "cell_type": "markdown",
   "id": "7f898bd5",
   "metadata": {},
   "source": [
    "### Non SelfAdjoint\n",
    "For non self adjoint matrices the situation is the same, but it will use Arnoldi iterations. However, some of the operations like `log` and `sqrt` require that eigenvalues are $>0$ and may return Nan, Inf, or complex values depending on the inputs."
   ]
  },
  {
   "cell_type": "code",
   "execution_count": 11,
   "id": "31efd212",
   "metadata": {},
   "outputs": [
    {
     "name": "stdout",
     "output_type": "stream",
     "text": [
      "tensor([[1.1180-0.0899j, 0.2494-0.0177j],\n",
      "        [0.0124+0.6350j, 0.7952+0.1252j]])\n",
      "tensor([[-2.6268e+20-4.5575e+13j, -5.1786e+19+2.3094e+14j],\n",
      "        [ 1.8561e+21+3.2204e+14j,  3.6592e+20-1.6318e+15j]])\n",
      "tensor([[ 1.8573e+19-1.3661e+14j, -3.6654e+19-4.4466e+14j],\n",
      "        [-8.0537e+19+6.4418e+14j,  1.6088e+20+2.0115e+15j]])\n"
     ]
    }
   ],
   "source": [
    "ops = [cola.linalg.sqrt(B), cola.linalg.exp(-B), cola.linalg.pow(B,10)]\n",
    "[print(op[:2,:2].to_dense()) for op in ops];"
   ]
  },
  {
   "cell_type": "markdown",
   "id": "f28547c9",
   "metadata": {},
   "source": [
    "## Trace and Diagonal estimation\n",
    "\n",
    "Unlike for Dense matrices, evaluating the trace or diagonal of a LinearOperators can be difficult (consider for example the diagonal of the Hessian of a neural network). Depending on the needs for the problem at hand we provide multiple different solutions:\n",
    "- an exact $O(n\\tau)$ compute and $O(\\tau)$ memory evaluation which loops over the basis elements $A_{ii} = e_i^TAe_i$\n",
    "- an stochastic Hutchinson estimator which is unbiased (always), but has runtime $O(1/\\delta^2)$ where $\\delta$ is the desired tolerance for the standard deviation of the estimate.\n",
    "\n",
    "These can be chosen directly by specifying `method=exact`, `method=approx` or by letting the algorithm decide which will be faster based on the specified tolerance for the standard deviation `tol`. In general for methods which only need stochastic estimates (such as to be used in SGD) or only need one or two digits of precision, then the stochastic estimator will be faster.\n",
    "\n",
    "We can use either of these two methods for\n",
    "- computing the trace\n",
    "- computing the diagonal\n",
    "- computing off-diagonal diagonals"
   ]
  },
  {
   "cell_type": "code",
   "execution_count": 12,
   "id": "8fe9971a",
   "metadata": {},
   "outputs": [
    {
     "name": "stdout",
     "output_type": "stream",
     "text": [
      "exact trace: 111090.21875, stochastic trace: 111105.71875\n"
     ]
    }
   ],
   "source": [
    "exact = cola.linalg.trace(A)\n",
    "approx = cola.linalg.trace(A, method='approx', tol=3e-2)\n",
    "print(f\"exact trace: {exact}, stochastic trace: {approx}\")"
   ]
  },
  {
   "cell_type": "code",
   "execution_count": 14,
   "id": "62404046",
   "metadata": {},
   "outputs": [
    {
     "name": "stdout",
     "output_type": "stream",
     "text": [
      "diagonal: tensor([  2.4264,   7.7547,  14.3449,  ..., 102.2546, 104.1162, 107.7397])\n",
      "off-diagonal: tensor([-1.1926,  1.1491, -0.8011,  ...,  1.1119,  2.6733,  2.2818])\n"
     ]
    }
   ],
   "source": [
    "diag = cola.linalg.diag(A)\n",
    "off_diag = cola.linalg.diag(A,k=1)\n",
    "print(f\"diagonal: {diag}\")\n",
    "print(f\"off-diagonal: {off_diag}\")"
   ]
  },
  {
   "cell_type": "markdown",
   "id": "d321cde0",
   "metadata": {},
   "source": [
    "## log determinants\n",
    "\n",
    "In the dense case, we compute log determinants from the Cholesky or LU decompositions depending on whether the matrix is PSD or not, and this runs in time $O(n^3)$.\n",
    "\n",
    "For the iterative case we compute log determinants using the formula $\\log\\mathrm{det}(A) = \\mathrm{Tr}(\\log(A))$ combining together the $\\log$ and $\\mathrm{Tr}$ functions discussed above.\n",
    "\n",
    "In the special case where only unbiased estimates (or a small number of significant digits) are required for the given use case, we can leverage [stochastic lanczos quadrature](https://www-users.cse.umn.edu/~saad/PDF/ys-2016-04.pdf) to get an improved convergence rate.\n",
    "\n",
    "This choice is exposed to the user through the `method=iterative-stochastic` vs `method=iterative-exact` options in `logdet` and `slogdet`. If not chosen then they will be chosen automatically based on the selected `vtol` which chooses the \"variance\" tolerance specifying the standard deviation of the estimate.\n",
    "\n",
    "For stochastic estimation, a key (`long` for pytorch, `PRNGKey` for jax) should be provided to explicitly to seed the randomness."
   ]
  },
  {
   "cell_type": "code",
   "execution_count": 15,
   "id": "8fb806d3",
   "metadata": {},
   "outputs": [
    {
     "name": "stdout",
     "output_type": "stream",
     "text": [
      "Tr(log(A)) tensor(7322.7070)\n",
      "SLQ: tensor(7325.1143)\n",
      "Dense: tensor(7324.9873)\n"
     ]
    }
   ],
   "source": [
    "print(\"Tr(log(A))\",cola.linalg.logdet(A, method='iterative', vtol=1e-1,tol=1e-4, max_iters=30, key=42))\n",
    "print(\"SLQ:\", cola.linalg.logdet(A, method='iterative', tol=1e-3,max_iters=10))\n",
    "print(\"Dense:\", cola.linalg.logdet(A, method='dense'))"
   ]
  },
  {
   "cell_type": "markdown",
   "id": "b8943ea7",
   "metadata": {},
   "source": [
    "And we can do this for non PSD matrices too using $\\log \\mathrm{det}(A) = \\frac{1}{2}\\log \\mathrm{det}(A^TA)$, however the phase (sign) is lost in this process."
   ]
  },
  {
   "cell_type": "code",
   "execution_count": 16,
   "id": "792da278",
   "metadata": {},
   "outputs": [
    {
     "name": "stdout",
     "output_type": "stream",
     "text": [
      "iterative: (ValueError('Unknown phase'), tensor(7329.5977))\n",
      "Dense: (tensor(-1.), tensor(7309.1890))\n"
     ]
    }
   ],
   "source": [
    "print(\"iterative:\", cola.linalg.slogdet(B, method='iterative', tol=1e-3,max_iters=10))\n",
    "print(\"Dense:\", cola.linalg.slogdet(B, method='dense'))"
   ]
  },
  {
   "cell_type": "markdown",
   "id": "22384e5a",
   "metadata": {},
   "source": [
    "## 🚧 Eigendecomposition 🚧\n",
    "\n",
    "Another popular linear algebra operation is to find an approximation for the eigenvalues or eigenvectors of given linear operator $A$. That is, find $V$ and $\\Lambda$ such that $AV = V \\Lambda$."
   ]
  },
  {
   "cell_type": "code",
   "execution_count": 17,
   "id": "2a341033",
   "metadata": {},
   "outputs": [],
   "source": [
    "eig_vals, eig_vecs = cola.eig(A, method='dense')"
   ]
  },
  {
   "cell_type": "markdown",
   "id": "f530084d",
   "metadata": {},
   "source": [
    "Nevertheless, when $A$ is quite large we cannot afford the time or memory for a full decomposition. We could thus use an iterative eigenvalue algorithm such as power iteration (if we only want the maximum eigenvalue), Lanczos (if we have a symmetric operator) or Arnoldi (which works in general). Let's see how to run all of those options.\n",
    "So to compute the maximum eigenvalue we could run"
   ]
  },
  {
   "cell_type": "code",
   "execution_count": 18,
   "id": "c3cbf4b0",
   "metadata": {},
   "outputs": [
    {
     "name": "stdout",
     "output_type": "stream",
     "text": [
      "eigmax: 2242.40380859375\n",
      "eig_vals[0]: 2244.454345703125\n"
     ]
    }
   ],
   "source": [
    "eig_max = cola.eigmax(A, tol=1e-4)\n",
    "print(f\"eigmax: {eig_max}\")\n",
    "print(f\"eig_vals[0]: {eig_vals[-1]}\")\n"
   ]
  },
  {
   "cell_type": "markdown",
   "id": "15c00f6c",
   "metadata": {},
   "source": [
    "Indeed we recover the largest eigenvalue. The algorithm that `CoLA` ran in this case was the power method which runs in time $O(\\tau\\frac{1}{\\Delta} \\log 1/\\epsilon)$ to compute the top eigenvalue. But we can achieve an accelerated convergence rate $O(\\tau\\frac{1}{\\sqrt{\\Delta}} \\log 1/\\epsilon)$ if we use Lanczos and Arnoldi, however this comes at an additional memory cost of $O(nm+m^2)$ where $m$ is `max_iters`."
   ]
  },
  {
   "cell_type": "code",
   "execution_count": 19,
   "id": "7f9674f3",
   "metadata": {},
   "outputs": [
    {
     "name": "stdout",
     "output_type": "stream",
     "text": [
      "2244.452880859375\n"
     ]
    }
   ],
   "source": [
    "import numpy as np\n",
    "e0, v0 = cola.eig(A, eig_slice = np.s_[-1], method=\"iterative\", tol=1e-4, max_iters=15)\n",
    "print(f\"{e0[-1]}\")"
   ]
  },
  {
   "cell_type": "markdown",
   "id": "7ee7ca0b",
   "metadata": {},
   "source": [
    "## 🚧 SVD (under development) 🚧"
   ]
  },
  {
   "cell_type": "markdown",
   "id": "53df236b",
   "metadata": {},
   "source": [
    "## 🚧 Pseudoinverse (under development) 🚧"
   ]
  }
 ],
 "metadata": {
  "accelerator": "GPU",
  "kernelspec": {
   "display_name": "Python 3",
   "language": "python",
   "name": "python3"
  },
  "language_info": {
   "codemirror_mode": {
    "name": "ipython",
    "version": 3
   },
   "file_extension": ".py",
   "mimetype": "text/x-python",
   "name": "python",
   "nbconvert_exporter": "python",
   "pygments_lexer": "ipython3",
   "version": "3.8.5"
  }
 },
 "nbformat": 4,
 "nbformat_minor": 4
}
