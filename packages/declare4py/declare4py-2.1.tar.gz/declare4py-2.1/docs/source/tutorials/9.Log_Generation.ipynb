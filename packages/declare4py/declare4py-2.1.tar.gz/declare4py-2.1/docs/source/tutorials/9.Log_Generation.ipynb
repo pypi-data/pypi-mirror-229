{
 "cells": [
  {
   "cell_type": "markdown",
   "id": "4f5a9a59",
   "metadata": {},
   "source": [
    "# Synthetic Log Generation from DECLARE Models\n",
    "\n",
    "DECLARE4Py implements the generation of synthetic logs from DECLARE models with a solution based on Answer Set Programming that uses a Clingo solver. More details can be found in the paper Chiariello, F., Maggi, F. M., & Patrizi, F. (2022, June). ASP-Based Declarative Process Mining. In *Proceedings of the AAAI Conference on Artificial Intelligence* (Vol. 36, No. 5, pp. 5539-5547).\n",
    "\n",
    "As first step, it is necessary to import a `.decl` file containing the DECLARE constraints."
   ]
  },
  {
   "cell_type": "code",
   "execution_count": 1,
   "id": "bdf42d09",
   "metadata": {},
   "outputs": [],
   "source": [
    "import sys\n",
    "import os\n",
    "import pathlib\n",
    "\n",
    "SCRIPT_DIR = pathlib.Path(\"../../../\", \"src\").resolve()\n",
    "sys.path.append(os.path.dirname(SCRIPT_DIR))\n",
    "\n",
    "from src.Declare4Py.ProcessModels.DeclareModel import DeclareModel\n",
    "\n",
    "model_name = 'sepsis'\n",
    "model: DeclareModel = DeclareModel().parse_from_file(os.path.join(\"decl_files\", f\"{model_name}.decl\"))"
   ]
  },
  {
   "cell_type": "markdown",
   "id": "7a9b8417",
   "metadata": {},
   "source": [
    "Then, some general settings are needed to set the number of cases to generate and the minimum and maximum number of events for each case"
   ]
  },
  {
   "cell_type": "code",
   "execution_count": 2,
   "id": "785a61eb",
   "metadata": {},
   "outputs": [],
   "source": [
    "# Number of cases that have be generated\n",
    "num_of_cases = 15\n",
    "\n",
    "# Minimum and maximum number of events a case can contain\n",
    "(num_min_events, num_max_events) = (3, 10)"
   ]
  },
  {
   "cell_type": "markdown",
   "id": "6a06484d",
   "metadata": {},
   "source": [
    "The class `AspGenerator` has to be instantiated with the DECLARE model and the settings of above. Then, the `run` method will generate the cases and the `to_xes` method will save them in a `.xes` event log."
   ]
  },
  {
   "cell_type": "code",
   "execution_count": 3,
   "id": "e3669320",
   "metadata": {},
   "outputs": [],
   "source": [
    "from src.Declare4Py.ProcessMiningTasks.ASPLogGeneration.asp_generator import AspGenerator\n",
    "\n",
    "asp_gen: AspGenerator = AspGenerator(model, num_of_cases, num_min_events, num_max_events)\n",
    "asp_gen.run()"
   ]
  },
  {
   "cell_type": "code",
   "execution_count": 4,
   "id": "188777b4",
   "metadata": {},
   "outputs": [
    {
     "name": "stderr",
     "output_type": "stream",
     "text": [
      "/home/mani/miniconda3/lib/python3.9/site-packages/tqdm/auto.py:22: TqdmWarning: IProgress not found. Please update jupyter and ipywidgets. See https://ipywidgets.readthedocs.io/en/stable/user_install.html\n",
      "  from .autonotebook import tqdm as notebook_tqdm\n",
      "exporting log, completed traces :: 100%|███████████████████████████████████████████████████████████████████████████████████████████████████████████████████████████████████████████████████████████| 15/15 [00:00<00:00, 940.61it/s]\n"
     ]
    }
   ],
   "source": [
    "asp_gen.to_xes(f'{model_name}.xes')"
   ]
  },
  {
   "cell_type": "markdown",
   "id": "d1a80293",
   "metadata": {},
   "source": [
    "Logs can be generated with some **purposes** according to the needs of Process Mining algorithms. DECLARE4Py implements four useful purposes that can be set with the following methods of the `AspGenerator` class.\n",
    "\n",
    "\n",
    "## 1. Setting up the Length Distribution of the Cases\n",
    "\n",
    "Users can specify a probability distribution over the lengths of the generated traces. The method `set_distribution` takes as parameter the `distributor_type`. By setting this parameter with the `uniform` value, a uniform distribution in `[num_min_events, num_max_events]` is chosen."
   ]
  },
  {
   "cell_type": "code",
   "execution_count": 5,
   "id": "7b624f2d",
   "metadata": {},
   "outputs": [
    {
     "name": "stderr",
     "output_type": "stream",
     "text": [
      "exporting log, completed traces :: 100%|██████████████████████████████████████████████████████████████████████████████████████████████████████████████████████████████████████████████████████████| 15/15 [00:00<00:00, 1143.34it/s]\n"
     ]
    }
   ],
   "source": [
    "asp_gen.set_distribution(distributor_type=\"uniform\")\n",
    "\n",
    "#asp_gen: AspGenerator = AspGenerator(model, num_of_cases, num_min_events, num_max_events)\n",
    "asp_gen.run()\n",
    "asp_gen.to_xes(f'{model_name}.xes')"
   ]
  },
  {
   "cell_type": "markdown",
   "id": "8fc1cfec",
   "metadata": {},
   "source": [
    "A `gaussian` distribution requires a location (the mean) and a scale (the variance)"
   ]
  },
  {
   "cell_type": "code",
   "execution_count": 6,
   "id": "b094a88f",
   "metadata": {},
   "outputs": [
    {
     "name": "stderr",
     "output_type": "stream",
     "text": [
      "exporting log, completed traces :: 100%|███████████████████████████████████████████████████████████████████████████████████████████████████████████████████████████████████████████████████████████| 15/15 [00:00<00:00, 993.14it/s]\n"
     ]
    }
   ],
   "source": [
    "asp_gen: AspGenerator = AspGenerator(model, num_of_cases, num_min_events, num_max_events)\n",
    "asp_gen.set_distribution(distributor_type=\"gaussian\", loc=5, scale= 2)\n",
    "asp_gen.run()\n",
    "asp_gen.to_xes(f'{model_name}.xes')"
   ]
  },
  {
   "cell_type": "markdown",
   "id": "d17bb2bf",
   "metadata": {},
   "source": [
    "A `custom` distribution requires the user to set the probability for each length in `[num_min_events, num_max_events]`"
   ]
  },
  {
   "cell_type": "code",
   "execution_count": 7,
   "id": "b5e657eb",
   "metadata": {},
   "outputs": [
    {
     "name": "stderr",
     "output_type": "stream",
     "text": [
      "exporting log, completed traces :: 100%|███████████████████████████████████████████████████████████████████████████████████████████████████████████████████████████████████████████████████████████| 15/15 [00:00<00:00, 936.14it/s]\n"
     ]
    }
   ],
   "source": [
    "asp_gen.set_distribution(distributor_type=\"custom\",\n",
    "                         custom_probabilities=[0.1, 0.1, 0.1, 0.1, 0.1, 0.1, 0.1, 0.3])\n",
    "\n",
    "#asp_gen: AspGenerator = AspGenerator(model, num_of_cases, num_min_events, num_max_events)\n",
    "asp_gen.run()\n",
    "asp_gen.to_xes(f'{model_name}.xes')"
   ]
  },
  {
   "cell_type": "markdown",
   "id": "0a4122d0",
   "metadata": {},
   "source": [
    "## 2. Setting up the Variants\n",
    "\n",
    "Users can generate variants by setting the number of repetitions of the workflow of each case. This is done with the `set_number_of_repetition_per_trace` method"
   ]
  },
  {
   "cell_type": "code",
   "execution_count": 8,
   "id": "bbdedc87",
   "metadata": {},
   "outputs": [
    {
     "name": "stderr",
     "output_type": "stream",
     "text": [
      "PM4PY log generated: 75/75 only.\n",
      "exporting log, completed traces :: 100%|███████████████████████████████████████████████████████████████████████████████████████████████████████████████████████████████████████████████████████████| 75/75 [00:00<00:00, 891.18it/s]\n"
     ]
    }
   ],
   "source": [
    "asp_gen.set_number_of_repetition_per_trace(5)\n",
    "\n",
    "#asp_gen: AspGenerator = AspGenerator(model, num_of_cases, num_min_events, num_max_events)\n",
    "asp_gen.run()\n",
    "asp_gen.to_xes(f'{model_name}.xes')"
   ]
  },
  {
   "cell_type": "markdown",
   "id": "5d94874a",
   "metadata": {},
   "source": [
    "## Setting up Positive and Negative Traces\n",
    "\n",
    "Users can specify some constraints to be violated in the synthetic cases to obtain labelled logs for binary classification, e.g., for deviance mining algorithms. The method `set_constraints_to_violate` takes as input:\n",
    "\n",
    "1. `tot_negative_trace`: the number of negative cases to be violated;\n",
    "2. `violate_all`: whether to violate *all* the specified constraints or let Clingo decide which constraints to be violated;\n",
    "3. `constraints_list`: the list containing the subset of DECLARE constraints (specified as strings of text) to be violated."
   ]
  },
  {
   "cell_type": "code",
   "execution_count": 9,
   "id": "982111f4",
   "metadata": {},
   "outputs": [
    {
     "name": "stderr",
     "output_type": "stream",
     "text": [
      "exporting log, completed traces :: 100%|███████████████████████████████████████████████████████████████████████████████████████████████████████████████████████████████████████████████████████████| 15/15 [00:00<00:00, 866.07it/s]\n"
     ]
    }
   ],
   "source": [
    "asp_gen: AspGenerator = AspGenerator(model, num_of_cases, num_min_events, num_max_events)\n",
    "\n",
    "asp_gen.set_constraints_to_violate(tot_negative_trace=15, violate_all=True, constraints_list=[\n",
    "    \"Init[ER Registration] | |\",\n",
    "    \"Chain Response[ER Registration, ER Triage] |A.org:group is J |T.org:group is A |\"])\n",
    "asp_gen.run()\n",
    "asp_gen.to_xes(f'{model_name}.xes')"
   ]
  },
  {
   "cell_type": "markdown",
   "id": "14eda967",
   "metadata": {},
   "source": [
    "In addition, instead of giving the explicit text of the DECLARE constraint, an index can be used in the `set_constraints_to_violate_by_template_index` method"
   ]
  },
  {
   "cell_type": "code",
   "execution_count": 10,
   "id": "31e4b953",
   "metadata": {},
   "outputs": [
    {
     "name": "stdout",
     "output_type": "stream",
     "text": [
      "0 - Init[ER Registration] | |\n",
      "1 - Response[Admission NC, Release B] | | |\n",
      "2 - Precedence[IV Liquid, Admission NC] | | |\n",
      "3 - Chain Response[ER Registration, ER Triage] |A.org:group is J |T.org:group is A |\n",
      "4 - Chain Response[LacticAcid, Leucocytes] |A.LacticAcid <= 0.8 |T.Leucocytes >= 13.8 |\n"
     ]
    },
    {
     "name": "stderr",
     "output_type": "stream",
     "text": [
      "exporting log, completed traces :: 100%|██████████████████████████████████████████████████████████████████████████████████████████████████████████████████████████████████████████████████████████| 15/15 [00:00<00:00, 1007.29it/s]\n"
     ]
    }
   ],
   "source": [
    "#asp_gen: AspGenerator = AspGenerator(model, num_of_cases, num_min_events, num_max_events)\n",
    "\n",
    "for id, constr_text in enumerate(model.serialized_constraints):\n",
    "    print(f\"{id} - {constr_text}\")\n",
    "\n",
    "asp_gen.set_constraints_to_violate_by_template_index(tot_negative_trace=15, violate_all=True, \n",
    "                                                 constraints_idx_list=[0, 3])\n",
    "asp_gen.run()\n",
    "asp_gen.to_xes(f'{model_name}.xes')"
   ]
  },
  {
   "cell_type": "markdown",
   "id": "9d948642",
   "metadata": {},
   "source": [
    "## Setting up Rules for the Activation Conditions\n",
    "\n",
    "Users can specify the number of activations of a DECLARE constraint in the synthetic cases. This can be done with the `set_activation_conditions` method by specifying an interval of activations for specific DECLARE constraints in the loaded model"
   ]
  },
  {
   "cell_type": "code",
   "execution_count": 11,
   "id": "9a2f7727",
   "metadata": {},
   "outputs": [
    {
     "name": "stderr",
     "output_type": "stream",
     "text": [
      "/home/mani/Desktop/projects/python/Declare4Py/src/Declare4Py/ProcessMiningTasks/ASPLogGeneration/asp_generator.py:330: UserWarning: WARNING: Cannot generate 2 negative trace/s exactly with 10 events with this Declare model.\n",
      "  warnings.warn(\n",
      "/home/mani/Desktop/projects/python/Declare4Py/src/Declare4Py/ProcessMiningTasks/ASPLogGeneration/asp_generator.py:330: UserWarning: WARNING: Cannot generate 3 negative trace/s exactly with 4 events with this Declare model.\n",
      "  warnings.warn(\n",
      "/home/mani/Desktop/projects/python/Declare4Py/src/Declare4Py/ProcessMiningTasks/ASPLogGeneration/asp_generator.py:330: UserWarning: WARNING: Cannot generate 1 negative trace/s exactly with 7 events with this Declare model.\n",
      "  warnings.warn(\n",
      "/home/mani/Desktop/projects/python/Declare4Py/src/Declare4Py/ProcessMiningTasks/ASPLogGeneration/asp_generator.py:330: UserWarning: WARNING: Cannot generate 2 negative trace/s exactly with 6 events with this Declare model.\n",
      "  warnings.warn(\n",
      "/home/mani/Desktop/projects/python/Declare4Py/src/Declare4Py/ProcessMiningTasks/ASPLogGeneration/asp_generator.py:330: UserWarning: WARNING: Cannot generate 3 negative trace/s exactly with 5 events with this Declare model.\n",
      "  warnings.warn(\n",
      "/home/mani/Desktop/projects/python/Declare4Py/src/Declare4Py/ProcessMiningTasks/ASPLogGeneration/asp_generator.py:330: UserWarning: WARNING: Cannot generate 2 negative trace/s exactly with 8 events with this Declare model.\n",
      "  warnings.warn(\n",
      "/home/mani/Desktop/projects/python/Declare4Py/src/Declare4Py/ProcessMiningTasks/ASPLogGeneration/asp_generator.py:330: UserWarning: WARNING: Cannot generate 2 negative trace/s exactly with 3 events with this Declare model.\n",
      "  warnings.warn(\n",
      "PM4PY log generated: 0/15 only.\n",
      "exporting log, completed traces :: : 0it [00:00, ?it/s]\n"
     ]
    }
   ],
   "source": [
    "#asp_gen: AspGenerator = AspGenerator(model, num_of_cases, num_min_events, num_max_events)\n",
    "asp_gen.set_activation_conditions({\n",
    "    'Chain Response[ER Registration, ER Triage] |A.org:group is J |T.org:group is A |': \n",
    "    [3, 5]})  # activation should occur between 3 to 5 times\n",
    "\n",
    "asp_gen.run()\n",
    "asp_gen.to_xes(f'{model_name}.xes')"
   ]
  },
  {
   "cell_type": "markdown",
   "id": "d28a4daf",
   "metadata": {},
   "source": [
    "In addition, instead of giving the explicit text of the DECLARE constraints, an index can be used in the `set_activation_conditions_by_template_index` method"
   ]
  },
  {
   "cell_type": "code",
   "execution_count": 12,
   "id": "81518fa8",
   "metadata": {},
   "outputs": [
    {
     "name": "stdout",
     "output_type": "stream",
     "text": [
      "0 - Init[ER Registration] | |\n",
      "1 - Response[Admission NC, Release B] | | |\n",
      "2 - Precedence[IV Liquid, Admission NC] | | |\n",
      "3 - Chain Response[ER Registration, ER Triage] |A.org:group is J |T.org:group is A |\n",
      "4 - Chain Response[LacticAcid, Leucocytes] |A.LacticAcid <= 0.8 |T.Leucocytes >= 13.8 |\n"
     ]
    },
    {
     "name": "stderr",
     "output_type": "stream",
     "text": [
      "/home/mani/Desktop/projects/python/Declare4Py/src/Declare4Py/ProcessMiningTasks/ASPLogGeneration/asp_generator.py:330: UserWarning: WARNING: Cannot generate 6 negative trace/s exactly with 8 events with this Declare model.\n",
      "  warnings.warn(\n",
      "/home/mani/Desktop/projects/python/Declare4Py/src/Declare4Py/ProcessMiningTasks/ASPLogGeneration/asp_generator.py:330: UserWarning: WARNING: Cannot generate 2 negative trace/s exactly with 9 events with this Declare model.\n",
      "  warnings.warn(\n",
      "/home/mani/Desktop/projects/python/Declare4Py/src/Declare4Py/ProcessMiningTasks/ASPLogGeneration/asp_generator.py:330: UserWarning: WARNING: Cannot generate 1 negative trace/s exactly with 6 events with this Declare model.\n",
      "  warnings.warn(\n",
      "/home/mani/Desktop/projects/python/Declare4Py/src/Declare4Py/ProcessMiningTasks/ASPLogGeneration/asp_generator.py:330: UserWarning: WARNING: Cannot generate 1 negative trace/s exactly with 5 events with this Declare model.\n",
      "  warnings.warn(\n",
      "/home/mani/Desktop/projects/python/Declare4Py/src/Declare4Py/ProcessMiningTasks/ASPLogGeneration/asp_generator.py:330: UserWarning: WARNING: Cannot generate 2 negative trace/s exactly with 4 events with this Declare model.\n",
      "  warnings.warn(\n",
      "/home/mani/Desktop/projects/python/Declare4Py/src/Declare4Py/ProcessMiningTasks/ASPLogGeneration/asp_generator.py:330: UserWarning: WARNING: Cannot generate 1 negative trace/s exactly with 10 events with this Declare model.\n",
      "  warnings.warn(\n",
      "PM4PY log generated: 0/15 only.\n",
      "exporting log, completed traces :: : 0it [00:00, ?it/s]\n"
     ]
    }
   ],
   "source": [
    "#asp_gen: AspGenerator = AspGenerator(model, num_of_cases, num_min_events, num_max_events)\n",
    "\n",
    "for id, constr_text in enumerate(model.serialized_constraints):\n",
    "    print(f\"{id} - {constr_text}\")\n",
    "\n",
    "asp_gen.set_activation_conditions_by_template_index({2: [3, 5]})\n",
    "asp_gen.run()\n",
    "asp_gen.to_xes(f'{model_name}.xes')"
   ]
  }
 ],
 "metadata": {
  "kernelspec": {
   "display_name": "Python 3 (ipykernel)",
   "language": "python",
   "name": "python3"
  },
  "language_info": {
   "codemirror_mode": {
    "name": "ipython",
    "version": 3
   },
   "file_extension": ".py",
   "mimetype": "text/x-python",
   "name": "python",
   "nbconvert_exporter": "python",
   "pygments_lexer": "ipython3",
   "version": "3.9.12"
  }
 },
 "nbformat": 4,
 "nbformat_minor": 5
}
