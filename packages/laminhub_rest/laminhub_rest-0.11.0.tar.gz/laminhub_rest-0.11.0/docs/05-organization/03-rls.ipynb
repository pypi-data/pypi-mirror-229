{
 "cells": [
  {
   "cell_type": "markdown",
   "metadata": {},
   "source": [
    "# Test RLS on organization membership management (organization_user table)"
   ]
  },
  {
   "cell_type": "code",
   "execution_count": null,
   "metadata": {},
   "outputs": [],
   "source": [
    "import sqlmodel as sqm\n",
    "import pytest\n",
    "\n",
    "# Test assets\n",
    "from laminhub_rest.core.account import create_organization_account\n",
    "\n",
    "# Test utils\n",
    "from laminhub_rest.utils._test import create_test_auth, create_test_account\n",
    "from laminhub_rest.connector import connect_hub_with_auth\n",
    "from laminhub_rest.main import client\n",
    "from laminhub_rest._clean_ci import clean_ci\n",
    "from laminhub_rest.utils._id import base62"
   ]
  },
  {
   "cell_type": "markdown",
   "metadata": {},
   "source": [
    "# Parametrize"
   ]
  },
  {
   "cell_type": "code",
   "execution_count": null,
   "metadata": {},
   "outputs": [],
   "source": [
    "# Create account 1\n",
    "auth_1 = create_test_auth()\n",
    "access_token_1 = auth_1[\"access_token\"]\n",
    "account_1 = create_test_account(handle=auth_1[\"handle\"], access_token=access_token_1)\n",
    "\n",
    "# Create account 2\n",
    "auth_2 = create_test_auth()\n",
    "access_token_2 = auth_2[\"access_token\"]\n",
    "account_2 = create_test_account(handle=auth_2[\"handle\"], access_token=access_token_2)\n",
    "\n",
    "# Create account 3\n",
    "auth_3 = create_test_auth()\n",
    "access_token_3 = auth_3[\"access_token\"]\n",
    "account_3 = create_test_account(handle=auth_3[\"handle\"], access_token=access_token_3)\n",
    "\n",
    "# Create organization account\n",
    "org_handle_1 = f\"lamin.ci.org.{base62(8)}\"\n",
    "organization = create_organization_account(\n",
    "    handle=org_handle_1, _access_token=access_token_1\n",
    ")\n",
    "hub = connect_hub_with_auth(access_token=access_token_1)\n",
    "organization_id = (\n",
    "    hub.table(\"account\").select(\"id\").eq(\"handle\", org_handle_1).execute().data[0][\"id\"]\n",
    ")"
   ]
  },
  {
   "cell_type": "markdown",
   "metadata": {},
   "source": [
    "## Enable members to select other members"
   ]
  },
  {
   "cell_type": "markdown",
   "metadata": {},
   "source": [
    "Add a member to the organization."
   ]
  },
  {
   "cell_type": "code",
   "execution_count": null,
   "metadata": {},
   "outputs": [],
   "source": [
    "client.post(\n",
    "    f\"organization/resources/members/{organization_id}/?user_id={account_2['id']}\",\n",
    "    headers={\"authentication\": f\"Bearer {access_token_1}\"},\n",
    ")"
   ]
  },
  {
   "cell_type": "markdown",
   "metadata": {},
   "source": [
    "Member should be able to select all members of the organization."
   ]
  },
  {
   "cell_type": "code",
   "execution_count": null,
   "metadata": {},
   "outputs": [],
   "source": [
    "response = client.get(\n",
    "    f\"organization/resources/members/{organization_id}\",\n",
    "    headers={\"authentication\": f\"Bearer {access_token_2}\"},\n",
    ").json()\n",
    "\n",
    "assert len(response) == 2"
   ]
  },
  {
   "cell_type": "markdown",
   "metadata": {},
   "source": [
    "## Enable owners to add members"
   ]
  },
  {
   "cell_type": "markdown",
   "metadata": {},
   "source": [
    "Non-owner member should not be able to add other members."
   ]
  },
  {
   "cell_type": "code",
   "execution_count": null,
   "metadata": {},
   "outputs": [],
   "source": [
    "with pytest.raises(Exception) as error:\n",
    "    response = client.post(\n",
    "        f\"organization/resources/members/{organization_id}/?user_id={account_3['id']}\",\n",
    "        headers={\"authentication\": f\"Bearer {access_token_2}\"},\n",
    "    ).json()\n",
    "\n",
    "assert \"new row violates row-level security policy\" in error.value.message"
   ]
  },
  {
   "cell_type": "markdown",
   "metadata": {},
   "source": [
    "## Enable owners to update members"
   ]
  },
  {
   "cell_type": "markdown",
   "metadata": {},
   "source": [
    "Non-owner member should not be able to update other members."
   ]
  },
  {
   "cell_type": "code",
   "execution_count": null,
   "metadata": {},
   "outputs": [],
   "source": [
    "response = client.put(\n",
    "    f\"organization/resources/members/{organization_id}/?user_id={account_1['id']}&role=member\",\n",
    "    headers={\"authentication\": f\"Bearer {access_token_2}\"},\n",
    ").json()\n",
    "\n",
    "assert response == \"member-not-updated\""
   ]
  },
  {
   "cell_type": "markdown",
   "metadata": {},
   "source": [
    "## Enable owners to delete members"
   ]
  },
  {
   "cell_type": "markdown",
   "metadata": {},
   "source": [
    "Non-owner member should not be able to delete other members."
   ]
  },
  {
   "cell_type": "code",
   "execution_count": null,
   "metadata": {},
   "outputs": [],
   "source": [
    "response = client.delete(\n",
    "    f\"organization/resources/members/{organization_id}/?user_id={account_1['id']}\",\n",
    "    headers={\"authentication\": f\"Bearer {access_token_2}\"},\n",
    ").json()\n",
    "\n",
    "assert response == \"member-not-deleted\""
   ]
  },
  {
   "cell_type": "markdown",
   "metadata": {},
   "source": [
    "## Clean up test assets"
   ]
  },
  {
   "cell_type": "code",
   "execution_count": null,
   "metadata": {},
   "outputs": [],
   "source": [
    "clean_ci()"
   ]
  }
 ],
 "metadata": {
  "kernelspec": {
   "display_name": "Python 3 (ipykernel)",
   "language": "python",
   "name": "python3"
  },
  "language_info": {
   "codemirror_mode": {
    "name": "ipython",
    "version": 3
   },
   "file_extension": ".py",
   "mimetype": "text/x-python",
   "name": "python",
   "nbconvert_exporter": "python",
   "pygments_lexer": "ipython3",
   "version": "3.9.15"
  }
 },
 "nbformat": 4,
 "nbformat_minor": 4
}
