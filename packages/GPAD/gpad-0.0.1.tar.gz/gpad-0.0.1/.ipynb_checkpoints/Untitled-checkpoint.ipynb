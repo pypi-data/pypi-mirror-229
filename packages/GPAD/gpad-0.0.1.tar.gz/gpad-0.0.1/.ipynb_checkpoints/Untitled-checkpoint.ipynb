{
 "cells": [
  {
   "cell_type": "raw",
   "source": [],
   "metadata": {
    "collapsed": false
   },
   "id": "f5840cc9d0ae482a"
  }
 ],
 "metadata": {},
 "nbformat": 4,
 "nbformat_minor": 5
}
