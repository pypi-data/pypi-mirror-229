{
 "cells": [
  {
   "cell_type": "markdown",
   "metadata": {},
   "source": [
    "# Test update account"
   ]
  },
  {
   "cell_type": "code",
   "execution_count": null,
   "metadata": {},
   "outputs": [],
   "source": [
    "from laminhub_rest.core.account import update_account, delete_account\n",
    "from laminhub_rest.core.account._crud import sb_select_account_by_handle\n",
    "from laminhub_rest.utils._test import create_test_auth, create_test_account\n",
    "from laminhub_rest.connector import connect_hub\n",
    "from laminhub_rest.main import client\n",
    "from laminhub_rest._clean_ci import clean_ci\n",
    "\n",
    "hub = connect_hub()"
   ]
  },
  {
   "cell_type": "markdown",
   "metadata": {},
   "source": [
    "## Parameterize"
   ]
  },
  {
   "cell_type": "code",
   "execution_count": null,
   "metadata": {},
   "outputs": [],
   "source": [
    "auth_1 = create_test_auth()\n",
    "account_1 = create_test_account(\n",
    "    handle=auth_1[\"handle\"],\n",
    "    access_token=auth_1[\"access_token\"],\n",
    ")\n",
    "access_token_1 = auth_1[\"access_token\"]\n",
    "\n",
    "auth_2 = create_test_auth()\n",
    "access_token_2 = auth_2[\"access_token\"]"
   ]
  },
  {
   "cell_type": "markdown",
   "metadata": {},
   "source": [
    "## Update an account"
   ]
  },
  {
   "cell_type": "markdown",
   "metadata": {
    "tags": []
   },
   "source": [
    "### Call `update_account`"
   ]
  },
  {
   "cell_type": "code",
   "execution_count": null,
   "metadata": {},
   "outputs": [],
   "source": [
    "new_name_1 = account_1[\"handle\"] + \" name\""
   ]
  },
  {
   "cell_type": "code",
   "execution_count": null,
   "metadata": {},
   "outputs": [],
   "source": [
    "message = update_account(\n",
    "    handle=account_1[\"handle\"],\n",
    "    name=new_name_1,\n",
    "    bio=None,\n",
    "    github_handle=None,\n",
    "    linkedin_handle=None,\n",
    "    twitter_handle=None,\n",
    "    website=None,\n",
    "    _access_token=auth_1[\"access_token\"],\n",
    ")"
   ]
  },
  {
   "cell_type": "code",
   "execution_count": null,
   "metadata": {},
   "outputs": [],
   "source": [
    "account = sb_select_account_by_handle(account_1[\"handle\"], hub)\n",
    "\n",
    "assert message is None\n",
    "assert account[\"name\"] == new_name_1"
   ]
  },
  {
   "cell_type": "markdown",
   "metadata": {},
   "source": [
    "### Put method on `/account` route"
   ]
  },
  {
   "cell_type": "code",
   "execution_count": null,
   "metadata": {},
   "outputs": [],
   "source": [
    "new_name_2 = account_1[\"handle\"] + \" name 2\""
   ]
  },
  {
   "cell_type": "code",
   "execution_count": null,
   "metadata": {},
   "outputs": [],
   "source": [
    "response = client.put(\n",
    "    f\"/account/?name={new_name_2}\",\n",
    "    headers={\"authentication\": f\"Bearer {access_token_1}\"},\n",
    ")"
   ]
  },
  {
   "cell_type": "code",
   "execution_count": null,
   "metadata": {},
   "outputs": [],
   "source": [
    "account = sb_select_account_by_handle(account_1[\"handle\"], hub)\n",
    "\n",
    "assert response.json() == \"success\"\n",
    "assert account[\"name\"] == new_name_2"
   ]
  },
  {
   "cell_type": "markdown",
   "metadata": {},
   "source": [
    "## Update a non existing account"
   ]
  },
  {
   "cell_type": "markdown",
   "metadata": {},
   "source": [
    "### Call `update_account` on a non existing account"
   ]
  },
  {
   "cell_type": "code",
   "execution_count": null,
   "metadata": {},
   "outputs": [],
   "source": [
    "message = update_account(\n",
    "    handle=\"account_2 handle\",\n",
    "    name=new_name_1,\n",
    "    bio=None,\n",
    "    github_handle=None,\n",
    "    linkedin_handle=None,\n",
    "    twitter_handle=None,\n",
    "    website=None,\n",
    "    _access_token=access_token_2,\n",
    ")"
   ]
  },
  {
   "cell_type": "code",
   "execution_count": null,
   "metadata": {},
   "outputs": [],
   "source": [
    "assert message == \"account-not-exists\""
   ]
  },
  {
   "cell_type": "markdown",
   "metadata": {},
   "source": [
    "### Put method on `/account` route"
   ]
  },
  {
   "cell_type": "code",
   "execution_count": null,
   "metadata": {},
   "outputs": [],
   "source": [
    "response = client.put(\n",
    "    f\"/account/?name={new_name_2}\",\n",
    "    headers={\"authentication\": f\"Bearer {access_token_2}\"},\n",
    ")"
   ]
  },
  {
   "cell_type": "code",
   "execution_count": null,
   "metadata": {},
   "outputs": [],
   "source": [
    "assert response.json() == \"account-not-exists\""
   ]
  },
  {
   "cell_type": "markdown",
   "metadata": {},
   "source": [
    "## Clean up"
   ]
  },
  {
   "cell_type": "code",
   "execution_count": null,
   "metadata": {},
   "outputs": [],
   "source": [
    "delete_account(auth_1[\"handle\"], access_token_1)"
   ]
  },
  {
   "cell_type": "code",
   "execution_count": null,
   "metadata": {},
   "outputs": [],
   "source": [
    "clean_ci()"
   ]
  }
 ],
 "metadata": {
  "kernelspec": {
   "display_name": "Python 3 (ipykernel)",
   "language": "python",
   "name": "python3"
  },
  "language_info": {
   "codemirror_mode": {
    "name": "ipython",
    "version": 3
   },
   "file_extension": ".py",
   "mimetype": "text/x-python",
   "name": "python",
   "nbconvert_exporter": "python",
   "pygments_lexer": "ipython3",
   "version": "3.9.15"
  },
  "vscode": {
   "interpreter": {
    "hash": "2841734f87827db3a7b3181a6051fe720e9968e703956c2bd6988b5a29362801"
   }
  }
 },
 "nbformat": 4,
 "nbformat_minor": 4
}
