{
 "cells": [
  {
   "cell_type": "markdown",
   "metadata": {},
   "source": [
    "# Test create organization"
   ]
  },
  {
   "cell_type": "code",
   "execution_count": null,
   "metadata": {
    "tags": []
   },
   "outputs": [],
   "source": [
    "import sqlmodel as sqm\n",
    "\n",
    "# Test subjects\n",
    "from laminhub_rest.core.account import create_organization_account\n",
    "\n",
    "# Test assets\n",
    "from laminhub_rest.schema import Account, OrganizationUser\n",
    "\n",
    "# Test utils\n",
    "from laminhub_rest.utils._test import create_test_auth, create_test_account\n",
    "from laminhub_rest.connector import get_engine\n",
    "from laminhub_rest.main import client\n",
    "from laminhub_rest.core.account import delete_account\n",
    "from laminhub_rest._clean_ci import clean_ci\n",
    "from laminhub_rest.utils._id import base62"
   ]
  },
  {
   "cell_type": "markdown",
   "metadata": {},
   "source": [
    "## Parametrize"
   ]
  },
  {
   "cell_type": "code",
   "execution_count": null,
   "metadata": {},
   "outputs": [],
   "source": [
    "auth_1 = create_test_auth()\n",
    "access_token_1 = auth_1[\"access_token\"]\n",
    "account_1 = create_test_account(handle=auth_1[\"handle\"], access_token=access_token_1)"
   ]
  },
  {
   "cell_type": "markdown",
   "metadata": {},
   "source": [
    "## Create an organization"
   ]
  },
  {
   "cell_type": "markdown",
   "metadata": {},
   "source": [
    "### Call create_organization_account"
   ]
  },
  {
   "cell_type": "code",
   "execution_count": null,
   "metadata": {},
   "outputs": [],
   "source": [
    "org_handle_1 = f\"lamin.ci.org.{base62(8)}\"\n",
    "create_organization_account(handle=org_handle_1, _access_token=access_token_1)"
   ]
  },
  {
   "cell_type": "code",
   "execution_count": null,
   "metadata": {},
   "outputs": [],
   "source": [
    "organization = None\n",
    "stmt = sqm.select(Account).where(Account.handle == org_handle_1)\n",
    "engine = get_engine()\n",
    "with sqm.Session(engine) as session:\n",
    "    organization = session.exec(stmt).one()\n",
    "    assert organization.user_id is None"
   ]
  },
  {
   "cell_type": "code",
   "execution_count": null,
   "metadata": {},
   "outputs": [],
   "source": [
    "stmt = sqm.select(OrganizationUser).where(\n",
    "    OrganizationUser.organization_id == organization.id\n",
    ")\n",
    "organization_user = None\n",
    "with sqm.Session(engine) as session:\n",
    "    organization_user = session.exec(stmt).one()\n",
    "    assert str(organization_user.user_id) == account_1[\"id\"]\n",
    "    assert organization_user.role == \"owner\""
   ]
  },
  {
   "cell_type": "markdown",
   "metadata": {},
   "source": [
    "### Post method on `/account` route"
   ]
  },
  {
   "cell_type": "code",
   "execution_count": null,
   "metadata": {},
   "outputs": [],
   "source": [
    "org_handle_2 = f\"lamin.ci.org.{base62(8)}\"\n",
    "response = client.post(\n",
    "    f\"/account/?handle={org_handle_2}&organization=true\",\n",
    "    headers={\"authentication\": f\"Bearer {access_token_1}\"},\n",
    ").json()\n",
    "\n",
    "assert response == \"success\""
   ]
  },
  {
   "cell_type": "markdown",
   "metadata": {},
   "source": [
    "## Clean up test assets"
   ]
  },
  {
   "cell_type": "code",
   "execution_count": null,
   "metadata": {},
   "outputs": [],
   "source": [
    "delete_account(account_1[\"handle\"], access_token_1)\n",
    "clean_ci()"
   ]
  }
 ],
 "metadata": {
  "kernelspec": {
   "display_name": "Python 3 (ipykernel)",
   "language": "python",
   "name": "python3"
  },
  "language_info": {
   "codemirror_mode": {
    "name": "ipython",
    "version": 3
   },
   "file_extension": ".py",
   "mimetype": "text/x-python",
   "name": "python",
   "nbconvert_exporter": "python",
   "pygments_lexer": "ipython3",
   "version": "3.9.15"
  }
 },
 "nbformat": 4,
 "nbformat_minor": 4
}
