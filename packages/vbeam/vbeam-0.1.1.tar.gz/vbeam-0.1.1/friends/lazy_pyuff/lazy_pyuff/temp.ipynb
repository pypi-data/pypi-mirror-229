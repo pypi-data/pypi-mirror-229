{
 "cells": [
  {
   "cell_type": "code",
   "execution_count": 1,
   "metadata": {},
   "outputs": [
    {
     "ename": "AttributeError",
     "evalue": "module 'lazy_pyuff.readers.channel_data_reader' has no attribute 'read_sound_speed'",
     "output_type": "error",
     "traceback": [
      "\u001b[0;31m---------------------------------------------------------------------------\u001b[0m",
      "\u001b[0;31mAttributeError\u001b[0m                            Traceback (most recent call last)",
      "Cell \u001b[0;32mIn[1], line 8\u001b[0m\n\u001b[1;32m      5\u001b[0m \u001b[39mfrom\u001b[39;00m \u001b[39mvbeam\u001b[39;00m\u001b[39m.\u001b[39;00m\u001b[39mdata_importers\u001b[39;00m \u001b[39mimport\u001b[39;00m import_pyuff\n\u001b[1;32m      7\u001b[0m uff \u001b[39m=\u001b[39m Uff(\u001b[39m\"\u001b[39m\u001b[39m/home/magnusk/vbeam/DataDump_20220511_102612.h5.uff\u001b[39m\u001b[39m\"\u001b[39m)\n\u001b[0;32m----> 8\u001b[0m data \u001b[39m=\u001b[39m import_pyuff(uff[\u001b[39m\"\u001b[39;49m\u001b[39mchannel_data\u001b[39;49m\u001b[39m\"\u001b[39;49m], uff[\u001b[39m\"\u001b[39;49m\u001b[39mscan\u001b[39;49m\u001b[39m\"\u001b[39;49m])\n",
      "File \u001b[0;32m~/vbeam/vbeam/data_importers/pyuff_importer.py:54\u001b[0m, in \u001b[0;36mimport_pyuff\u001b[0;34m(channel_data, scan, frames)\u001b[0m\n\u001b[1;32m     51\u001b[0m \u001b[39mif\u001b[39;00m scan \u001b[39mand\u001b[39;00m \u001b[39misinstance\u001b[39m(scan, pyuff\u001b[39m.\u001b[39mScan):\n\u001b[1;32m     52\u001b[0m     scan \u001b[39m=\u001b[39m parse_pyuff_scan(scan)\n\u001b[0;32m---> 54\u001b[0m speed_of_sound \u001b[39m=\u001b[39m np\u001b[39m.\u001b[39marray(\u001b[39mfloat\u001b[39m(channel_data\u001b[39m.\u001b[39;49msound_speed), dtype\u001b[39m=\u001b[39m\u001b[39m\"\u001b[39m\u001b[39mfloat32\u001b[39m\u001b[39m\"\u001b[39m)\n\u001b[1;32m     55\u001b[0m t_axis \u001b[39m=\u001b[39m FastInterpLinspace(\n\u001b[1;32m     56\u001b[0m     \u001b[39mmin\u001b[39m\u001b[39m=\u001b[39m\u001b[39mfloat\u001b[39m(channel_data\u001b[39m.\u001b[39minitial_time),\n\u001b[1;32m     57\u001b[0m     d\u001b[39m=\u001b[39m\u001b[39m1\u001b[39m \u001b[39m/\u001b[39m channel_data\u001b[39m.\u001b[39msampling_frequency,\n\u001b[1;32m     58\u001b[0m     n\u001b[39m=\u001b[39mchannel_data\u001b[39m.\u001b[39mn_samples,\n\u001b[1;32m     59\u001b[0m )\n\u001b[1;32m     61\u001b[0m receiver_signals \u001b[39m=\u001b[39m np\u001b[39m.\u001b[39mtranspose(channel_data\u001b[39m.\u001b[39mdata, (\u001b[39m3\u001b[39m, \u001b[39m2\u001b[39m, \u001b[39m1\u001b[39m, \u001b[39m0\u001b[39m))\n",
      "File \u001b[0;32m~/miniconda3/envs/vbeam_magnusk/lib/python3.8/functools.py:967\u001b[0m, in \u001b[0;36mcached_property.__get__\u001b[0;34m(self, instance, owner)\u001b[0m\n\u001b[1;32m    965\u001b[0m val \u001b[39m=\u001b[39m cache\u001b[39m.\u001b[39mget(\u001b[39mself\u001b[39m\u001b[39m.\u001b[39mattrname, _NOT_FOUND)\n\u001b[1;32m    966\u001b[0m \u001b[39mif\u001b[39;00m val \u001b[39mis\u001b[39;00m _NOT_FOUND:\n\u001b[0;32m--> 967\u001b[0m     val \u001b[39m=\u001b[39m \u001b[39mself\u001b[39;49m\u001b[39m.\u001b[39;49mfunc(instance)\n\u001b[1;32m    968\u001b[0m     \u001b[39mtry\u001b[39;00m:\n\u001b[1;32m    969\u001b[0m         cache[\u001b[39mself\u001b[39m\u001b[39m.\u001b[39mattrname] \u001b[39m=\u001b[39m val\n",
      "File \u001b[0;32m~/vbeam/friends/lazy_pyuff/lazy_pyuff/objects/channel_data.py:21\u001b[0m, in \u001b[0;36mChannelData.sound_speed\u001b[0;34m(self)\u001b[0m\n\u001b[1;32m     19\u001b[0m \u001b[39m@cached_property\u001b[39m\n\u001b[1;32m     20\u001b[0m \u001b[39mdef\u001b[39;00m \u001b[39msound_speed\u001b[39m(\u001b[39mself\u001b[39m) \u001b[39m-\u001b[39m\u001b[39m>\u001b[39m \u001b[39mfloat\u001b[39m:\n\u001b[0;32m---> 21\u001b[0m     \u001b[39mreturn\u001b[39;00m reader\u001b[39m.\u001b[39;49mread_sound_speed(\u001b[39mself\u001b[39m\u001b[39m.\u001b[39m_h5py_obj)\n",
      "\u001b[0;31mAttributeError\u001b[0m: module 'lazy_pyuff.readers.channel_data_reader' has no attribute 'read_sound_speed'"
     ]
    }
   ],
   "source": [
    "from vbeam.fastmath import backend_manager\n",
    "backend_manager.active_backend = \"jax\"\n",
    "\n",
    "from lazy_pyuff import Uff\n",
    "from vbeam.data_importers import import_pyuff\n",
    "\n",
    "uff = Uff(\"/home/magnusk/vbeam/DataDump_20220511_102612.h5.uff\")\n",
    "data = import_pyuff(uff[\"channel_data\"], uff[\"scan\"])"
   ]
  },
  {
   "cell_type": "code",
   "execution_count": 3,
   "metadata": {},
   "outputs": [
    {
     "name": "stdout",
     "output_type": "stream",
     "text": [
      "1.36 ms ± 86.6 µs per loop (mean ± std. dev. of 7 runs, 1,000 loops each)\n"
     ]
    }
   ],
   "source": [
    "from lazy_pyuff.objects.channel_data import ChannelData\n",
    "\n",
    "def thing():\n",
    "    uff = Uff(\"/home/magnusk/vbeam/DataDump_20220511_102612.h5.uff\")\n",
    "    channel_data: ChannelData = uff[\"channel_data\"]\n",
    "    return list(channel_data.sequence)\n",
    "\n",
    "%timeit thing()\n",
    "# 1.36 ms ± 86.6 µs per loop (mean ± std. dev. of 7 runs, 1,000 loops each)"
   ]
  },
  {
   "cell_type": "code",
   "execution_count": 12,
   "metadata": {},
   "outputs": [
    {
     "name": "stdout",
     "output_type": "stream",
     "text": [
      "21.4 ms ± 178 µs per loop (mean ± std. dev. of 7 runs, 10 loops each)\n"
     ]
    }
   ],
   "source": [
    "from lazy_pyuff import ChannelData, Wave\n",
    "from concurrent.futures import ProcessPoolExecutor\n",
    "import numpy as np\n",
    "import h5py\n",
    "\n",
    "filepath = \"/home/magnusk/vbeam/DataDump_20220511_102612.h5.uff\"\n",
    "\n",
    "def another_thing(i):\n",
    "    with h5py.File(filepath, \"r\") as f:\n",
    "        sequence = f[\"channel_data\"][\"sequence\"]\n",
    "        keys = list(sequence.keys())\n",
    "        return Wave(sequence[keys[i]])\n",
    "\n",
    "def thing():\n",
    "    #with ProcessPoolExecutor() as executor:\n",
    "    return [another_thing(i) for i in range(86)]\n",
    "\n",
    "    return list(channel_data.sequence)\n",
    "\n",
    "%timeit thing()\n",
    "# 1.36 ms ± 86.6 µs per loop (mean ± std. dev. of 7 runs, 1,000 loops each)"
   ]
  },
  {
   "cell_type": "code",
   "execution_count": 4,
   "metadata": {},
   "outputs": [
    {
     "data": {
      "text/plain": [
       "<HDF5 group \"/channel_data\" (8 members)>"
      ]
     },
     "execution_count": 4,
     "metadata": {},
     "output_type": "execute_result"
    }
   ],
   "source": [
    "channel_data._h5py_obj"
   ]
  },
  {
   "cell_type": "code",
   "execution_count": 2,
   "metadata": {},
   "outputs": [],
   "source": [
    "from lazy_pyuff import Uff\n",
    "uff = Uff(\"/home/magnusk/vbeam/DataDump_20220511_102612.h5.uff\")\n",
    "channel_data = uff[\"channel_data\"]"
   ]
  },
  {
   "cell_type": "code",
   "execution_count": 3,
   "metadata": {},
   "outputs": [],
   "source": [
    "channel_data.n_samples"
   ]
  },
  {
   "cell_type": "code",
   "execution_count": null,
   "metadata": {},
   "outputs": [],
   "source": [
    "import pyuff"
   ]
  }
 ],
 "metadata": {
  "kernelspec": {
   "display_name": "vbeam_magnusk",
   "language": "python",
   "name": "python3"
  },
  "language_info": {
   "codemirror_mode": {
    "name": "ipython",
    "version": 3
   },
   "file_extension": ".py",
   "mimetype": "text/x-python",
   "name": "python",
   "nbconvert_exporter": "python",
   "pygments_lexer": "ipython3",
   "version": "3.8.15 (default, Nov 24 2022, 15:19:38) \n[GCC 11.2.0]"
  },
  "orig_nbformat": 4,
  "vscode": {
   "interpreter": {
    "hash": "6c4250dae465aee4b6d69a64fe17fd966e6e25e24e55c1bfcae3c87f6496b0f5"
   }
  }
 },
 "nbformat": 4,
 "nbformat_minor": 2
}
