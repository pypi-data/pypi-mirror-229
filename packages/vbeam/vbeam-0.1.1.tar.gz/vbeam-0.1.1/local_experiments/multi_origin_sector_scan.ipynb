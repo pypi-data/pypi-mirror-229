{
 "cells": [
  {
   "cell_type": "code",
   "execution_count": 23,
   "metadata": {},
   "outputs": [
    {
     "data": {
      "application/vnd.jupyter.widget-view+json": {
       "model_id": "48a22c63b8e34c0ba5aec0dc3f69aa5b",
       "version_major": 2,
       "version_minor": 0
      },
      "text/plain": [
       "interactive(children=(FloatSlider(value=0.0, description='inner_x', max=1.0, min=-1.0), FloatSlider(value=-0.5…"
      ]
     },
     "metadata": {},
     "output_type": "display_data"
    }
   ],
   "source": [
    "import matplotlib.pyplot as plt\n",
    "import numpy as np\n",
    "from ipywidgets import interact\n",
    "\n",
    "@interact(\n",
    "    inner_x=(-1, 1, 0.1),\n",
    "    inner_z=(-1, 1, 0.1),\n",
    "    outer_x=(-1, 1, 0.1),\n",
    "    outer_y=(-1, 1, 0.1),\n",
    "    start_angle=(-np.pi, np.pi, 0.1),\n",
    "    end_angle=(-np.pi, np.pi, 0.1),\n",
    "    start_depth=(0, 5, 0.1),\n",
    "    end_depth=(0, 5, 0.1),\n",
    ")\n",
    "def foo(\n",
    "    inner_x=0,\n",
    "    inner_y=-0.5,\n",
    "    outer_x=0,\n",
    "    outer_y=0,\n",
    "    start_angle=-0.7,\n",
    "    end_angle=0.7,\n",
    "    start_depth=0.5,\n",
    "    end_depth=1,\n",
    "):\n",
    "    apex_inner = np.array([inner_x, inner_y])\n",
    "    apex_outer = np.array([outer_x, outer_y])\n",
    "    depths = np.linspace(start_depth, end_depth)\n",
    "    azimuths = np.linspace(start_angle, end_angle, 10)\n",
    "\n",
    "    p = depths - depths.min()\n",
    "    p = p / p.max()\n",
    "    apii = apex_inner[:, None] * (1 - p) + apex_outer[:, None] * p\n",
    "    apii = apex_inner[:, None]\n",
    "    for az in azimuths:\n",
    "        a = np.array([np.sin(az) * depths, np.cos(az) * depths]) + apii\n",
    "        plt.plot(a[0], a[1], c=\"black\")\n",
    "    plt.scatter(apex_inner[0], apex_inner[1], c=\"red\")\n",
    "    plt.scatter(apex_outer[0], apex_outer[1], c=\"blue\")\n",
    "    # Draw a circle centered at the apex inner\n",
    "    plt.gca().add_artist(plt.Circle(apex_inner, depths.min(), color=\"r\", fill=False))\n",
    "    plt.gca().add_artist(plt.Circle(apex_outer, depths.max(), color=\"r\", fill=False))\n",
    "    plt.xlim([-4, 4])\n",
    "    plt.ylim([-4, 4])\n",
    "    # Make it square\n",
    "    plt.gca().set_aspect(\"equal\", adjustable=\"box\")\n",
    "\n",
    "    plt.gca().invert_yaxis()"
   ]
  },
  {
   "cell_type": "code",
   "execution_count": 65,
   "metadata": {},
   "outputs": [
    {
     "data": {
      "application/vnd.jupyter.widget-view+json": {
       "model_id": "048725c1512a4785912680128f43e08e",
       "version_major": 2,
       "version_minor": 0
      },
      "text/plain": [
       "interactive(children=(FloatSlider(value=0.2, description='inner_spread', max=3.141592653589793), FloatSlider(v…"
      ]
     },
     "metadata": {},
     "output_type": "display_data"
    }
   ],
   "source": [
    "import matplotlib.pyplot as plt\n",
    "import numpy as np\n",
    "from ipywidgets import interact\n",
    "\n",
    "\n",
    "@interact(\n",
    "    inner_spread=(0, np.pi, 0.1),\n",
    "    outer_spread=(0, np.pi, 0.1),\n",
    "    start_depth=(0, 5, 0.1),\n",
    "    end_depth=(0, 5, 0.1),\n",
    ")\n",
    "def foo(\n",
    "    inner_spread=0.2,\n",
    "    outer_spread=1.2,\n",
    "    start_depth=0.5,\n",
    "    end_depth=1,\n",
    "):\n",
    "    global a\n",
    "    depths = np.linspace(start_depth, end_depth)\n",
    "    inner_azimuths = np.linspace(-inner_spread, inner_spread, 10)\n",
    "    outer_azimuths = np.linspace(-outer_spread, outer_spread, 10)\n",
    "    p = depths - depths.min()\n",
    "    p = p / p.max()\n",
    "    for inner_az, outer_az in zip(inner_azimuths, outer_azimuths):\n",
    "        az = inner_az * (1 - p) + outer_az * p\n",
    "        a = np.array([np.sin(az), np.cos(az)]) * depths\n",
    "        plt.plot(a[0], a[1], c=\"black\")\n",
    "    plt.xlim([-4, 4])\n",
    "    plt.ylim([-4, 4])\n",
    "    # Make it square\n",
    "    plt.gca().set_aspect(\"equal\", adjustable=\"box\")\n",
    "\n",
    "    plt.gca().invert_yaxis()"
   ]
  },
  {
   "cell_type": "code",
   "execution_count": 64,
   "metadata": {},
   "outputs": [
    {
     "data": {
      "text/plain": [
       "(2, 1, 50)"
      ]
     },
     "execution_count": 64,
     "metadata": {},
     "output_type": "execute_result"
    }
   ],
   "source": [
    "a.shape"
   ]
  }
 ],
 "metadata": {
  "kernelspec": {
   "display_name": "vbeam",
   "language": "python",
   "name": "python3"
  },
  "language_info": {
   "codemirror_mode": {
    "name": "ipython",
    "version": 3
   },
   "file_extension": ".py",
   "mimetype": "text/x-python",
   "name": "python",
   "nbconvert_exporter": "python",
   "pygments_lexer": "ipython3",
   "version": "3.9.17"
  },
  "orig_nbformat": 4
 },
 "nbformat": 4,
 "nbformat_minor": 2
}
